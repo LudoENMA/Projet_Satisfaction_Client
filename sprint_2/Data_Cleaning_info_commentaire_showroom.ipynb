{
 "cells": [
  {
   "cell_type": "code",
   "execution_count": 1,
   "id": "37eabce9",
   "metadata": {},
   "outputs": [],
   "source": [
    "import pandas as pd\n",
    "import numpy as np\n",
    "import os\n",
    "import csv\n",
    "from unidecode import unidecode"
   ]
  },
  {
   "cell_type": "code",
   "execution_count": 2,
   "id": "1329b5f6",
   "metadata": {},
   "outputs": [
    {
     "name": "stdout",
     "output_type": "stream",
     "text": [
      "C:\\Users\\LACINE BERTHE\\Desktop\\2022-2023\\Pole_emploi\\Formation\\Data_Scientest\\Projet\\Satisfaction_client\n"
     ]
    }
   ],
   "source": [
    "print(os.getcwd())"
   ]
  },
  {
   "cell_type": "code",
   "execution_count": 3,
   "id": "edbd20de",
   "metadata": {},
   "outputs": [
    {
     "data": {
      "text/html": [
       "<div>\n",
       "<style scoped>\n",
       "    .dataframe tbody tr th:only-of-type {\n",
       "        vertical-align: middle;\n",
       "    }\n",
       "\n",
       "    .dataframe tbody tr th {\n",
       "        vertical-align: top;\n",
       "    }\n",
       "\n",
       "    .dataframe thead th {\n",
       "        text-align: right;\n",
       "    }\n",
       "</style>\n",
       "<table border=\"1\" class=\"dataframe\">\n",
       "  <thead>\n",
       "    <tr style=\"text-align: right;\">\n",
       "      <th></th>\n",
       "      <th>Unnamed: 0</th>\n",
       "      <th>Titre comment</th>\n",
       "      <th>Date de répinse</th>\n",
       "      <th>Reponse ou non</th>\n",
       "      <th>Liste peronnes</th>\n",
       "      <th>Nombre d'étoile</th>\n",
       "    </tr>\n",
       "  </thead>\n",
       "  <tbody>\n",
       "    <tr>\n",
       "      <th>0</th>\n",
       "      <td>0</td>\n",
       "      <td>encore une commande partiellement…</td>\n",
       "      <td>NaN</td>\n",
       "      <td>True</td>\n",
       "      <td>Showroomprive.com</td>\n",
       "      <td>1</td>\n",
       "    </tr>\n",
       "    <tr>\n",
       "      <th>1</th>\n",
       "      <td>1</td>\n",
       "      <td>Très déçue</td>\n",
       "      <td>26 février 2023</td>\n",
       "      <td>True</td>\n",
       "      <td>Showroomprive.com</td>\n",
       "      <td>1</td>\n",
       "    </tr>\n",
       "    <tr>\n",
       "      <th>2</th>\n",
       "      <td>2</td>\n",
       "      <td>Je n’ai jamais reçu ma commande</td>\n",
       "      <td>NaN</td>\n",
       "      <td>True</td>\n",
       "      <td>Showroomprive.com</td>\n",
       "      <td>1</td>\n",
       "    </tr>\n",
       "    <tr>\n",
       "      <th>3</th>\n",
       "      <td>3</td>\n",
       "      <td>Showroomprive c est fini !</td>\n",
       "      <td>NaN</td>\n",
       "      <td>True</td>\n",
       "      <td>Showroomprive.com</td>\n",
       "      <td>1</td>\n",
       "    </tr>\n",
       "    <tr>\n",
       "      <th>4</th>\n",
       "      <td>4</td>\n",
       "      <td>J'ai commandé 2 colliers</td>\n",
       "      <td>26 février 2023</td>\n",
       "      <td>True</td>\n",
       "      <td>Showroomprive.com</td>\n",
       "      <td>1</td>\n",
       "    </tr>\n",
       "  </tbody>\n",
       "</table>\n",
       "</div>"
      ],
      "text/plain": [
       "   Unnamed: 0                       Titre comment  Date de répinse  \\\n",
       "0           0  encore une commande partiellement…              NaN   \n",
       "1           1                          Très déçue  26 février 2023   \n",
       "2           2     Je n’ai jamais reçu ma commande              NaN   \n",
       "3           3          Showroomprive c est fini !              NaN   \n",
       "4           4            J'ai commandé 2 colliers  26 février 2023   \n",
       "\n",
       "   Reponse ou non     Liste peronnes  Nombre d'étoile  \n",
       "0            True  Showroomprive.com                1  \n",
       "1            True  Showroomprive.com                1  \n",
       "2            True  Showroomprive.com                1  \n",
       "3            True  Showroomprive.com                1  \n",
       "4            True  Showroomprive.com                1  "
      ]
     },
     "execution_count": 3,
     "metadata": {},
     "output_type": "execute_result"
    }
   ],
   "source": [
    "df=pd.read_csv('C:/Users/LACINE BERTHE/Desktop/2022-2023/Pole_emploi/Formation/Data_Scientest/Projet/Satisfaction_client/Infos_Commentaire.csv')\n",
    "df.head()"
   ]
  },
  {
   "cell_type": "code",
   "execution_count": 4,
   "id": "cecb129c",
   "metadata": {},
   "outputs": [
    {
     "data": {
      "text/html": [
       "<div>\n",
       "<style scoped>\n",
       "    .dataframe tbody tr th:only-of-type {\n",
       "        vertical-align: middle;\n",
       "    }\n",
       "\n",
       "    .dataframe tbody tr th {\n",
       "        vertical-align: top;\n",
       "    }\n",
       "\n",
       "    .dataframe thead th {\n",
       "        text-align: right;\n",
       "    }\n",
       "</style>\n",
       "<table border=\"1\" class=\"dataframe\">\n",
       "  <thead>\n",
       "    <tr style=\"text-align: right;\">\n",
       "      <th></th>\n",
       "      <th>Titre comment</th>\n",
       "      <th>Date de répinse</th>\n",
       "      <th>Reponse ou non</th>\n",
       "      <th>Liste peronnes</th>\n",
       "      <th>Nombre d'étoile</th>\n",
       "    </tr>\n",
       "  </thead>\n",
       "  <tbody>\n",
       "    <tr>\n",
       "      <th>0</th>\n",
       "      <td>encore une commande partiellement…</td>\n",
       "      <td>NaN</td>\n",
       "      <td>True</td>\n",
       "      <td>Showroomprive.com</td>\n",
       "      <td>1</td>\n",
       "    </tr>\n",
       "    <tr>\n",
       "      <th>1</th>\n",
       "      <td>Très déçue</td>\n",
       "      <td>26 février 2023</td>\n",
       "      <td>True</td>\n",
       "      <td>Showroomprive.com</td>\n",
       "      <td>1</td>\n",
       "    </tr>\n",
       "    <tr>\n",
       "      <th>2</th>\n",
       "      <td>Je n’ai jamais reçu ma commande</td>\n",
       "      <td>NaN</td>\n",
       "      <td>True</td>\n",
       "      <td>Showroomprive.com</td>\n",
       "      <td>1</td>\n",
       "    </tr>\n",
       "    <tr>\n",
       "      <th>3</th>\n",
       "      <td>Showroomprive c est fini !</td>\n",
       "      <td>NaN</td>\n",
       "      <td>True</td>\n",
       "      <td>Showroomprive.com</td>\n",
       "      <td>1</td>\n",
       "    </tr>\n",
       "    <tr>\n",
       "      <th>4</th>\n",
       "      <td>J'ai commandé 2 colliers</td>\n",
       "      <td>26 février 2023</td>\n",
       "      <td>True</td>\n",
       "      <td>Showroomprive.com</td>\n",
       "      <td>1</td>\n",
       "    </tr>\n",
       "  </tbody>\n",
       "</table>\n",
       "</div>"
      ],
      "text/plain": [
       "                        Titre comment  Date de répinse  Reponse ou non  \\\n",
       "0  encore une commande partiellement…              NaN            True   \n",
       "1                          Très déçue  26 février 2023            True   \n",
       "2     Je n’ai jamais reçu ma commande              NaN            True   \n",
       "3          Showroomprive c est fini !              NaN            True   \n",
       "4            J'ai commandé 2 colliers  26 février 2023            True   \n",
       "\n",
       "      Liste peronnes  Nombre d'étoile  \n",
       "0  Showroomprive.com                1  \n",
       "1  Showroomprive.com                1  \n",
       "2  Showroomprive.com                1  \n",
       "3  Showroomprive.com                1  \n",
       "4  Showroomprive.com                1  "
      ]
     },
     "execution_count": 4,
     "metadata": {},
     "output_type": "execute_result"
    }
   ],
   "source": [
    "df=df.drop(df.columns[0], axis=1)\n",
    "df.head()"
   ]
  },
  {
   "cell_type": "code",
   "execution_count": 5,
   "id": "1bf357be",
   "metadata": {},
   "outputs": [
    {
     "data": {
      "text/plain": [
       "Index(['Titre comment', 'Date de répinse', 'Reponse ou non', 'Liste peronnes',\n",
       "       'Nombre d'étoile'],\n",
       "      dtype='object')"
      ]
     },
     "execution_count": 5,
     "metadata": {},
     "output_type": "execute_result"
    }
   ],
   "source": [
    "df.columns"
   ]
  },
  {
   "cell_type": "code",
   "execution_count": 6,
   "id": "755e35da",
   "metadata": {},
   "outputs": [
    {
     "data": {
      "text/plain": [
       "(498, 5)"
      ]
     },
     "execution_count": 6,
     "metadata": {},
     "output_type": "execute_result"
    }
   ],
   "source": [
    "df.shape"
   ]
  },
  {
   "cell_type": "code",
   "execution_count": 7,
   "id": "ae53e33e",
   "metadata": {},
   "outputs": [],
   "source": [
    "df.to_csv('info_commentaire.csv',index=False)"
   ]
  },
  {
   "cell_type": "code",
   "execution_count": 8,
   "id": "6ade72f2",
   "metadata": {},
   "outputs": [],
   "source": [
    "# ouvrir le fichier CSV original et créer un nouveau fichier pour écrire les données modifiées\n",
    "with open('info_commentaire.csv', 'r', encoding='utf-8') as fichier_original, \\\n",
    "     open('info_commentaire_sans_accents.csv', 'w', encoding='utf-8', newline='') as fichier_modifie:\n",
    "     \n",
    "    # créer un objet writer pour écrire les données modifiées\n",
    "    writer = csv.writer(fichier_modifie, delimiter=',')\n",
    "\n",
    "    # parcourir chaque ligne du fichier original, supprimer les accents et écrire les données modifiées dans le nouveau fichier\n",
    "    reader = csv.reader(fichier_original)\n",
    "    for ligne in reader:\n",
    "        nouvelle_ligne = [unidecode(cellule) for cellule in ligne]\n",
    "        writer.writerow(nouvelle_ligne)"
   ]
  },
  {
   "cell_type": "code",
   "execution_count": 10,
   "id": "c4460dbc",
   "metadata": {},
   "outputs": [
    {
     "data": {
      "text/html": [
       "<div>\n",
       "<style scoped>\n",
       "    .dataframe tbody tr th:only-of-type {\n",
       "        vertical-align: middle;\n",
       "    }\n",
       "\n",
       "    .dataframe tbody tr th {\n",
       "        vertical-align: top;\n",
       "    }\n",
       "\n",
       "    .dataframe thead th {\n",
       "        text-align: right;\n",
       "    }\n",
       "</style>\n",
       "<table border=\"1\" class=\"dataframe\">\n",
       "  <thead>\n",
       "    <tr style=\"text-align: right;\">\n",
       "      <th></th>\n",
       "      <th>id</th>\n",
       "      <th>Titre comment</th>\n",
       "      <th>Date de repinse</th>\n",
       "      <th>Reponse ou non</th>\n",
       "      <th>Liste peronnes</th>\n",
       "      <th>Nombre d'etoile</th>\n",
       "    </tr>\n",
       "  </thead>\n",
       "  <tbody>\n",
       "    <tr>\n",
       "      <th>0</th>\n",
       "      <td>0</td>\n",
       "      <td>encore une commande partiellement...</td>\n",
       "      <td>NaN</td>\n",
       "      <td>True</td>\n",
       "      <td>Showroomprive.com</td>\n",
       "      <td>1</td>\n",
       "    </tr>\n",
       "    <tr>\n",
       "      <th>1</th>\n",
       "      <td>1</td>\n",
       "      <td>Tres decue</td>\n",
       "      <td>26 fevrier 2023</td>\n",
       "      <td>True</td>\n",
       "      <td>Showroomprive.com</td>\n",
       "      <td>1</td>\n",
       "    </tr>\n",
       "    <tr>\n",
       "      <th>2</th>\n",
       "      <td>2</td>\n",
       "      <td>Je n'ai jamais recu ma commande</td>\n",
       "      <td>NaN</td>\n",
       "      <td>True</td>\n",
       "      <td>Showroomprive.com</td>\n",
       "      <td>1</td>\n",
       "    </tr>\n",
       "    <tr>\n",
       "      <th>3</th>\n",
       "      <td>3</td>\n",
       "      <td>Showroomprive c est fini !</td>\n",
       "      <td>NaN</td>\n",
       "      <td>True</td>\n",
       "      <td>Showroomprive.com</td>\n",
       "      <td>1</td>\n",
       "    </tr>\n",
       "    <tr>\n",
       "      <th>4</th>\n",
       "      <td>4</td>\n",
       "      <td>J'ai commande 2 colliers</td>\n",
       "      <td>26 fevrier 2023</td>\n",
       "      <td>True</td>\n",
       "      <td>Showroomprive.com</td>\n",
       "      <td>1</td>\n",
       "    </tr>\n",
       "  </tbody>\n",
       "</table>\n",
       "</div>"
      ],
      "text/plain": [
       "   id                         Titre comment  Date de repinse  Reponse ou non  \\\n",
       "0   0  encore une commande partiellement...              NaN            True   \n",
       "1   1                            Tres decue  26 fevrier 2023            True   \n",
       "2   2       Je n'ai jamais recu ma commande              NaN            True   \n",
       "3   3            Showroomprive c est fini !              NaN            True   \n",
       "4   4              J'ai commande 2 colliers  26 fevrier 2023            True   \n",
       "\n",
       "      Liste peronnes  Nombre d'etoile  \n",
       "0  Showroomprive.com                1  \n",
       "1  Showroomprive.com                1  \n",
       "2  Showroomprive.com                1  \n",
       "3  Showroomprive.com                1  \n",
       "4  Showroomprive.com                1  "
      ]
     },
     "execution_count": 10,
     "metadata": {},
     "output_type": "execute_result"
    }
   ],
   "source": [
    "data=pd.read_csv('C:/Users/LACINE BERTHE/Desktop/2022-2023/Pole_emploi/Formation/Data_Scientest/Projet/Satisfaction_client/info_commentaire_sans_accents.csv')\n",
    "data.insert(0, 'id', range(data.shape[0]))\n",
    "data.head()"
   ]
  },
  {
   "cell_type": "code",
   "execution_count": 11,
   "id": "f5cd6be6",
   "metadata": {},
   "outputs": [
    {
     "data": {
      "text/plain": [
       "id                  0\n",
       "Titre comment       0\n",
       "Date de repinse    98\n",
       "Reponse ou non      0\n",
       "Liste peronnes      0\n",
       "Nombre d'etoile     0\n",
       "dtype: int64"
      ]
     },
     "execution_count": 11,
     "metadata": {},
     "output_type": "execute_result"
    }
   ],
   "source": [
    "data.isna().sum()"
   ]
  },
  {
   "cell_type": "code",
   "execution_count": 13,
   "id": "f496e8d6",
   "metadata": {},
   "outputs": [],
   "source": [
    "data.to_csv('showroom_commentaire.csv',index=False)"
   ]
  },
  {
   "cell_type": "code",
   "execution_count": null,
   "id": "51798097",
   "metadata": {},
   "outputs": [],
   "source": []
  }
 ],
 "metadata": {
  "kernelspec": {
   "display_name": "Python 3 (ipykernel)",
   "language": "python",
   "name": "python3"
  },
  "language_info": {
   "codemirror_mode": {
    "name": "ipython",
    "version": 3
   },
   "file_extension": ".py",
   "mimetype": "text/x-python",
   "name": "python",
   "nbconvert_exporter": "python",
   "pygments_lexer": "ipython3",
   "version": "3.9.7"
  }
 },
 "nbformat": 4,
 "nbformat_minor": 5
}
