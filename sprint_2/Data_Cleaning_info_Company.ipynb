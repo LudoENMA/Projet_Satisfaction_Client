{
 "cells": [
  {
   "cell_type": "code",
   "execution_count": 1,
   "id": "a4885e75",
   "metadata": {},
   "outputs": [],
   "source": [
    "import pandas as pd\n",
    "import numpy as np\n",
    "import os\n",
    "import csv\n",
    "from unidecode import unidecode"
   ]
  },
  {
   "cell_type": "code",
   "execution_count": 2,
   "id": "5cf7963d",
   "metadata": {},
   "outputs": [
    {
     "name": "stdout",
     "output_type": "stream",
     "text": [
      "C:\\Users\\LACINE BERTHE\\Desktop\\2022-2023\\Pole_emploi\\Formation\\Data_Scientest\\Projet\\Satisfaction_client\n"
     ]
    }
   ],
   "source": [
    "print(os.getcwd())"
   ]
  },
  {
   "cell_type": "code",
   "execution_count": 3,
   "id": "bc412f15",
   "metadata": {},
   "outputs": [
    {
     "data": {
      "text/html": [
       "<div>\n",
       "<style scoped>\n",
       "    .dataframe tbody tr th:only-of-type {\n",
       "        vertical-align: middle;\n",
       "    }\n",
       "\n",
       "    .dataframe tbody tr th {\n",
       "        vertical-align: top;\n",
       "    }\n",
       "\n",
       "    .dataframe thead th {\n",
       "        text-align: right;\n",
       "    }\n",
       "</style>\n",
       "<table border=\"1\" class=\"dataframe\">\n",
       "  <thead>\n",
       "    <tr style=\"text-align: right;\">\n",
       "      <th></th>\n",
       "      <th>Unnamed: 0</th>\n",
       "      <th>Name_company</th>\n",
       "      <th>Note trust pilot</th>\n",
       "      <th>Nombre avis</th>\n",
       "      <th>Localisation company</th>\n",
       "      <th>Domaine d activité</th>\n",
       "      <th>nombre d'avis excellent</th>\n",
       "    </tr>\n",
       "  </thead>\n",
       "  <tbody>\n",
       "    <tr>\n",
       "      <th>0</th>\n",
       "      <td>0</td>\n",
       "      <td>Immoprêt</td>\n",
       "      <td>4,9</td>\n",
       "      <td>5 265</td>\n",
       "      <td>Lille, France</td>\n",
       "      <td>Banque</td>\n",
       "      <td>82 %</td>\n",
       "    </tr>\n",
       "    <tr>\n",
       "      <th>1</th>\n",
       "      <td>1</td>\n",
       "      <td>Younited Credit</td>\n",
       "      <td>4,8</td>\n",
       "      <td>60 845</td>\n",
       "      <td>Paris, France</td>\n",
       "      <td>Agence de crédit·Banque</td>\n",
       "      <td>81 %</td>\n",
       "    </tr>\n",
       "    <tr>\n",
       "      <th>2</th>\n",
       "      <td>2</td>\n",
       "      <td>CIB Formation</td>\n",
       "      <td>4,8</td>\n",
       "      <td>498</td>\n",
       "      <td>SAINT ETIENNE, France</td>\n",
       "      <td>Banque</td>\n",
       "      <td>79 %</td>\n",
       "    </tr>\n",
       "    <tr>\n",
       "      <th>3</th>\n",
       "      <td>3</td>\n",
       "      <td>Cofidis</td>\n",
       "      <td>4,7</td>\n",
       "      <td>17 699</td>\n",
       "      <td>Villeneuve d'Ascq Cedex, France</td>\n",
       "      <td>Banque</td>\n",
       "      <td>86 %</td>\n",
       "    </tr>\n",
       "    <tr>\n",
       "      <th>4</th>\n",
       "      <td>4</td>\n",
       "      <td>Pixpay</td>\n",
       "      <td>4,7</td>\n",
       "      <td>3 065</td>\n",
       "      <td>NaN</td>\n",
       "      <td>Banque</td>\n",
       "      <td>85 %</td>\n",
       "    </tr>\n",
       "  </tbody>\n",
       "</table>\n",
       "</div>"
      ],
      "text/plain": [
       "   Unnamed: 0     Name_company Note trust pilot Nombre avis  \\\n",
       "0           0         Immoprêt              4,9       5 265   \n",
       "1           1  Younited Credit              4,8      60 845   \n",
       "2           2    CIB Formation              4,8         498   \n",
       "3           3          Cofidis              4,7      17 699   \n",
       "4           4           Pixpay              4,7       3 065   \n",
       "\n",
       "              Localisation company       Domaine d activité  \\\n",
       "0                    Lille, France                   Banque   \n",
       "1                    Paris, France  Agence de crédit·Banque   \n",
       "2            SAINT ETIENNE, France                   Banque   \n",
       "3  Villeneuve d'Ascq Cedex, France                   Banque   \n",
       "4                              NaN                   Banque   \n",
       "\n",
       "  nombre d'avis excellent  \n",
       "0                    82 %  \n",
       "1                    81 %  \n",
       "2                    79 %  \n",
       "3                    86 %  \n",
       "4                    85 %  "
      ]
     },
     "execution_count": 3,
     "metadata": {},
     "output_type": "execute_result"
    }
   ],
   "source": [
    "df=pd.read_csv('C:/Users/LACINE BERTHE/Desktop/2022-2023/Pole_emploi/Formation/Data_Scientest/Projet/Satisfaction_client/infos_company2.csv')\n",
    "df.head()"
   ]
  },
  {
   "cell_type": "code",
   "execution_count": 4,
   "id": "993cbbc7",
   "metadata": {},
   "outputs": [
    {
     "data": {
      "text/html": [
       "<div>\n",
       "<style scoped>\n",
       "    .dataframe tbody tr th:only-of-type {\n",
       "        vertical-align: middle;\n",
       "    }\n",
       "\n",
       "    .dataframe tbody tr th {\n",
       "        vertical-align: top;\n",
       "    }\n",
       "\n",
       "    .dataframe thead th {\n",
       "        text-align: right;\n",
       "    }\n",
       "</style>\n",
       "<table border=\"1\" class=\"dataframe\">\n",
       "  <thead>\n",
       "    <tr style=\"text-align: right;\">\n",
       "      <th></th>\n",
       "      <th>Name_company</th>\n",
       "      <th>Note trust pilot</th>\n",
       "      <th>Nombre avis</th>\n",
       "      <th>Localisation company</th>\n",
       "      <th>Domaine d activité</th>\n",
       "      <th>nombre d'avis excellent</th>\n",
       "    </tr>\n",
       "  </thead>\n",
       "  <tbody>\n",
       "    <tr>\n",
       "      <th>0</th>\n",
       "      <td>Immoprêt</td>\n",
       "      <td>4,9</td>\n",
       "      <td>5 265</td>\n",
       "      <td>Lille, France</td>\n",
       "      <td>Banque</td>\n",
       "      <td>82 %</td>\n",
       "    </tr>\n",
       "    <tr>\n",
       "      <th>1</th>\n",
       "      <td>Younited Credit</td>\n",
       "      <td>4,8</td>\n",
       "      <td>60 845</td>\n",
       "      <td>Paris, France</td>\n",
       "      <td>Agence de crédit·Banque</td>\n",
       "      <td>81 %</td>\n",
       "    </tr>\n",
       "    <tr>\n",
       "      <th>2</th>\n",
       "      <td>CIB Formation</td>\n",
       "      <td>4,8</td>\n",
       "      <td>498</td>\n",
       "      <td>SAINT ETIENNE, France</td>\n",
       "      <td>Banque</td>\n",
       "      <td>79 %</td>\n",
       "    </tr>\n",
       "    <tr>\n",
       "      <th>3</th>\n",
       "      <td>Cofidis</td>\n",
       "      <td>4,7</td>\n",
       "      <td>17 699</td>\n",
       "      <td>Villeneuve d'Ascq Cedex, France</td>\n",
       "      <td>Banque</td>\n",
       "      <td>86 %</td>\n",
       "    </tr>\n",
       "    <tr>\n",
       "      <th>4</th>\n",
       "      <td>Pixpay</td>\n",
       "      <td>4,7</td>\n",
       "      <td>3 065</td>\n",
       "      <td>NaN</td>\n",
       "      <td>Banque</td>\n",
       "      <td>85 %</td>\n",
       "    </tr>\n",
       "  </tbody>\n",
       "</table>\n",
       "</div>"
      ],
      "text/plain": [
       "      Name_company Note trust pilot Nombre avis  \\\n",
       "0         Immoprêt              4,9       5 265   \n",
       "1  Younited Credit              4,8      60 845   \n",
       "2    CIB Formation              4,8         498   \n",
       "3          Cofidis              4,7      17 699   \n",
       "4           Pixpay              4,7       3 065   \n",
       "\n",
       "              Localisation company       Domaine d activité  \\\n",
       "0                    Lille, France                   Banque   \n",
       "1                    Paris, France  Agence de crédit·Banque   \n",
       "2            SAINT ETIENNE, France                   Banque   \n",
       "3  Villeneuve d'Ascq Cedex, France                   Banque   \n",
       "4                              NaN                   Banque   \n",
       "\n",
       "  nombre d'avis excellent  \n",
       "0                    82 %  \n",
       "1                    81 %  \n",
       "2                    79 %  \n",
       "3                    86 %  \n",
       "4                    85 %  "
      ]
     },
     "execution_count": 4,
     "metadata": {},
     "output_type": "execute_result"
    }
   ],
   "source": [
    "df=df.drop(df.columns[0], axis=1)\n",
    "df.head()"
   ]
  },
  {
   "cell_type": "code",
   "execution_count": 5,
   "id": "7f7b77c5",
   "metadata": {},
   "outputs": [
    {
     "data": {
      "text/plain": [
       "Index(['Name_company', 'Note trust pilot', 'Nombre avis',\n",
       "       'Localisation company', 'Domaine d activité',\n",
       "       'nombre d'avis excellent'],\n",
       "      dtype='object')"
      ]
     },
     "execution_count": 5,
     "metadata": {},
     "output_type": "execute_result"
    }
   ],
   "source": [
    "df.columns"
   ]
  },
  {
   "cell_type": "code",
   "execution_count": 9,
   "id": "8217f449",
   "metadata": {},
   "outputs": [],
   "source": [
    "df.to_csv('info_company.csv',index=False)"
   ]
  },
  {
   "cell_type": "code",
   "execution_count": 10,
   "id": "1f7fe1cd",
   "metadata": {},
   "outputs": [],
   "source": [
    "# ouvrir le fichier CSV original et créer un nouveau fichier pour écrire les données modifiées\n",
    "with open('info_company.csv', 'r', encoding='utf-8') as fichier_original, \\\n",
    "     open('info_company_sans_accents.csv', 'w', encoding='utf-8', newline='') as fichier_modifie:\n",
    "     \n",
    "    # créer un objet writer pour écrire les données modifiées\n",
    "    writer = csv.writer(fichier_modifie, delimiter=',')\n",
    "\n",
    "    # parcourir chaque ligne du fichier original, supprimer les accents et écrire les données modifiées dans le nouveau fichier\n",
    "    reader = csv.reader(fichier_original)\n",
    "    for ligne in reader:\n",
    "        nouvelle_ligne = [unidecode(cellule) for cellule in ligne]\n",
    "        writer.writerow(nouvelle_ligne)"
   ]
  },
  {
   "cell_type": "code",
   "execution_count": 13,
   "id": "7b46d68d",
   "metadata": {},
   "outputs": [
    {
     "data": {
      "text/plain": [
       "(360, 6)"
      ]
     },
     "execution_count": 13,
     "metadata": {},
     "output_type": "execute_result"
    }
   ],
   "source": [
    "df.shape"
   ]
  },
  {
   "cell_type": "code",
   "execution_count": 11,
   "id": "a6211aaa",
   "metadata": {},
   "outputs": [
    {
     "data": {
      "text/html": [
       "<div>\n",
       "<style scoped>\n",
       "    .dataframe tbody tr th:only-of-type {\n",
       "        vertical-align: middle;\n",
       "    }\n",
       "\n",
       "    .dataframe tbody tr th {\n",
       "        vertical-align: top;\n",
       "    }\n",
       "\n",
       "    .dataframe thead th {\n",
       "        text-align: right;\n",
       "    }\n",
       "</style>\n",
       "<table border=\"1\" class=\"dataframe\">\n",
       "  <thead>\n",
       "    <tr style=\"text-align: right;\">\n",
       "      <th></th>\n",
       "      <th>Name_company</th>\n",
       "      <th>Note trust pilot</th>\n",
       "      <th>Nombre avis</th>\n",
       "      <th>Localisation company</th>\n",
       "      <th>Domaine d activite</th>\n",
       "      <th>nombre d'avis excellent</th>\n",
       "    </tr>\n",
       "  </thead>\n",
       "  <tbody>\n",
       "    <tr>\n",
       "      <th>0</th>\n",
       "      <td>Immopret</td>\n",
       "      <td>4,9</td>\n",
       "      <td>5 265</td>\n",
       "      <td>Lille, France</td>\n",
       "      <td>Banque</td>\n",
       "      <td>82 %</td>\n",
       "    </tr>\n",
       "    <tr>\n",
       "      <th>1</th>\n",
       "      <td>Younited Credit</td>\n",
       "      <td>4,8</td>\n",
       "      <td>60 845</td>\n",
       "      <td>Paris, France</td>\n",
       "      <td>Agence de credit*Banque</td>\n",
       "      <td>81 %</td>\n",
       "    </tr>\n",
       "    <tr>\n",
       "      <th>2</th>\n",
       "      <td>CIB Formation</td>\n",
       "      <td>4,8</td>\n",
       "      <td>498</td>\n",
       "      <td>SAINT ETIENNE, France</td>\n",
       "      <td>Banque</td>\n",
       "      <td>79 %</td>\n",
       "    </tr>\n",
       "    <tr>\n",
       "      <th>3</th>\n",
       "      <td>Cofidis</td>\n",
       "      <td>4,7</td>\n",
       "      <td>17 699</td>\n",
       "      <td>Villeneuve d'Ascq Cedex, France</td>\n",
       "      <td>Banque</td>\n",
       "      <td>86 %</td>\n",
       "    </tr>\n",
       "    <tr>\n",
       "      <th>4</th>\n",
       "      <td>Pixpay</td>\n",
       "      <td>4,7</td>\n",
       "      <td>3 065</td>\n",
       "      <td>NaN</td>\n",
       "      <td>Banque</td>\n",
       "      <td>85 %</td>\n",
       "    </tr>\n",
       "  </tbody>\n",
       "</table>\n",
       "</div>"
      ],
      "text/plain": [
       "      Name_company Note trust pilot Nombre avis  \\\n",
       "0         Immopret              4,9       5 265   \n",
       "1  Younited Credit              4,8      60 845   \n",
       "2    CIB Formation              4,8         498   \n",
       "3          Cofidis              4,7      17 699   \n",
       "4           Pixpay              4,7       3 065   \n",
       "\n",
       "              Localisation company       Domaine d activite  \\\n",
       "0                    Lille, France                   Banque   \n",
       "1                    Paris, France  Agence de credit*Banque   \n",
       "2            SAINT ETIENNE, France                   Banque   \n",
       "3  Villeneuve d'Ascq Cedex, France                   Banque   \n",
       "4                              NaN                   Banque   \n",
       "\n",
       "  nombre d'avis excellent  \n",
       "0                    82 %  \n",
       "1                    81 %  \n",
       "2                    79 %  \n",
       "3                    86 %  \n",
       "4                    85 %  "
      ]
     },
     "execution_count": 11,
     "metadata": {},
     "output_type": "execute_result"
    }
   ],
   "source": [
    "data=pd.read_csv('C:/Users/LACINE BERTHE/Desktop/2022-2023/Pole_emploi/Formation/Data_Scientest/Projet/Satisfaction_client/info_company_sans_accents.csv')\n",
    "data.head()"
   ]
  },
  {
   "cell_type": "code",
   "execution_count": 14,
   "id": "3f6387ba",
   "metadata": {},
   "outputs": [],
   "source": [
    "data.insert(0, 'id', range(data.shape[0]))"
   ]
  },
  {
   "cell_type": "code",
   "execution_count": 15,
   "id": "e7681209",
   "metadata": {},
   "outputs": [
    {
     "data": {
      "text/html": [
       "<div>\n",
       "<style scoped>\n",
       "    .dataframe tbody tr th:only-of-type {\n",
       "        vertical-align: middle;\n",
       "    }\n",
       "\n",
       "    .dataframe tbody tr th {\n",
       "        vertical-align: top;\n",
       "    }\n",
       "\n",
       "    .dataframe thead th {\n",
       "        text-align: right;\n",
       "    }\n",
       "</style>\n",
       "<table border=\"1\" class=\"dataframe\">\n",
       "  <thead>\n",
       "    <tr style=\"text-align: right;\">\n",
       "      <th></th>\n",
       "      <th>id</th>\n",
       "      <th>Name_company</th>\n",
       "      <th>Note trust pilot</th>\n",
       "      <th>Nombre avis</th>\n",
       "      <th>Localisation company</th>\n",
       "      <th>Domaine d activite</th>\n",
       "      <th>nombre d'avis excellent</th>\n",
       "    </tr>\n",
       "  </thead>\n",
       "  <tbody>\n",
       "    <tr>\n",
       "      <th>0</th>\n",
       "      <td>0</td>\n",
       "      <td>Immopret</td>\n",
       "      <td>4,9</td>\n",
       "      <td>5 265</td>\n",
       "      <td>Lille, France</td>\n",
       "      <td>Banque</td>\n",
       "      <td>82 %</td>\n",
       "    </tr>\n",
       "    <tr>\n",
       "      <th>1</th>\n",
       "      <td>1</td>\n",
       "      <td>Younited Credit</td>\n",
       "      <td>4,8</td>\n",
       "      <td>60 845</td>\n",
       "      <td>Paris, France</td>\n",
       "      <td>Agence de credit*Banque</td>\n",
       "      <td>81 %</td>\n",
       "    </tr>\n",
       "    <tr>\n",
       "      <th>2</th>\n",
       "      <td>2</td>\n",
       "      <td>CIB Formation</td>\n",
       "      <td>4,8</td>\n",
       "      <td>498</td>\n",
       "      <td>SAINT ETIENNE, France</td>\n",
       "      <td>Banque</td>\n",
       "      <td>79 %</td>\n",
       "    </tr>\n",
       "    <tr>\n",
       "      <th>3</th>\n",
       "      <td>3</td>\n",
       "      <td>Cofidis</td>\n",
       "      <td>4,7</td>\n",
       "      <td>17 699</td>\n",
       "      <td>Villeneuve d'Ascq Cedex, France</td>\n",
       "      <td>Banque</td>\n",
       "      <td>86 %</td>\n",
       "    </tr>\n",
       "    <tr>\n",
       "      <th>4</th>\n",
       "      <td>4</td>\n",
       "      <td>Pixpay</td>\n",
       "      <td>4,7</td>\n",
       "      <td>3 065</td>\n",
       "      <td>NaN</td>\n",
       "      <td>Banque</td>\n",
       "      <td>85 %</td>\n",
       "    </tr>\n",
       "  </tbody>\n",
       "</table>\n",
       "</div>"
      ],
      "text/plain": [
       "   id     Name_company Note trust pilot Nombre avis  \\\n",
       "0   0         Immopret              4,9       5 265   \n",
       "1   1  Younited Credit              4,8      60 845   \n",
       "2   2    CIB Formation              4,8         498   \n",
       "3   3          Cofidis              4,7      17 699   \n",
       "4   4           Pixpay              4,7       3 065   \n",
       "\n",
       "              Localisation company       Domaine d activite  \\\n",
       "0                    Lille, France                   Banque   \n",
       "1                    Paris, France  Agence de credit*Banque   \n",
       "2            SAINT ETIENNE, France                   Banque   \n",
       "3  Villeneuve d'Ascq Cedex, France                   Banque   \n",
       "4                              NaN                   Banque   \n",
       "\n",
       "  nombre d'avis excellent  \n",
       "0                    82 %  \n",
       "1                    81 %  \n",
       "2                    79 %  \n",
       "3                    86 %  \n",
       "4                    85 %  "
      ]
     },
     "execution_count": 15,
     "metadata": {},
     "output_type": "execute_result"
    }
   ],
   "source": [
    "data.head()"
   ]
  },
  {
   "cell_type": "code",
   "execution_count": 16,
   "id": "68e1e15f",
   "metadata": {},
   "outputs": [],
   "source": [
    "data['Note trust pilot'] = data['Note trust pilot'].str.strip('\"')\n",
    "data['Note trust pilot'] = data['Note trust pilot'].replace(',', '.', regex=True)\n",
    "data['Nombre avis'] = data['Nombre avis'].str.replace(' ', '')"
   ]
  },
  {
   "cell_type": "code",
   "execution_count": 11,
   "id": "b907bed4",
   "metadata": {},
   "outputs": [
    {
     "data": {
      "text/plain": [
       "id                       int64\n",
       "Name_company            object\n",
       "Note trust pilot        object\n",
       "Nombre avis             object\n",
       "Localisation company    object\n",
       "Domaine d activite      object\n",
       "dtype: object"
      ]
     },
     "execution_count": 11,
     "metadata": {},
     "output_type": "execute_result"
    }
   ],
   "source": [
    "data.dtypes"
   ]
  },
  {
   "cell_type": "code",
   "execution_count": 12,
   "id": "fe24f4f8",
   "metadata": {},
   "outputs": [
    {
     "data": {
      "text/plain": [
       "0       5257\n",
       "1      60705\n",
       "2      17591\n",
       "3       6269\n",
       "4        498\n",
       "       ...  \n",
       "175       80\n",
       "176       34\n",
       "177       30\n",
       "178       28\n",
       "179       75\n",
       "Name: Nombre avis, Length: 180, dtype: object"
      ]
     },
     "execution_count": 12,
     "metadata": {},
     "output_type": "execute_result"
    }
   ],
   "source": [
    "data['Nombre avis']"
   ]
  },
  {
   "cell_type": "code",
   "execution_count": 17,
   "id": "85eca561",
   "metadata": {},
   "outputs": [
    {
     "data": {
      "text/html": [
       "<div>\n",
       "<style scoped>\n",
       "    .dataframe tbody tr th:only-of-type {\n",
       "        vertical-align: middle;\n",
       "    }\n",
       "\n",
       "    .dataframe tbody tr th {\n",
       "        vertical-align: top;\n",
       "    }\n",
       "\n",
       "    .dataframe thead th {\n",
       "        text-align: right;\n",
       "    }\n",
       "</style>\n",
       "<table border=\"1\" class=\"dataframe\">\n",
       "  <thead>\n",
       "    <tr style=\"text-align: right;\">\n",
       "      <th></th>\n",
       "      <th>id</th>\n",
       "      <th>Name_company</th>\n",
       "      <th>Note trust pilot</th>\n",
       "      <th>Nombre avis</th>\n",
       "      <th>Localisation company</th>\n",
       "      <th>Domaine d activite</th>\n",
       "      <th>nombre d'avis excellent</th>\n",
       "    </tr>\n",
       "  </thead>\n",
       "  <tbody>\n",
       "    <tr>\n",
       "      <th>0</th>\n",
       "      <td>0</td>\n",
       "      <td>Immopret</td>\n",
       "      <td>4.9</td>\n",
       "      <td>5265</td>\n",
       "      <td>Lille, France</td>\n",
       "      <td>Banque</td>\n",
       "      <td>82 %</td>\n",
       "    </tr>\n",
       "    <tr>\n",
       "      <th>1</th>\n",
       "      <td>1</td>\n",
       "      <td>Younited Credit</td>\n",
       "      <td>4.8</td>\n",
       "      <td>60845</td>\n",
       "      <td>Paris, France</td>\n",
       "      <td>Agence de credit*Banque</td>\n",
       "      <td>81 %</td>\n",
       "    </tr>\n",
       "    <tr>\n",
       "      <th>2</th>\n",
       "      <td>2</td>\n",
       "      <td>CIB Formation</td>\n",
       "      <td>4.8</td>\n",
       "      <td>498</td>\n",
       "      <td>SAINT ETIENNE, France</td>\n",
       "      <td>Banque</td>\n",
       "      <td>79 %</td>\n",
       "    </tr>\n",
       "    <tr>\n",
       "      <th>3</th>\n",
       "      <td>3</td>\n",
       "      <td>Cofidis</td>\n",
       "      <td>4.7</td>\n",
       "      <td>17699</td>\n",
       "      <td>Villeneuve d'Ascq Cedex, France</td>\n",
       "      <td>Banque</td>\n",
       "      <td>86 %</td>\n",
       "    </tr>\n",
       "    <tr>\n",
       "      <th>4</th>\n",
       "      <td>4</td>\n",
       "      <td>Pixpay</td>\n",
       "      <td>4.7</td>\n",
       "      <td>3065</td>\n",
       "      <td>NaN</td>\n",
       "      <td>Banque</td>\n",
       "      <td>85 %</td>\n",
       "    </tr>\n",
       "  </tbody>\n",
       "</table>\n",
       "</div>"
      ],
      "text/plain": [
       "   id     Name_company Note trust pilot Nombre avis  \\\n",
       "0   0         Immopret              4.9        5265   \n",
       "1   1  Younited Credit              4.8       60845   \n",
       "2   2    CIB Formation              4.8         498   \n",
       "3   3          Cofidis              4.7       17699   \n",
       "4   4           Pixpay              4.7        3065   \n",
       "\n",
       "              Localisation company       Domaine d activite  \\\n",
       "0                    Lille, France                   Banque   \n",
       "1                    Paris, France  Agence de credit*Banque   \n",
       "2            SAINT ETIENNE, France                   Banque   \n",
       "3  Villeneuve d'Ascq Cedex, France                   Banque   \n",
       "4                              NaN                   Banque   \n",
       "\n",
       "  nombre d'avis excellent  \n",
       "0                    82 %  \n",
       "1                    81 %  \n",
       "2                    79 %  \n",
       "3                    86 %  \n",
       "4                    85 %  "
      ]
     },
     "execution_count": 17,
     "metadata": {},
     "output_type": "execute_result"
    }
   ],
   "source": [
    "data.head()"
   ]
  },
  {
   "cell_type": "code",
   "execution_count": 18,
   "id": "6e01a2d6",
   "metadata": {},
   "outputs": [
    {
     "data": {
      "text/plain": [
       "id                           0\n",
       "Name_company                38\n",
       "Note trust pilot            40\n",
       "Nombre avis                 40\n",
       "Localisation company       118\n",
       "Domaine d activite          38\n",
       "nombre d'avis excellent     38\n",
       "dtype: int64"
      ]
     },
     "execution_count": 18,
     "metadata": {},
     "output_type": "execute_result"
    }
   ],
   "source": [
    "data.isna().sum()"
   ]
  },
  {
   "cell_type": "code",
   "execution_count": 19,
   "id": "cb30e947",
   "metadata": {},
   "outputs": [
    {
     "data": {
      "text/plain": [
       "(360, 7)"
      ]
     },
     "execution_count": 19,
     "metadata": {},
     "output_type": "execute_result"
    }
   ],
   "source": [
    "data.shape"
   ]
  },
  {
   "cell_type": "code",
   "execution_count": 21,
   "id": "d09de3dc",
   "metadata": {},
   "outputs": [],
   "source": [
    "data.to_csv('company.csv',index=False)"
   ]
  },
  {
   "cell_type": "code",
   "execution_count": null,
   "id": "c8e263e6",
   "metadata": {},
   "outputs": [],
   "source": []
  }
 ],
 "metadata": {
  "kernelspec": {
   "display_name": "Python 3 (ipykernel)",
   "language": "python",
   "name": "python3"
  },
  "language_info": {
   "codemirror_mode": {
    "name": "ipython",
    "version": 3
   },
   "file_extension": ".py",
   "mimetype": "text/x-python",
   "name": "python",
   "nbconvert_exporter": "python",
   "pygments_lexer": "ipython3",
   "version": "3.9.7"
  }
 },
 "nbformat": 4,
 "nbformat_minor": 5
}
