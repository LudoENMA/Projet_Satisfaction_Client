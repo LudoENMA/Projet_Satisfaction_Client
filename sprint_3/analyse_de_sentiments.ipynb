{
 "cells": [
  {
   "cell_type": "code",
   "execution_count": 1,
   "id": "6b392b91",
   "metadata": {},
   "outputs": [
    {
     "name": "stdout",
     "output_type": "stream",
     "text": [
      "7220\n"
     ]
    },
    {
     "data": {
      "text/html": [
       "<div>\n",
       "<style scoped>\n",
       "    .dataframe tbody tr th:only-of-type {\n",
       "        vertical-align: middle;\n",
       "    }\n",
       "\n",
       "    .dataframe tbody tr th {\n",
       "        vertical-align: top;\n",
       "    }\n",
       "\n",
       "    .dataframe thead th {\n",
       "        text-align: right;\n",
       "    }\n",
       "</style>\n",
       "<table border=\"1\" class=\"dataframe\">\n",
       "  <thead>\n",
       "    <tr style=\"text-align: right;\">\n",
       "      <th></th>\n",
       "      <th>Unnamed: 0</th>\n",
       "      <th>TITRE COMMENTAIRE</th>\n",
       "      <th>DATE EXPERIENCE</th>\n",
       "      <th>COMMENTAIRE</th>\n",
       "      <th>QUI A COMMENTÉ</th>\n",
       "      <th>NOMBRE AVIS LAISSÉ PAR CETTE PERSONNE</th>\n",
       "      <th>LOCALISATION DE LA PERSONNE QUI A COMMENTÉ</th>\n",
       "      <th>PRÉSENCE D'UNE RÉPONSE (booléen)</th>\n",
       "      <th>QUI A RÉPONDU</th>\n",
       "      <th>RÉPONSE AU COMMENTAIRE</th>\n",
       "      <th>NOMBRE D'ÉTOILE</th>\n",
       "    </tr>\n",
       "  </thead>\n",
       "  <tbody>\n",
       "    <tr>\n",
       "      <th>0</th>\n",
       "      <td>0</td>\n",
       "      <td>Plus jamais !</td>\n",
       "      <td>15 mars 2023</td>\n",
       "      <td>J’ai commandé un matelas Emma via une vente pr...</td>\n",
       "      <td>Maya</td>\n",
       "      <td>2 avis</td>\n",
       "      <td>FR</td>\n",
       "      <td>True</td>\n",
       "      <td>Showroomprive.com</td>\n",
       "      <td>Bonjour Maya,\\n\\nTout d'abord, sachez que votr...</td>\n",
       "      <td>1</td>\n",
       "    </tr>\n",
       "    <tr>\n",
       "      <th>1</th>\n",
       "      <td>1</td>\n",
       "      <td>Catastrophique</td>\n",
       "      <td>15 mars 2023</td>\n",
       "      <td>Catastrophique j’avais commandé un service de ...</td>\n",
       "      <td>VL</td>\n",
       "      <td>1 avis</td>\n",
       "      <td>FR</td>\n",
       "      <td>True</td>\n",
       "      <td>Showroomprive.com</td>\n",
       "      <td>Bonjour VL,\\n\\nJe suis sincèrement navrée d'ap...</td>\n",
       "      <td>1</td>\n",
       "    </tr>\n",
       "    <tr>\n",
       "      <th>2</th>\n",
       "      <td>2</td>\n",
       "      <td>comme toujours bonne expérience</td>\n",
       "      <td>14 mars 2023</td>\n",
       "      <td>comme toujours bonne expérience, articles corr...</td>\n",
       "      <td>Madame alasia-letienne</td>\n",
       "      <td>7 avis</td>\n",
       "      <td>FR</td>\n",
       "      <td>True</td>\n",
       "      <td>Showroomprive.com</td>\n",
       "      <td>Bonjour Patricia,\\n\\nMerci d'avoir partagé vot...</td>\n",
       "      <td>4</td>\n",
       "    </tr>\n",
       "    <tr>\n",
       "      <th>3</th>\n",
       "      <td>3</td>\n",
       "      <td>Prix intéressants</td>\n",
       "      <td>15 mars 2023</td>\n",
       "      <td>Prix intéressants, envois rapide, seul bémol p...</td>\n",
       "      <td>Nathalie L</td>\n",
       "      <td>2 avis</td>\n",
       "      <td>FR</td>\n",
       "      <td>False</td>\n",
       "      <td>NaN</td>\n",
       "      <td>NaN</td>\n",
       "      <td>4</td>\n",
       "    </tr>\n",
       "    <tr>\n",
       "      <th>4</th>\n",
       "      <td>4</td>\n",
       "      <td>Les offres sont très variées</td>\n",
       "      <td>23 février 2023</td>\n",
       "      <td>Les offres sont très variées, avec des promos ...</td>\n",
       "      <td>Looda</td>\n",
       "      <td>1 avis</td>\n",
       "      <td>FR</td>\n",
       "      <td>False</td>\n",
       "      <td>NaN</td>\n",
       "      <td>NaN</td>\n",
       "      <td>4</td>\n",
       "    </tr>\n",
       "  </tbody>\n",
       "</table>\n",
       "</div>"
      ],
      "text/plain": [
       "   Unnamed: 0                TITRE COMMENTAIRE  DATE EXPERIENCE  \\\n",
       "0           0                    Plus jamais !     15 mars 2023   \n",
       "1           1                   Catastrophique     15 mars 2023   \n",
       "2           2  comme toujours bonne expérience     14 mars 2023   \n",
       "3           3                Prix intéressants     15 mars 2023   \n",
       "4           4     Les offres sont très variées  23 février 2023   \n",
       "\n",
       "                                         COMMENTAIRE          QUI A COMMENTÉ  \\\n",
       "0  J’ai commandé un matelas Emma via une vente pr...                    Maya   \n",
       "1  Catastrophique j’avais commandé un service de ...                      VL   \n",
       "2  comme toujours bonne expérience, articles corr...  Madame alasia-letienne   \n",
       "3  Prix intéressants, envois rapide, seul bémol p...              Nathalie L   \n",
       "4  Les offres sont très variées, avec des promos ...                   Looda   \n",
       "\n",
       "  NOMBRE AVIS LAISSÉ PAR CETTE PERSONNE  \\\n",
       "0                                2 avis   \n",
       "1                                1 avis   \n",
       "2                                7 avis   \n",
       "3                                2 avis   \n",
       "4                                1 avis   \n",
       "\n",
       "  LOCALISATION DE LA PERSONNE QUI A COMMENTÉ  \\\n",
       "0                                         FR   \n",
       "1                                         FR   \n",
       "2                                         FR   \n",
       "3                                         FR   \n",
       "4                                         FR   \n",
       "\n",
       "   PRÉSENCE D'UNE RÉPONSE (booléen)      QUI A RÉPONDU  \\\n",
       "0                              True  Showroomprive.com   \n",
       "1                              True  Showroomprive.com   \n",
       "2                              True  Showroomprive.com   \n",
       "3                             False                NaN   \n",
       "4                             False                NaN   \n",
       "\n",
       "                              RÉPONSE AU COMMENTAIRE  NOMBRE D'ÉTOILE  \n",
       "0  Bonjour Maya,\\n\\nTout d'abord, sachez que votr...                1  \n",
       "1  Bonjour VL,\\n\\nJe suis sincèrement navrée d'ap...                1  \n",
       "2  Bonjour Patricia,\\n\\nMerci d'avoir partagé vot...                4  \n",
       "3                                                NaN                4  \n",
       "4                                                NaN                4  "
      ]
     },
     "execution_count": 1,
     "metadata": {},
     "output_type": "execute_result"
    }
   ],
   "source": [
    "import pandas as pd\n",
    "import numpy as np\n",
    "import matplotlib.pyplot as plt\n",
    "import pandas as pd\n",
    "import numpy as np\n",
    "import warnings\n",
    "warnings.filterwarnings('ignore')\n",
    "from sklearn.model_selection import train_test_split\n",
    "from sklearn.preprocessing import StandardScaler\n",
    "from sklearn.preprocessing import LabelEncoder\n",
    "from sklearn.metrics import f1_score\n",
    "from sklearn.compose import ColumnTransformer\n",
    "from sklearn.pipeline import Pipeline\n",
    "import matplotlib.pyplot as plt\n",
    "%matplotlib inline\n",
    "\n",
    "# %matplotlib inline # ligne pour jupyter seulement \n",
    "\n",
    "import json\n",
    "import networkx as nx\n",
    "from nltk.tokenize import TweetTokenizer\n",
    "\n",
    "\n",
    "df = pd.read_csv('PART2_Infos_generales_Commentaire_complet.csv', sep = ',')\n",
    "\n",
    "print(len(df))\n",
    "\n",
    "df.head()\n"
   ]
  },
  {
   "cell_type": "code",
   "execution_count": 2,
   "id": "02800abc",
   "metadata": {},
   "outputs": [
    {
     "data": {
      "text/html": [
       "<div>\n",
       "<style scoped>\n",
       "    .dataframe tbody tr th:only-of-type {\n",
       "        vertical-align: middle;\n",
       "    }\n",
       "\n",
       "    .dataframe tbody tr th {\n",
       "        vertical-align: top;\n",
       "    }\n",
       "\n",
       "    .dataframe thead th {\n",
       "        text-align: right;\n",
       "    }\n",
       "</style>\n",
       "<table border=\"1\" class=\"dataframe\">\n",
       "  <thead>\n",
       "    <tr style=\"text-align: right;\">\n",
       "      <th></th>\n",
       "      <th>TITRE COMMENTAIRE</th>\n",
       "      <th>DATE EXPERIENCE</th>\n",
       "      <th>COMMENTAIRE</th>\n",
       "      <th>QUI A COMMENTÉ</th>\n",
       "      <th>NOMBRE AVIS LAISSÉ PAR CETTE PERSONNE</th>\n",
       "      <th>LOCALISATION DE LA PERSONNE QUI A COMMENTÉ</th>\n",
       "      <th>PRÉSENCE D'UNE RÉPONSE (booléen)</th>\n",
       "      <th>QUI A RÉPONDU</th>\n",
       "      <th>RÉPONSE AU COMMENTAIRE</th>\n",
       "      <th>NOMBRE D'ÉTOILE</th>\n",
       "    </tr>\n",
       "  </thead>\n",
       "  <tbody>\n",
       "    <tr>\n",
       "      <th>0</th>\n",
       "      <td>Plus jamais !</td>\n",
       "      <td>15 mars 2023</td>\n",
       "      <td>J’ai commandé un matelas Emma via une vente pr...</td>\n",
       "      <td>Maya</td>\n",
       "      <td>2 avis</td>\n",
       "      <td>FR</td>\n",
       "      <td>True</td>\n",
       "      <td>Showroomprive.com</td>\n",
       "      <td>Bonjour Maya,\\n\\nTout d'abord, sachez que votr...</td>\n",
       "      <td>1</td>\n",
       "    </tr>\n",
       "    <tr>\n",
       "      <th>1</th>\n",
       "      <td>Catastrophique</td>\n",
       "      <td>15 mars 2023</td>\n",
       "      <td>Catastrophique j’avais commandé un service de ...</td>\n",
       "      <td>VL</td>\n",
       "      <td>1 avis</td>\n",
       "      <td>FR</td>\n",
       "      <td>True</td>\n",
       "      <td>Showroomprive.com</td>\n",
       "      <td>Bonjour VL,\\n\\nJe suis sincèrement navrée d'ap...</td>\n",
       "      <td>1</td>\n",
       "    </tr>\n",
       "    <tr>\n",
       "      <th>2</th>\n",
       "      <td>comme toujours bonne expérience</td>\n",
       "      <td>14 mars 2023</td>\n",
       "      <td>comme toujours bonne expérience, articles corr...</td>\n",
       "      <td>Madame alasia-letienne</td>\n",
       "      <td>7 avis</td>\n",
       "      <td>FR</td>\n",
       "      <td>True</td>\n",
       "      <td>Showroomprive.com</td>\n",
       "      <td>Bonjour Patricia,\\n\\nMerci d'avoir partagé vot...</td>\n",
       "      <td>4</td>\n",
       "    </tr>\n",
       "    <tr>\n",
       "      <th>3</th>\n",
       "      <td>Prix intéressants</td>\n",
       "      <td>15 mars 2023</td>\n",
       "      <td>Prix intéressants, envois rapide, seul bémol p...</td>\n",
       "      <td>Nathalie L</td>\n",
       "      <td>2 avis</td>\n",
       "      <td>FR</td>\n",
       "      <td>False</td>\n",
       "      <td>NaN</td>\n",
       "      <td>NaN</td>\n",
       "      <td>4</td>\n",
       "    </tr>\n",
       "    <tr>\n",
       "      <th>4</th>\n",
       "      <td>Les offres sont très variées</td>\n",
       "      <td>23 février 2023</td>\n",
       "      <td>Les offres sont très variées, avec des promos ...</td>\n",
       "      <td>Looda</td>\n",
       "      <td>1 avis</td>\n",
       "      <td>FR</td>\n",
       "      <td>False</td>\n",
       "      <td>NaN</td>\n",
       "      <td>NaN</td>\n",
       "      <td>4</td>\n",
       "    </tr>\n",
       "    <tr>\n",
       "      <th>...</th>\n",
       "      <td>...</td>\n",
       "      <td>...</td>\n",
       "      <td>...</td>\n",
       "      <td>...</td>\n",
       "      <td>...</td>\n",
       "      <td>...</td>\n",
       "      <td>...</td>\n",
       "      <td>...</td>\n",
       "      <td>...</td>\n",
       "      <td>...</td>\n",
       "    </tr>\n",
       "    <tr>\n",
       "      <th>7215</th>\n",
       "      <td>Ne correspond pas à mes attentes</td>\n",
       "      <td>22 août 2022</td>\n",
       "      <td>Ne correspond pas à mes attentes .\\nEtait mieu...</td>\n",
       "      <td>Sylvie Dugleux</td>\n",
       "      <td>1 avis</td>\n",
       "      <td>FR</td>\n",
       "      <td>True</td>\n",
       "      <td>Showroomprive.com</td>\n",
       "      <td>Bonjour,\\n\\nJe suis navrée que le produit ne v...</td>\n",
       "      <td>3</td>\n",
       "    </tr>\n",
       "    <tr>\n",
       "      <th>7216</th>\n",
       "      <td>Un enfer !</td>\n",
       "      <td>22 août 2022</td>\n",
       "      <td>Un enfer !!\\nCommande jamais livrer, demande r...</td>\n",
       "      <td>Tom Durand</td>\n",
       "      <td>2 avis</td>\n",
       "      <td>FR</td>\n",
       "      <td>True</td>\n",
       "      <td>Showroomprive.com</td>\n",
       "      <td>Bonjour,\\n\\nJe n'ai pas assez d'information po...</td>\n",
       "      <td>1</td>\n",
       "    </tr>\n",
       "    <tr>\n",
       "      <th>7217</th>\n",
       "      <td>Satisfaite parfois gamme tarifaire très…</td>\n",
       "      <td>22 août 2022</td>\n",
       "      <td>Satisfaite parfois gamme tarifaire très intére...</td>\n",
       "      <td>Celine Lemee</td>\n",
       "      <td>2 avis</td>\n",
       "      <td>GF</td>\n",
       "      <td>True</td>\n",
       "      <td>Showroomprive.com</td>\n",
       "      <td>Bonjour,\\n\\nJe vous remercie pour votre appréc...</td>\n",
       "      <td>4</td>\n",
       "    </tr>\n",
       "    <tr>\n",
       "      <th>7218</th>\n",
       "      <td>Service client lamentable</td>\n",
       "      <td>22 août 2022</td>\n",
       "      <td>Cela fait depuis plus d’un mois que j’essaie d...</td>\n",
       "      <td>sarah addarsi</td>\n",
       "      <td>4 avis</td>\n",
       "      <td>BE</td>\n",
       "      <td>True</td>\n",
       "      <td>Showroomprive.com</td>\n",
       "      <td>Bonjour,\\n\\nJe suis navrée que vous ayez du av...</td>\n",
       "      <td>1</td>\n",
       "    </tr>\n",
       "    <tr>\n",
       "      <th>7219</th>\n",
       "      <td>Bon retour</td>\n",
       "      <td>22 août 2022</td>\n",
       "      <td>Produits conformes à la commande qui a été liv...</td>\n",
       "      <td>Fanny</td>\n",
       "      <td>3 avis</td>\n",
       "      <td>FR</td>\n",
       "      <td>True</td>\n",
       "      <td>Showroomprive.com</td>\n",
       "      <td>Bonjour,\\nNous vous remercions de votre confia...</td>\n",
       "      <td>5</td>\n",
       "    </tr>\n",
       "  </tbody>\n",
       "</table>\n",
       "<p>7220 rows × 10 columns</p>\n",
       "</div>"
      ],
      "text/plain": [
       "                             TITRE COMMENTAIRE  DATE EXPERIENCE  \\\n",
       "0                                Plus jamais !     15 mars 2023   \n",
       "1                               Catastrophique     15 mars 2023   \n",
       "2              comme toujours bonne expérience     14 mars 2023   \n",
       "3                            Prix intéressants     15 mars 2023   \n",
       "4                 Les offres sont très variées  23 février 2023   \n",
       "...                                        ...              ...   \n",
       "7215          Ne correspond pas à mes attentes     22 août 2022   \n",
       "7216                                Un enfer !     22 août 2022   \n",
       "7217  Satisfaite parfois gamme tarifaire très…     22 août 2022   \n",
       "7218                 Service client lamentable     22 août 2022   \n",
       "7219                                Bon retour     22 août 2022   \n",
       "\n",
       "                                            COMMENTAIRE  \\\n",
       "0     J’ai commandé un matelas Emma via une vente pr...   \n",
       "1     Catastrophique j’avais commandé un service de ...   \n",
       "2     comme toujours bonne expérience, articles corr...   \n",
       "3     Prix intéressants, envois rapide, seul bémol p...   \n",
       "4     Les offres sont très variées, avec des promos ...   \n",
       "...                                                 ...   \n",
       "7215  Ne correspond pas à mes attentes .\\nEtait mieu...   \n",
       "7216  Un enfer !!\\nCommande jamais livrer, demande r...   \n",
       "7217  Satisfaite parfois gamme tarifaire très intére...   \n",
       "7218  Cela fait depuis plus d’un mois que j’essaie d...   \n",
       "7219  Produits conformes à la commande qui a été liv...   \n",
       "\n",
       "              QUI A COMMENTÉ NOMBRE AVIS LAISSÉ PAR CETTE PERSONNE  \\\n",
       "0                       Maya                                2 avis   \n",
       "1                         VL                                1 avis   \n",
       "2     Madame alasia-letienne                                7 avis   \n",
       "3                 Nathalie L                                2 avis   \n",
       "4                      Looda                                1 avis   \n",
       "...                      ...                                   ...   \n",
       "7215          Sylvie Dugleux                                1 avis   \n",
       "7216              Tom Durand                                2 avis   \n",
       "7217            Celine Lemee                                2 avis   \n",
       "7218           sarah addarsi                                4 avis   \n",
       "7219                   Fanny                                3 avis   \n",
       "\n",
       "     LOCALISATION DE LA PERSONNE QUI A COMMENTÉ  \\\n",
       "0                                            FR   \n",
       "1                                            FR   \n",
       "2                                            FR   \n",
       "3                                            FR   \n",
       "4                                            FR   \n",
       "...                                         ...   \n",
       "7215                                         FR   \n",
       "7216                                         FR   \n",
       "7217                                         GF   \n",
       "7218                                         BE   \n",
       "7219                                         FR   \n",
       "\n",
       "      PRÉSENCE D'UNE RÉPONSE (booléen)      QUI A RÉPONDU  \\\n",
       "0                                 True  Showroomprive.com   \n",
       "1                                 True  Showroomprive.com   \n",
       "2                                 True  Showroomprive.com   \n",
       "3                                False                NaN   \n",
       "4                                False                NaN   \n",
       "...                                ...                ...   \n",
       "7215                              True  Showroomprive.com   \n",
       "7216                              True  Showroomprive.com   \n",
       "7217                              True  Showroomprive.com   \n",
       "7218                              True  Showroomprive.com   \n",
       "7219                              True  Showroomprive.com   \n",
       "\n",
       "                                 RÉPONSE AU COMMENTAIRE  NOMBRE D'ÉTOILE  \n",
       "0     Bonjour Maya,\\n\\nTout d'abord, sachez que votr...                1  \n",
       "1     Bonjour VL,\\n\\nJe suis sincèrement navrée d'ap...                1  \n",
       "2     Bonjour Patricia,\\n\\nMerci d'avoir partagé vot...                4  \n",
       "3                                                   NaN                4  \n",
       "4                                                   NaN                4  \n",
       "...                                                 ...              ...  \n",
       "7215  Bonjour,\\n\\nJe suis navrée que le produit ne v...                3  \n",
       "7216  Bonjour,\\n\\nJe n'ai pas assez d'information po...                1  \n",
       "7217  Bonjour,\\n\\nJe vous remercie pour votre appréc...                4  \n",
       "7218  Bonjour,\\n\\nJe suis navrée que vous ayez du av...                1  \n",
       "7219  Bonjour,\\nNous vous remercions de votre confia...                5  \n",
       "\n",
       "[7220 rows x 10 columns]"
      ]
     },
     "execution_count": 2,
     "metadata": {},
     "output_type": "execute_result"
    }
   ],
   "source": [
    "# Suppression de Unamed\n",
    "\n",
    "df.drop('Unnamed: 0', axis = 1)"
   ]
  },
  {
   "cell_type": "code",
   "execution_count": 3,
   "id": "a66129fe",
   "metadata": {},
   "outputs": [
    {
     "name": "stdout",
     "output_type": "stream",
     "text": [
      "<class 'pandas.core.frame.DataFrame'>\n",
      "RangeIndex: 7220 entries, 0 to 7219\n",
      "Data columns (total 11 columns):\n",
      " #   Column                                      Non-Null Count  Dtype \n",
      "---  ------                                      --------------  ----- \n",
      " 0   Unnamed: 0                                  7220 non-null   int64 \n",
      " 1   TITRE COMMENTAIRE                           7220 non-null   object\n",
      " 2   DATE EXPERIENCE                             7219 non-null   object\n",
      " 3   COMMENTAIRE                                 7220 non-null   object\n",
      " 4   QUI A COMMENTÉ                              7220 non-null   object\n",
      " 5   NOMBRE AVIS LAISSÉ PAR CETTE PERSONNE       7220 non-null   object\n",
      " 6   LOCALISATION DE LA PERSONNE QUI A COMMENTÉ  7219 non-null   object\n",
      " 7   PRÉSENCE D'UNE RÉPONSE (booléen)            7220 non-null   bool  \n",
      " 8   QUI A RÉPONDU                               7208 non-null   object\n",
      " 9   RÉPONSE AU COMMENTAIRE                      7208 non-null   object\n",
      " 10  NOMBRE D'ÉTOILE                             7220 non-null   int64 \n",
      "dtypes: bool(1), int64(2), object(8)\n",
      "memory usage: 571.2+ KB\n"
     ]
    }
   ],
   "source": [
    "df.info()"
   ]
  },
  {
   "cell_type": "code",
   "execution_count": 4,
   "id": "fb90a1dd",
   "metadata": {},
   "outputs": [
    {
     "name": "stdout",
     "output_type": "stream",
     "text": [
      "Unnamed: 0                                     0\n",
      "TITRE COMMENTAIRE                              0\n",
      "DATE EXPERIENCE                                1\n",
      "COMMENTAIRE                                    0\n",
      "QUI A COMMENTÉ                                 0\n",
      "NOMBRE AVIS LAISSÉ PAR CETTE PERSONNE          0\n",
      "LOCALISATION DE LA PERSONNE QUI A COMMENTÉ     1\n",
      "PRÉSENCE D'UNE RÉPONSE (booléen)               0\n",
      "QUI A RÉPONDU                                 12\n",
      "RÉPONSE AU COMMENTAIRE                        12\n",
      "NOMBRE D'ÉTOILE                                0\n",
      "dtype: int64\n"
     ]
    }
   ],
   "source": [
    "missing_values = df.isna().sum()\n",
    "print(missing_values)"
   ]
  },
  {
   "cell_type": "code",
   "execution_count": 5,
   "id": "361afab7",
   "metadata": {},
   "outputs": [
    {
     "name": "stdout",
     "output_type": "stream",
     "text": [
      "Unnamed: 0                                     0\n",
      "TITRE COMMENTAIRE                              0\n",
      "DATE EXPERIENCE                                0\n",
      "COMMENTAIRE                                    0\n",
      "QUI A COMMENTÉ                                 0\n",
      "NOMBRE AVIS LAISSÉ PAR CETTE PERSONNE          0\n",
      "LOCALISATION DE LA PERSONNE QUI A COMMENTÉ     0\n",
      "PRÉSENCE D'UNE RÉPONSE (booléen)               0\n",
      "QUI A RÉPONDU                                 11\n",
      "RÉPONSE AU COMMENTAIRE                        11\n",
      "NOMBRE D'ÉTOILE                                0\n",
      "dtype: int64\n"
     ]
    }
   ],
   "source": [
    "df.dropna(how='any', subset=['TITRE COMMENTAIRE', 'DATE EXPERIENCE', 'LOCALISATION DE LA PERSONNE QUI A COMMENTÉ'], inplace=True)\n",
    "missing_values2 = df.isna().sum()\n",
    "print(missing_values2)"
   ]
  },
  {
   "cell_type": "code",
   "execution_count": 6,
   "id": "0d9c5b4e",
   "metadata": {},
   "outputs": [
    {
     "data": {
      "text/html": [
       "<div>\n",
       "<style scoped>\n",
       "    .dataframe tbody tr th:only-of-type {\n",
       "        vertical-align: middle;\n",
       "    }\n",
       "\n",
       "    .dataframe tbody tr th {\n",
       "        vertical-align: top;\n",
       "    }\n",
       "\n",
       "    .dataframe thead th {\n",
       "        text-align: right;\n",
       "    }\n",
       "</style>\n",
       "<table border=\"1\" class=\"dataframe\">\n",
       "  <thead>\n",
       "    <tr style=\"text-align: right;\">\n",
       "      <th></th>\n",
       "      <th>DATE EXPERIENCE</th>\n",
       "      <th>NOMBRE AVIS LAISSÉ PAR CETTE PERSONNE</th>\n",
       "      <th>LOCALISATION DE LA PERSONNE QUI A COMMENTÉ</th>\n",
       "      <th>PRÉSENCE D'UNE RÉPONSE (booléen)</th>\n",
       "      <th>QUI A RÉPONDU</th>\n",
       "      <th>RÉPONSE AU COMMENTAIRE</th>\n",
       "      <th>NOMBRE D'ÉTOILE</th>\n",
       "      <th>COMMENTAIRE TOT</th>\n",
       "    </tr>\n",
       "  </thead>\n",
       "  <tbody>\n",
       "    <tr>\n",
       "      <th>0</th>\n",
       "      <td>15 mars 2023</td>\n",
       "      <td>2 avis</td>\n",
       "      <td>FR</td>\n",
       "      <td>True</td>\n",
       "      <td>Showroomprive.com</td>\n",
       "      <td>Bonjour Maya,\\n\\nTout d'abord, sachez que votr...</td>\n",
       "      <td>1</td>\n",
       "      <td>Plus jamais ! J’ai commandé un matelas Emma vi...</td>\n",
       "    </tr>\n",
       "    <tr>\n",
       "      <th>1</th>\n",
       "      <td>15 mars 2023</td>\n",
       "      <td>1 avis</td>\n",
       "      <td>FR</td>\n",
       "      <td>True</td>\n",
       "      <td>Showroomprive.com</td>\n",
       "      <td>Bonjour VL,\\n\\nJe suis sincèrement navrée d'ap...</td>\n",
       "      <td>1</td>\n",
       "      <td>Catastrophique Catastrophique j’avais commandé...</td>\n",
       "    </tr>\n",
       "    <tr>\n",
       "      <th>2</th>\n",
       "      <td>14 mars 2023</td>\n",
       "      <td>7 avis</td>\n",
       "      <td>FR</td>\n",
       "      <td>True</td>\n",
       "      <td>Showroomprive.com</td>\n",
       "      <td>Bonjour Patricia,\\n\\nMerci d'avoir partagé vot...</td>\n",
       "      <td>4</td>\n",
       "      <td>comme toujours bonne expérience comme toujours...</td>\n",
       "    </tr>\n",
       "    <tr>\n",
       "      <th>3</th>\n",
       "      <td>15 mars 2023</td>\n",
       "      <td>2 avis</td>\n",
       "      <td>FR</td>\n",
       "      <td>False</td>\n",
       "      <td>NaN</td>\n",
       "      <td>NaN</td>\n",
       "      <td>4</td>\n",
       "      <td>Prix intéressants Prix intéressants, envois ra...</td>\n",
       "    </tr>\n",
       "    <tr>\n",
       "      <th>4</th>\n",
       "      <td>23 février 2023</td>\n",
       "      <td>1 avis</td>\n",
       "      <td>FR</td>\n",
       "      <td>False</td>\n",
       "      <td>NaN</td>\n",
       "      <td>NaN</td>\n",
       "      <td>4</td>\n",
       "      <td>Les offres sont très variées Les offres sont t...</td>\n",
       "    </tr>\n",
       "  </tbody>\n",
       "</table>\n",
       "</div>"
      ],
      "text/plain": [
       "   DATE EXPERIENCE NOMBRE AVIS LAISSÉ PAR CETTE PERSONNE  \\\n",
       "0     15 mars 2023                                2 avis   \n",
       "1     15 mars 2023                                1 avis   \n",
       "2     14 mars 2023                                7 avis   \n",
       "3     15 mars 2023                                2 avis   \n",
       "4  23 février 2023                                1 avis   \n",
       "\n",
       "  LOCALISATION DE LA PERSONNE QUI A COMMENTÉ  \\\n",
       "0                                         FR   \n",
       "1                                         FR   \n",
       "2                                         FR   \n",
       "3                                         FR   \n",
       "4                                         FR   \n",
       "\n",
       "   PRÉSENCE D'UNE RÉPONSE (booléen)      QUI A RÉPONDU  \\\n",
       "0                              True  Showroomprive.com   \n",
       "1                              True  Showroomprive.com   \n",
       "2                              True  Showroomprive.com   \n",
       "3                             False                NaN   \n",
       "4                             False                NaN   \n",
       "\n",
       "                              RÉPONSE AU COMMENTAIRE  NOMBRE D'ÉTOILE  \\\n",
       "0  Bonjour Maya,\\n\\nTout d'abord, sachez que votr...                1   \n",
       "1  Bonjour VL,\\n\\nJe suis sincèrement navrée d'ap...                1   \n",
       "2  Bonjour Patricia,\\n\\nMerci d'avoir partagé vot...                4   \n",
       "3                                                NaN                4   \n",
       "4                                                NaN                4   \n",
       "\n",
       "                                     COMMENTAIRE TOT  \n",
       "0  Plus jamais ! J’ai commandé un matelas Emma vi...  \n",
       "1  Catastrophique Catastrophique j’avais commandé...  \n",
       "2  comme toujours bonne expérience comme toujours...  \n",
       "3  Prix intéressants Prix intéressants, envois ra...  \n",
       "4  Les offres sont très variées Les offres sont t...  "
      ]
     },
     "execution_count": 6,
     "metadata": {},
     "output_type": "execute_result"
    }
   ],
   "source": [
    "df['COMMENTAIRE TOT'] = df['TITRE COMMENTAIRE'].str.cat(df['COMMENTAIRE'], sep=' ')\n",
    "\n",
    "commentaires = df['COMMENTAIRE TOT']\n",
    "df = df.drop(['TITRE COMMENTAIRE','COMMENTAIRE', 'QUI A COMMENTÉ', 'Unnamed: 0'], axis = 1)\n",
    "\n",
    "df.head()"
   ]
  },
  {
   "cell_type": "code",
   "execution_count": 7,
   "id": "0711c3f1",
   "metadata": {},
   "outputs": [
    {
     "name": "stdout",
     "output_type": "stream",
     "text": [
      "0       Plus jamais ! J’ai commandé un matelas Emma vi...\n",
      "1       Catastrophique Catastrophique j’avais commandé...\n",
      "2       comme toujours bonne expérience comme toujours...\n",
      "3       Prix intéressants Prix intéressants, envois ra...\n",
      "4       Les offres sont très variées Les offres sont t...\n",
      "                              ...                        \n",
      "7215    Ne correspond pas à mes attentes Ne correspond...\n",
      "7216    Un enfer ! Un enfer !!\\nCommande jamais livrer...\n",
      "7217    Satisfaite parfois gamme tarifaire très… Satis...\n",
      "7218    Service client lamentable Cela fait depuis plu...\n",
      "7219    Bon retour Produits conformes à la commande qu...\n",
      "Name: COMMENTAIRE TOT, Length: 7219, dtype: object\n"
     ]
    }
   ],
   "source": [
    "print(commentaires)"
   ]
  },
  {
   "cell_type": "code",
   "execution_count": 8,
   "id": "0ac568f2",
   "metadata": {},
   "outputs": [
    {
     "name": "stdout",
     "output_type": "stream",
     "text": [
      "(7219,)\n",
      "<class 'pandas.core.series.Series'>\n",
      "<class 'pandas.core.frame.DataFrame'>\n",
      "Int64Index: 7219 entries, 0 to 7219\n",
      "Data columns (total 1 columns):\n",
      " #   Column           Non-Null Count  Dtype  \n",
      "---  ------           --------------  -----  \n",
      " 0   COMMENTAIRE TOT  7219 non-null   float64\n",
      "dtypes: float64(1)\n",
      "memory usage: 112.8 KB\n"
     ]
    },
    {
     "data": {
      "text/html": [
       "<div>\n",
       "<style scoped>\n",
       "    .dataframe tbody tr th:only-of-type {\n",
       "        vertical-align: middle;\n",
       "    }\n",
       "\n",
       "    .dataframe tbody tr th {\n",
       "        vertical-align: top;\n",
       "    }\n",
       "\n",
       "    .dataframe thead th {\n",
       "        text-align: right;\n",
       "    }\n",
       "</style>\n",
       "<table border=\"1\" class=\"dataframe\">\n",
       "  <thead>\n",
       "    <tr style=\"text-align: right;\">\n",
       "      <th></th>\n",
       "      <th>COMMENTAIRE TOT</th>\n",
       "    </tr>\n",
       "  </thead>\n",
       "  <tbody>\n",
       "    <tr>\n",
       "      <th>0</th>\n",
       "      <td>-0.8693</td>\n",
       "    </tr>\n",
       "    <tr>\n",
       "      <th>1</th>\n",
       "      <td>-0.8547</td>\n",
       "    </tr>\n",
       "    <tr>\n",
       "      <th>2</th>\n",
       "      <td>0.7553</td>\n",
       "    </tr>\n",
       "    <tr>\n",
       "      <th>3</th>\n",
       "      <td>0.8227</td>\n",
       "    </tr>\n",
       "    <tr>\n",
       "      <th>4</th>\n",
       "      <td>-0.1404</td>\n",
       "    </tr>\n",
       "  </tbody>\n",
       "</table>\n",
       "</div>"
      ],
      "text/plain": [
       "   COMMENTAIRE TOT\n",
       "0          -0.8693\n",
       "1          -0.8547\n",
       "2           0.7553\n",
       "3           0.8227\n",
       "4          -0.1404"
      ]
     },
     "execution_count": 8,
     "metadata": {},
     "output_type": "execute_result"
    }
   ],
   "source": [
    "from vaderSentiment_fr.vaderSentiment import SentimentIntensityAnalyzer\n",
    "\n",
    "sentiment_intensity_analyzer = SentimentIntensityAnalyzer()\n",
    "\n",
    "score = commentaires.apply(lambda x: sentiment_intensity_analyzer.polarity_scores(x))\n",
    "\n",
    "scores = commentaires.apply(lambda x: sentiment_intensity_analyzer.polarity_scores(x)['compound'])\n",
    "\n",
    "print(scores.shape)\n",
    "print(type(scores))\n",
    "# print(scores)\n",
    "scores.describe()\n",
    "\n",
    "df_score_commentaires = scores.to_frame()\n",
    "\n",
    "df_score_commentaires[\"COMMENTAIRE TOT\"].astype(float)\n",
    "df_score_commentaires.info()\n",
    "df_score_commentaires.head()"
   ]
  },
  {
   "cell_type": "code",
   "execution_count": 9,
   "id": "cc9a22fb",
   "metadata": {},
   "outputs": [],
   "source": [
    "reponse = df['RÉPONSE AU COMMENTAIRE']"
   ]
  },
  {
   "cell_type": "code",
   "execution_count": 10,
   "id": "727d7385",
   "metadata": {},
   "outputs": [
    {
     "name": "stdout",
     "output_type": "stream",
     "text": [
      "0       Bonjour Maya,\\n\\nTout d'abord, sachez que votr...\n",
      "1       Bonjour VL,\\n\\nJe suis sincèrement navrée d'ap...\n",
      "2       Bonjour Patricia,\\n\\nMerci d'avoir partagé vot...\n",
      "3                                                     NaN\n",
      "4                                                     NaN\n",
      "                              ...                        \n",
      "7215    Bonjour,\\n\\nJe suis navrée que le produit ne v...\n",
      "7216    Bonjour,\\n\\nJe n'ai pas assez d'information po...\n",
      "7217    Bonjour,\\n\\nJe vous remercie pour votre appréc...\n",
      "7218    Bonjour,\\n\\nJe suis navrée que vous ayez du av...\n",
      "7219    Bonjour,\\nNous vous remercions de votre confia...\n",
      "Name: RÉPONSE AU COMMENTAIRE, Length: 7219, dtype: object\n"
     ]
    }
   ],
   "source": [
    "print(reponse)"
   ]
  },
  {
   "cell_type": "code",
   "execution_count": 11,
   "id": "d4e8f8a6",
   "metadata": {},
   "outputs": [],
   "source": [
    "sentiment_intensity_analyzer_r = SentimentIntensityAnalyzer()"
   ]
  },
  {
   "cell_type": "code",
   "execution_count": 12,
   "id": "10155fe9",
   "metadata": {},
   "outputs": [],
   "source": [
    "reponse = reponse.fillna('')\n",
    "score_r = reponse.apply(lambda x: sentiment_intensity_analyzer.polarity_scores(x))"
   ]
  },
  {
   "cell_type": "code",
   "execution_count": 13,
   "id": "a231a9d8",
   "metadata": {},
   "outputs": [
    {
     "name": "stdout",
     "output_type": "stream",
     "text": [
      "(7219,)\n",
      "<class 'pandas.core.series.Series'>\n"
     ]
    },
    {
     "data": {
      "text/plain": [
       "count    7219.000000\n",
       "mean        0.710633\n",
       "std         0.232542\n",
       "min        -0.658800\n",
       "25%         0.623900\n",
       "50%         0.800400\n",
       "75%         0.867800\n",
       "max         0.994500\n",
       "Name: RÉPONSE AU COMMENTAIRE, dtype: float64"
      ]
     },
     "execution_count": 13,
     "metadata": {},
     "output_type": "execute_result"
    }
   ],
   "source": [
    "sentiment_intensity_analyzer_r = SentimentIntensityAnalyzer()\n",
    "\n",
    "score_reponses = reponse.apply(lambda x: sentiment_intensity_analyzer_r.polarity_scores(x))\n",
    "scores_reponses = reponse.apply(lambda x: sentiment_intensity_analyzer_r.polarity_scores(x)['compound'])\n",
    "\n",
    "print(scores_reponses.shape)\n",
    "print(type(scores_reponses))\n",
    "# print(scores)\n",
    "scores_reponses.describe()\n",
    "\n",
    "\n"
   ]
  },
  {
   "cell_type": "code",
   "execution_count": 14,
   "id": "c7ca2913",
   "metadata": {},
   "outputs": [
    {
     "name": "stdout",
     "output_type": "stream",
     "text": [
      "<class 'pandas.core.frame.DataFrame'>\n",
      "Int64Index: 7219 entries, 0 to 7219\n",
      "Data columns (total 1 columns):\n",
      " #   Column                  Non-Null Count  Dtype  \n",
      "---  ------                  --------------  -----  \n",
      " 0   RÉPONSE AU COMMENTAIRE  7219 non-null   float64\n",
      "dtypes: float64(1)\n",
      "memory usage: 112.8 KB\n"
     ]
    },
    {
     "data": {
      "text/html": [
       "<div>\n",
       "<style scoped>\n",
       "    .dataframe tbody tr th:only-of-type {\n",
       "        vertical-align: middle;\n",
       "    }\n",
       "\n",
       "    .dataframe tbody tr th {\n",
       "        vertical-align: top;\n",
       "    }\n",
       "\n",
       "    .dataframe thead th {\n",
       "        text-align: right;\n",
       "    }\n",
       "</style>\n",
       "<table border=\"1\" class=\"dataframe\">\n",
       "  <thead>\n",
       "    <tr style=\"text-align: right;\">\n",
       "      <th></th>\n",
       "      <th>RÉPONSE AU COMMENTAIRE</th>\n",
       "    </tr>\n",
       "  </thead>\n",
       "  <tbody>\n",
       "    <tr>\n",
       "      <th>0</th>\n",
       "      <td>0.8176</td>\n",
       "    </tr>\n",
       "    <tr>\n",
       "      <th>1</th>\n",
       "      <td>0.7430</td>\n",
       "    </tr>\n",
       "    <tr>\n",
       "      <th>2</th>\n",
       "      <td>0.5106</td>\n",
       "    </tr>\n",
       "    <tr>\n",
       "      <th>3</th>\n",
       "      <td>0.0000</td>\n",
       "    </tr>\n",
       "    <tr>\n",
       "      <th>4</th>\n",
       "      <td>0.0000</td>\n",
       "    </tr>\n",
       "  </tbody>\n",
       "</table>\n",
       "</div>"
      ],
      "text/plain": [
       "   RÉPONSE AU COMMENTAIRE\n",
       "0                  0.8176\n",
       "1                  0.7430\n",
       "2                  0.5106\n",
       "3                  0.0000\n",
       "4                  0.0000"
      ]
     },
     "execution_count": 14,
     "metadata": {},
     "output_type": "execute_result"
    }
   ],
   "source": [
    "df_score_reponses = scores_reponses.to_frame()\n",
    "\n",
    "df_score_reponses[\"RÉPONSE AU COMMENTAIRE\"].astype(float)\n",
    "df_score_reponses.info()\n",
    "df_score_reponses.head()"
   ]
  },
  {
   "cell_type": "code",
   "execution_count": 15,
   "id": "fb6872b8",
   "metadata": {},
   "outputs": [
    {
     "data": {
      "text/html": [
       "<div>\n",
       "<style scoped>\n",
       "    .dataframe tbody tr th:only-of-type {\n",
       "        vertical-align: middle;\n",
       "    }\n",
       "\n",
       "    .dataframe tbody tr th {\n",
       "        vertical-align: top;\n",
       "    }\n",
       "\n",
       "    .dataframe thead th {\n",
       "        text-align: right;\n",
       "    }\n",
       "</style>\n",
       "<table border=\"1\" class=\"dataframe\">\n",
       "  <thead>\n",
       "    <tr style=\"text-align: right;\">\n",
       "      <th></th>\n",
       "      <th>LOCALISATION DE LA PERSONNE QUI A COMMENTÉ</th>\n",
       "      <th>PRÉSENCE D'UNE RÉPONSE (booléen)</th>\n",
       "      <th>QUI A RÉPONDU</th>\n",
       "      <th>NOMBRE D'ÉTOILE</th>\n",
       "    </tr>\n",
       "  </thead>\n",
       "  <tbody>\n",
       "    <tr>\n",
       "      <th>0</th>\n",
       "      <td>FR</td>\n",
       "      <td>True</td>\n",
       "      <td>Showroomprive.com</td>\n",
       "      <td>1</td>\n",
       "    </tr>\n",
       "    <tr>\n",
       "      <th>1</th>\n",
       "      <td>FR</td>\n",
       "      <td>True</td>\n",
       "      <td>Showroomprive.com</td>\n",
       "      <td>1</td>\n",
       "    </tr>\n",
       "    <tr>\n",
       "      <th>2</th>\n",
       "      <td>FR</td>\n",
       "      <td>True</td>\n",
       "      <td>Showroomprive.com</td>\n",
       "      <td>4</td>\n",
       "    </tr>\n",
       "    <tr>\n",
       "      <th>3</th>\n",
       "      <td>FR</td>\n",
       "      <td>False</td>\n",
       "      <td>NaN</td>\n",
       "      <td>4</td>\n",
       "    </tr>\n",
       "    <tr>\n",
       "      <th>4</th>\n",
       "      <td>FR</td>\n",
       "      <td>False</td>\n",
       "      <td>NaN</td>\n",
       "      <td>4</td>\n",
       "    </tr>\n",
       "  </tbody>\n",
       "</table>\n",
       "</div>"
      ],
      "text/plain": [
       "  LOCALISATION DE LA PERSONNE QUI A COMMENTÉ  \\\n",
       "0                                         FR   \n",
       "1                                         FR   \n",
       "2                                         FR   \n",
       "3                                         FR   \n",
       "4                                         FR   \n",
       "\n",
       "   PRÉSENCE D'UNE RÉPONSE (booléen)      QUI A RÉPONDU  NOMBRE D'ÉTOILE  \n",
       "0                              True  Showroomprive.com                1  \n",
       "1                              True  Showroomprive.com                1  \n",
       "2                              True  Showroomprive.com                4  \n",
       "3                             False                NaN                4  \n",
       "4                             False                NaN                4  "
      ]
     },
     "execution_count": 15,
     "metadata": {},
     "output_type": "execute_result"
    }
   ],
   "source": [
    "#Définition des variables expplicatives et cibles\n",
    "\n",
    "feats_cat = df.drop(['NOMBRE AVIS LAISSÉ PAR CETTE PERSONNE' ,'COMMENTAIRE TOT', 'DATE EXPERIENCE' , \"RÉPONSE AU COMMENTAIRE\"], axis=1)\n",
    "feats_cat.shape\n",
    "\n",
    "feats_cat.head()"
   ]
  },
  {
   "cell_type": "code",
   "execution_count": 16,
   "id": "071c1c0d",
   "metadata": {},
   "outputs": [],
   "source": [
    "df['NOMBRE AVIS LAISSÉ PAR CETTE PERSONNE'] = df['NOMBRE AVIS LAISSÉ PAR CETTE PERSONNE'].str.replace(' avis', '')"
   ]
  },
  {
   "cell_type": "code",
   "execution_count": 17,
   "id": "c8225d65",
   "metadata": {},
   "outputs": [],
   "source": [
    "df_nb_avis = df[['NOMBRE AVIS LAISSÉ PAR CETTE PERSONNE']]"
   ]
  },
  {
   "cell_type": "code",
   "execution_count": 18,
   "id": "7bfdf6f3",
   "metadata": {},
   "outputs": [
    {
     "data": {
      "text/html": [
       "<div>\n",
       "<style scoped>\n",
       "    .dataframe tbody tr th:only-of-type {\n",
       "        vertical-align: middle;\n",
       "    }\n",
       "\n",
       "    .dataframe tbody tr th {\n",
       "        vertical-align: top;\n",
       "    }\n",
       "\n",
       "    .dataframe thead th {\n",
       "        text-align: right;\n",
       "    }\n",
       "</style>\n",
       "<table border=\"1\" class=\"dataframe\">\n",
       "  <thead>\n",
       "    <tr style=\"text-align: right;\">\n",
       "      <th></th>\n",
       "      <th>NOMBRE AVIS LAISSÉ PAR CETTE PERSONNE</th>\n",
       "    </tr>\n",
       "  </thead>\n",
       "  <tbody>\n",
       "    <tr>\n",
       "      <th>0</th>\n",
       "      <td>2</td>\n",
       "    </tr>\n",
       "    <tr>\n",
       "      <th>1</th>\n",
       "      <td>1</td>\n",
       "    </tr>\n",
       "    <tr>\n",
       "      <th>2</th>\n",
       "      <td>7</td>\n",
       "    </tr>\n",
       "    <tr>\n",
       "      <th>3</th>\n",
       "      <td>2</td>\n",
       "    </tr>\n",
       "    <tr>\n",
       "      <th>4</th>\n",
       "      <td>1</td>\n",
       "    </tr>\n",
       "  </tbody>\n",
       "</table>\n",
       "</div>"
      ],
      "text/plain": [
       "  NOMBRE AVIS LAISSÉ PAR CETTE PERSONNE\n",
       "0                                     2\n",
       "1                                     1\n",
       "2                                     7\n",
       "3                                     2\n",
       "4                                     1"
      ]
     },
     "execution_count": 18,
     "metadata": {},
     "output_type": "execute_result"
    }
   ],
   "source": [
    "df_nb_avis.head(5)"
   ]
  },
  {
   "cell_type": "code",
   "execution_count": 19,
   "id": "2932f15a",
   "metadata": {},
   "outputs": [
    {
     "name": "stdout",
     "output_type": "stream",
     "text": [
      "<class 'pandas.core.frame.DataFrame'>\n",
      "Int64Index: 7219 entries, 0 to 7219\n",
      "Data columns (total 1 columns):\n",
      " #   Column                                 Non-Null Count  Dtype\n",
      "---  ------                                 --------------  -----\n",
      " 0   NOMBRE AVIS LAISSÉ PAR CETTE PERSONNE  7219 non-null   int32\n",
      "dtypes: int32(1)\n",
      "memory usage: 84.6 KB\n"
     ]
    }
   ],
   "source": [
    "df_nb_avis = df_nb_avis.astype(int)\n",
    "\n",
    "df_nb_avis.info()"
   ]
  },
  {
   "cell_type": "code",
   "execution_count": 20,
   "id": "31d38677",
   "metadata": {},
   "outputs": [
    {
     "data": {
      "text/html": [
       "<div>\n",
       "<style scoped>\n",
       "    .dataframe tbody tr th:only-of-type {\n",
       "        vertical-align: middle;\n",
       "    }\n",
       "\n",
       "    .dataframe tbody tr th {\n",
       "        vertical-align: top;\n",
       "    }\n",
       "\n",
       "    .dataframe thead th {\n",
       "        text-align: right;\n",
       "    }\n",
       "</style>\n",
       "<table border=\"1\" class=\"dataframe\">\n",
       "  <thead>\n",
       "    <tr style=\"text-align: right;\">\n",
       "      <th></th>\n",
       "      <th>NOMBRE AVIS LAISSÉ PAR CETTE PERSONNE</th>\n",
       "    </tr>\n",
       "  </thead>\n",
       "  <tbody>\n",
       "    <tr>\n",
       "      <th>0</th>\n",
       "      <td>2</td>\n",
       "    </tr>\n",
       "    <tr>\n",
       "      <th>1</th>\n",
       "      <td>1</td>\n",
       "    </tr>\n",
       "    <tr>\n",
       "      <th>2</th>\n",
       "      <td>7</td>\n",
       "    </tr>\n",
       "    <tr>\n",
       "      <th>3</th>\n",
       "      <td>2</td>\n",
       "    </tr>\n",
       "    <tr>\n",
       "      <th>4</th>\n",
       "      <td>1</td>\n",
       "    </tr>\n",
       "  </tbody>\n",
       "</table>\n",
       "</div>"
      ],
      "text/plain": [
       "   NOMBRE AVIS LAISSÉ PAR CETTE PERSONNE\n",
       "0                                      2\n",
       "1                                      1\n",
       "2                                      7\n",
       "3                                      2\n",
       "4                                      1"
      ]
     },
     "execution_count": 20,
     "metadata": {},
     "output_type": "execute_result"
    }
   ],
   "source": [
    "df_nb_avis.head()"
   ]
  },
  {
   "cell_type": "code",
   "execution_count": 21,
   "id": "b705c877",
   "metadata": {},
   "outputs": [
    {
     "data": {
      "text/html": [
       "<div>\n",
       "<style scoped>\n",
       "    .dataframe tbody tr th:only-of-type {\n",
       "        vertical-align: middle;\n",
       "    }\n",
       "\n",
       "    .dataframe tbody tr th {\n",
       "        vertical-align: top;\n",
       "    }\n",
       "\n",
       "    .dataframe thead th {\n",
       "        text-align: right;\n",
       "    }\n",
       "</style>\n",
       "<table border=\"1\" class=\"dataframe\">\n",
       "  <thead>\n",
       "    <tr style=\"text-align: right;\">\n",
       "      <th></th>\n",
       "      <th>LOCALISATION DE LA PERSONNE QUI A COMMENTÉ</th>\n",
       "      <th>PRÉSENCE D'UNE RÉPONSE (booléen)</th>\n",
       "      <th>QUI A RÉPONDU</th>\n",
       "      <th>NOMBRE D'ÉTOILE</th>\n",
       "    </tr>\n",
       "  </thead>\n",
       "  <tbody>\n",
       "    <tr>\n",
       "      <th>0</th>\n",
       "      <td>FR</td>\n",
       "      <td>True</td>\n",
       "      <td>Showroomprive.com</td>\n",
       "      <td>1</td>\n",
       "    </tr>\n",
       "    <tr>\n",
       "      <th>1</th>\n",
       "      <td>FR</td>\n",
       "      <td>True</td>\n",
       "      <td>Showroomprive.com</td>\n",
       "      <td>1</td>\n",
       "    </tr>\n",
       "    <tr>\n",
       "      <th>2</th>\n",
       "      <td>FR</td>\n",
       "      <td>True</td>\n",
       "      <td>Showroomprive.com</td>\n",
       "      <td>4</td>\n",
       "    </tr>\n",
       "    <tr>\n",
       "      <th>3</th>\n",
       "      <td>FR</td>\n",
       "      <td>False</td>\n",
       "      <td>NaN</td>\n",
       "      <td>4</td>\n",
       "    </tr>\n",
       "    <tr>\n",
       "      <th>4</th>\n",
       "      <td>FR</td>\n",
       "      <td>False</td>\n",
       "      <td>NaN</td>\n",
       "      <td>4</td>\n",
       "    </tr>\n",
       "  </tbody>\n",
       "</table>\n",
       "</div>"
      ],
      "text/plain": [
       "  LOCALISATION DE LA PERSONNE QUI A COMMENTÉ  \\\n",
       "0                                         FR   \n",
       "1                                         FR   \n",
       "2                                         FR   \n",
       "3                                         FR   \n",
       "4                                         FR   \n",
       "\n",
       "   PRÉSENCE D'UNE RÉPONSE (booléen)      QUI A RÉPONDU  NOMBRE D'ÉTOILE  \n",
       "0                              True  Showroomprive.com                1  \n",
       "1                              True  Showroomprive.com                1  \n",
       "2                              True  Showroomprive.com                4  \n",
       "3                             False                NaN                4  \n",
       "4                             False                NaN                4  "
      ]
     },
     "execution_count": 21,
     "metadata": {},
     "output_type": "execute_result"
    }
   ],
   "source": [
    "# Convertir feats en DataFrame\n",
    "#feats = pd.DataFrame(array_feats, columns=list(feats_int.columns) + [\"SCORE COMMENTAIRE\"] + [\"SCORE REPONSE\"])\n",
    "\n",
    "# Afficher le DataFrame\n",
    "\n",
    "#feats.drop(\"Unnamed: 0\", axis=1)\n",
    "feats_cat.head()\n",
    "#feats_cat.info()\n"
   ]
  },
  {
   "cell_type": "code",
   "execution_count": 22,
   "id": "208558a2",
   "metadata": {},
   "outputs": [
    {
     "data": {
      "text/plain": [
       "(7219, 4)"
      ]
     },
     "execution_count": 22,
     "metadata": {},
     "output_type": "execute_result"
    }
   ],
   "source": [
    "feats_cat.shape"
   ]
  },
  {
   "cell_type": "code",
   "execution_count": 23,
   "id": "f8fb26bb",
   "metadata": {},
   "outputs": [
    {
     "data": {
      "text/plain": [
       "(6922, 7)"
      ]
     },
     "execution_count": 23,
     "metadata": {},
     "output_type": "execute_result"
    }
   ],
   "source": [
    "feats_cat = feats_cat.reset_index(drop=True)\n",
    "df_nb_avis = df_nb_avis.reset_index(drop=True)\n",
    "df_score_commentaires = df_score_commentaires.reset_index(drop=True)\n",
    "df_score_reponses = df_score_reponses.reset_index(drop=True)\n",
    "\n",
    "\n",
    "feats = feats_cat.join([df_nb_avis, df_score_commentaires, df_score_reponses])\n",
    "# feats = feats[feats[\"LOCALISATION DE LA PERSONNE QUI A COMMENTÉ\"] == \"FR\"]\n",
    "\n",
    "\n",
    "feats = feats[(feats[\"LOCALISATION DE LA PERSONNE QUI A COMMENTÉ\"] == \"FR\") | (df[\"LOCALISATION DE LA PERSONNE QUI A COMMENTÉ\"] == \"BE\")]\n",
    "\n",
    "feats.drop\n",
    "feats.head(10)\n",
    "feats.shape"
   ]
  },
  {
   "cell_type": "code",
   "execution_count": 24,
   "id": "dedab401",
   "metadata": {},
   "outputs": [
    {
     "data": {
      "text/plain": [
       "FR    6918\n",
       "BE       3\n",
       "MQ       1\n",
       "Name: LOCALISATION DE LA PERSONNE QUI A COMMENTÉ, dtype: int64"
      ]
     },
     "execution_count": 24,
     "metadata": {},
     "output_type": "execute_result"
    }
   ],
   "source": [
    "feats[\"LOCALISATION DE LA PERSONNE QUI A COMMENTÉ\"].value_counts()"
   ]
  },
  {
   "cell_type": "code",
   "execution_count": 25,
   "id": "3636aa52",
   "metadata": {},
   "outputs": [],
   "source": [
    "feats = feats.drop(feats[feats['LOCALISATION DE LA PERSONNE QUI A COMMENTÉ'] == 'MQ'].index)"
   ]
  },
  {
   "cell_type": "code",
   "execution_count": 26,
   "id": "dd11121d",
   "metadata": {},
   "outputs": [
    {
     "data": {
      "text/plain": [
       "FR    6918\n",
       "BE       3\n",
       "Name: LOCALISATION DE LA PERSONNE QUI A COMMENTÉ, dtype: int64"
      ]
     },
     "execution_count": 26,
     "metadata": {},
     "output_type": "execute_result"
    }
   ],
   "source": [
    "feats[\"LOCALISATION DE LA PERSONNE QUI A COMMENTÉ\"].value_counts()"
   ]
  },
  {
   "cell_type": "code",
   "execution_count": 27,
   "id": "7b8e1dcb",
   "metadata": {},
   "outputs": [
    {
     "name": "stdout",
     "output_type": "stream",
     "text": [
      "<class 'pandas.core.frame.DataFrame'>\n",
      "Int64Index: 6921 entries, 0 to 7218\n",
      "Data columns (total 1 columns):\n",
      " #   Column           Non-Null Count  Dtype  \n",
      "---  ------           --------------  -----  \n",
      " 0   NOMBRE D'ÉTOILE  6921 non-null   float64\n",
      "dtypes: float64(1)\n",
      "memory usage: 108.1 KB\n"
     ]
    }
   ],
   "source": [
    "target = feats[[\"NOMBRE D'ÉTOILE\"]].astype(float)\n",
    "target.head()\n",
    "target.shape\n",
    "target.info()"
   ]
  },
  {
   "cell_type": "code",
   "execution_count": 28,
   "id": "b286ed21",
   "metadata": {},
   "outputs": [
    {
     "data": {
      "text/html": [
       "<div>\n",
       "<style scoped>\n",
       "    .dataframe tbody tr th:only-of-type {\n",
       "        vertical-align: middle;\n",
       "    }\n",
       "\n",
       "    .dataframe tbody tr th {\n",
       "        vertical-align: top;\n",
       "    }\n",
       "\n",
       "    .dataframe thead th {\n",
       "        text-align: right;\n",
       "    }\n",
       "</style>\n",
       "<table border=\"1\" class=\"dataframe\">\n",
       "  <thead>\n",
       "    <tr style=\"text-align: right;\">\n",
       "      <th></th>\n",
       "      <th>LOCALISATION DE LA PERSONNE QUI A COMMENTÉ</th>\n",
       "      <th>PRÉSENCE D'UNE RÉPONSE (booléen)</th>\n",
       "      <th>QUI A RÉPONDU</th>\n",
       "      <th>NOMBRE AVIS LAISSÉ PAR CETTE PERSONNE</th>\n",
       "      <th>COMMENTAIRE TOT</th>\n",
       "      <th>RÉPONSE AU COMMENTAIRE</th>\n",
       "    </tr>\n",
       "  </thead>\n",
       "  <tbody>\n",
       "    <tr>\n",
       "      <th>0</th>\n",
       "      <td>FR</td>\n",
       "      <td>True</td>\n",
       "      <td>Showroomprive.com</td>\n",
       "      <td>2</td>\n",
       "      <td>-0.8693</td>\n",
       "      <td>0.8176</td>\n",
       "    </tr>\n",
       "    <tr>\n",
       "      <th>1</th>\n",
       "      <td>FR</td>\n",
       "      <td>True</td>\n",
       "      <td>Showroomprive.com</td>\n",
       "      <td>1</td>\n",
       "      <td>-0.8547</td>\n",
       "      <td>0.7430</td>\n",
       "    </tr>\n",
       "    <tr>\n",
       "      <th>2</th>\n",
       "      <td>FR</td>\n",
       "      <td>True</td>\n",
       "      <td>Showroomprive.com</td>\n",
       "      <td>7</td>\n",
       "      <td>0.7553</td>\n",
       "      <td>0.5106</td>\n",
       "    </tr>\n",
       "    <tr>\n",
       "      <th>3</th>\n",
       "      <td>FR</td>\n",
       "      <td>False</td>\n",
       "      <td>NaN</td>\n",
       "      <td>2</td>\n",
       "      <td>0.8227</td>\n",
       "      <td>0.0000</td>\n",
       "    </tr>\n",
       "    <tr>\n",
       "      <th>4</th>\n",
       "      <td>FR</td>\n",
       "      <td>False</td>\n",
       "      <td>NaN</td>\n",
       "      <td>1</td>\n",
       "      <td>-0.1404</td>\n",
       "      <td>0.0000</td>\n",
       "    </tr>\n",
       "    <tr>\n",
       "      <th>5</th>\n",
       "      <td>FR</td>\n",
       "      <td>True</td>\n",
       "      <td>Showroomprive.com</td>\n",
       "      <td>13</td>\n",
       "      <td>0.7989</td>\n",
       "      <td>0.9307</td>\n",
       "    </tr>\n",
       "    <tr>\n",
       "      <th>6</th>\n",
       "      <td>BE</td>\n",
       "      <td>True</td>\n",
       "      <td>Showroomprive.com</td>\n",
       "      <td>3</td>\n",
       "      <td>0.6792</td>\n",
       "      <td>0.2960</td>\n",
       "    </tr>\n",
       "    <tr>\n",
       "      <th>7</th>\n",
       "      <td>FR</td>\n",
       "      <td>False</td>\n",
       "      <td>NaN</td>\n",
       "      <td>1</td>\n",
       "      <td>-0.6908</td>\n",
       "      <td>0.0000</td>\n",
       "    </tr>\n",
       "    <tr>\n",
       "      <th>8</th>\n",
       "      <td>FR</td>\n",
       "      <td>True</td>\n",
       "      <td>Showroomprive.com</td>\n",
       "      <td>8</td>\n",
       "      <td>0.2944</td>\n",
       "      <td>0.3200</td>\n",
       "    </tr>\n",
       "    <tr>\n",
       "      <th>9</th>\n",
       "      <td>FR</td>\n",
       "      <td>True</td>\n",
       "      <td>Showroomprive.com</td>\n",
       "      <td>1</td>\n",
       "      <td>-0.5501</td>\n",
       "      <td>0.6606</td>\n",
       "    </tr>\n",
       "  </tbody>\n",
       "</table>\n",
       "</div>"
      ],
      "text/plain": [
       "  LOCALISATION DE LA PERSONNE QUI A COMMENTÉ  \\\n",
       "0                                         FR   \n",
       "1                                         FR   \n",
       "2                                         FR   \n",
       "3                                         FR   \n",
       "4                                         FR   \n",
       "5                                         FR   \n",
       "6                                         BE   \n",
       "7                                         FR   \n",
       "8                                         FR   \n",
       "9                                         FR   \n",
       "\n",
       "   PRÉSENCE D'UNE RÉPONSE (booléen)      QUI A RÉPONDU  \\\n",
       "0                              True  Showroomprive.com   \n",
       "1                              True  Showroomprive.com   \n",
       "2                              True  Showroomprive.com   \n",
       "3                             False                NaN   \n",
       "4                             False                NaN   \n",
       "5                              True  Showroomprive.com   \n",
       "6                              True  Showroomprive.com   \n",
       "7                             False                NaN   \n",
       "8                              True  Showroomprive.com   \n",
       "9                              True  Showroomprive.com   \n",
       "\n",
       "   NOMBRE AVIS LAISSÉ PAR CETTE PERSONNE  COMMENTAIRE TOT  \\\n",
       "0                                      2          -0.8693   \n",
       "1                                      1          -0.8547   \n",
       "2                                      7           0.7553   \n",
       "3                                      2           0.8227   \n",
       "4                                      1          -0.1404   \n",
       "5                                     13           0.7989   \n",
       "6                                      3           0.6792   \n",
       "7                                      1          -0.6908   \n",
       "8                                      8           0.2944   \n",
       "9                                      1          -0.5501   \n",
       "\n",
       "   RÉPONSE AU COMMENTAIRE  \n",
       "0                  0.8176  \n",
       "1                  0.7430  \n",
       "2                  0.5106  \n",
       "3                  0.0000  \n",
       "4                  0.0000  \n",
       "5                  0.9307  \n",
       "6                  0.2960  \n",
       "7                  0.0000  \n",
       "8                  0.3200  \n",
       "9                  0.6606  "
      ]
     },
     "execution_count": 28,
     "metadata": {},
     "output_type": "execute_result"
    }
   ],
   "source": [
    "feats = feats.drop([\"NOMBRE D'ÉTOILE\"], axis=1)\n",
    "\n",
    "feats.head(10)"
   ]
  },
  {
   "cell_type": "code",
   "execution_count": 29,
   "id": "bf282fc2",
   "metadata": {},
   "outputs": [
    {
     "name": "stdout",
     "output_type": "stream",
     "text": [
      "<class 'pandas.core.frame.DataFrame'>\n",
      "Int64Index: 6921 entries, 0 to 7218\n",
      "Data columns (total 6 columns):\n",
      " #   Column                                      Non-Null Count  Dtype  \n",
      "---  ------                                      --------------  -----  \n",
      " 0   LOCALISATION DE LA PERSONNE QUI A COMMENTÉ  6921 non-null   object \n",
      " 1   PRÉSENCE D'UNE RÉPONSE (booléen)            6921 non-null   bool   \n",
      " 2   QUI A RÉPONDU                               6910 non-null   object \n",
      " 3   NOMBRE AVIS LAISSÉ PAR CETTE PERSONNE       6921 non-null   int32  \n",
      " 4   COMMENTAIRE TOT                             6921 non-null   float64\n",
      " 5   RÉPONSE AU COMMENTAIRE                      6921 non-null   float64\n",
      "dtypes: bool(1), float64(2), int32(1), object(2)\n",
      "memory usage: 304.1+ KB\n"
     ]
    }
   ],
   "source": [
    "feats.info()"
   ]
  },
  {
   "cell_type": "code",
   "execution_count": 30,
   "id": "5b557d80",
   "metadata": {},
   "outputs": [],
   "source": [
    "#Séparation des variables en test et en entrainement\n",
    "X_train, X_test, y_train, y_test = train_test_split(feats, target, test_size=0.25, random_state = 42)\n",
    "# X_train.info()"
   ]
  },
  {
   "cell_type": "code",
   "execution_count": 31,
   "id": "06ed9522",
   "metadata": {},
   "outputs": [
    {
     "name": "stdout",
     "output_type": "stream",
     "text": [
      "FR    5187\n",
      "BE       3\n",
      "Name: LOCALISATION DE LA PERSONNE QUI A COMMENTÉ, dtype: int64\n",
      "FR    1731\n",
      "Name: LOCALISATION DE LA PERSONNE QUI A COMMENTÉ, dtype: int64\n"
     ]
    }
   ],
   "source": [
    "counts_train = X_train['LOCALISATION DE LA PERSONNE QUI A COMMENTÉ'].value_counts()\n",
    "print(counts_train)\n",
    "\n",
    "counts_test = X_test['LOCALISATION DE LA PERSONNE QUI A COMMENTÉ'].value_counts()\n",
    "print(counts_test)"
   ]
  },
  {
   "cell_type": "code",
   "execution_count": 32,
   "id": "9660b127",
   "metadata": {},
   "outputs": [
    {
     "data": {
      "text/html": [
       "<div>\n",
       "<style scoped>\n",
       "    .dataframe tbody tr th:only-of-type {\n",
       "        vertical-align: middle;\n",
       "    }\n",
       "\n",
       "    .dataframe tbody tr th {\n",
       "        vertical-align: top;\n",
       "    }\n",
       "\n",
       "    .dataframe thead th {\n",
       "        text-align: right;\n",
       "    }\n",
       "</style>\n",
       "<table border=\"1\" class=\"dataframe\">\n",
       "  <thead>\n",
       "    <tr style=\"text-align: right;\">\n",
       "      <th></th>\n",
       "      <th>LOCALISATION DE LA PERSONNE QUI A COMMENTÉ</th>\n",
       "      <th>PRÉSENCE D'UNE RÉPONSE (booléen)</th>\n",
       "      <th>QUI A RÉPONDU</th>\n",
       "      <th>NOMBRE AVIS LAISSÉ PAR CETTE PERSONNE</th>\n",
       "      <th>COMMENTAIRE TOT</th>\n",
       "      <th>RÉPONSE AU COMMENTAIRE</th>\n",
       "    </tr>\n",
       "  </thead>\n",
       "  <tbody>\n",
       "    <tr>\n",
       "      <th>491</th>\n",
       "      <td>FR</td>\n",
       "      <td>True</td>\n",
       "      <td>Showroomprive.com</td>\n",
       "      <td>1</td>\n",
       "      <td>0.3595</td>\n",
       "      <td>0.9020</td>\n",
       "    </tr>\n",
       "    <tr>\n",
       "      <th>2943</th>\n",
       "      <td>FR</td>\n",
       "      <td>True</td>\n",
       "      <td>Showroomprive.com</td>\n",
       "      <td>2</td>\n",
       "      <td>0.8481</td>\n",
       "      <td>0.7321</td>\n",
       "    </tr>\n",
       "    <tr>\n",
       "      <th>843</th>\n",
       "      <td>FR</td>\n",
       "      <td>True</td>\n",
       "      <td>Showroomprive.com</td>\n",
       "      <td>3</td>\n",
       "      <td>0.3134</td>\n",
       "      <td>0.9485</td>\n",
       "    </tr>\n",
       "    <tr>\n",
       "      <th>3532</th>\n",
       "      <td>FR</td>\n",
       "      <td>True</td>\n",
       "      <td>Showroomprive.com</td>\n",
       "      <td>4</td>\n",
       "      <td>0.5709</td>\n",
       "      <td>0.7321</td>\n",
       "    </tr>\n",
       "    <tr>\n",
       "      <th>3651</th>\n",
       "      <td>FR</td>\n",
       "      <td>True</td>\n",
       "      <td>Showroomprive.com</td>\n",
       "      <td>2</td>\n",
       "      <td>0.0000</td>\n",
       "      <td>0.7321</td>\n",
       "    </tr>\n",
       "  </tbody>\n",
       "</table>\n",
       "</div>"
      ],
      "text/plain": [
       "     LOCALISATION DE LA PERSONNE QUI A COMMENTÉ  \\\n",
       "491                                          FR   \n",
       "2943                                         FR   \n",
       "843                                          FR   \n",
       "3532                                         FR   \n",
       "3651                                         FR   \n",
       "\n",
       "      PRÉSENCE D'UNE RÉPONSE (booléen)      QUI A RÉPONDU  \\\n",
       "491                               True  Showroomprive.com   \n",
       "2943                              True  Showroomprive.com   \n",
       "843                               True  Showroomprive.com   \n",
       "3532                              True  Showroomprive.com   \n",
       "3651                              True  Showroomprive.com   \n",
       "\n",
       "      NOMBRE AVIS LAISSÉ PAR CETTE PERSONNE  COMMENTAIRE TOT  \\\n",
       "491                                       1           0.3595   \n",
       "2943                                      2           0.8481   \n",
       "843                                       3           0.3134   \n",
       "3532                                      4           0.5709   \n",
       "3651                                      2           0.0000   \n",
       "\n",
       "      RÉPONSE AU COMMENTAIRE  \n",
       "491                   0.9020  \n",
       "2943                  0.7321  \n",
       "843                   0.9485  \n",
       "3532                  0.7321  \n",
       "3651                  0.7321  "
      ]
     },
     "execution_count": 32,
     "metadata": {},
     "output_type": "execute_result"
    }
   ],
   "source": [
    "X_test.head()"
   ]
  },
  {
   "cell_type": "code",
   "execution_count": 33,
   "id": "22e3cad0",
   "metadata": {},
   "outputs": [
    {
     "name": "stdout",
     "output_type": "stream",
     "text": [
      "X_train :  (5190, 6) y_train :  (5190, 1) X_test :  (1731, 6) y_test :  (1731, 1)\n"
     ]
    }
   ],
   "source": [
    "print('X_train : ', X_train.shape, 'y_train : ', y_train.shape,  'X_test : ', X_test.shape,  'y_test : ', y_test.shape)"
   ]
  },
  {
   "cell_type": "code",
   "execution_count": 34,
   "id": "95ec24f4",
   "metadata": {},
   "outputs": [],
   "source": [
    "index_test = X_test.index.tolist()"
   ]
  },
  {
   "cell_type": "code",
   "execution_count": 35,
   "id": "f6dd476e",
   "metadata": {},
   "outputs": [],
   "source": [
    "index_train = X_train.index.tolist()"
   ]
  },
  {
   "cell_type": "code",
   "execution_count": 36,
   "id": "36506cd8",
   "metadata": {},
   "outputs": [],
   "source": [
    "# print(index_train)"
   ]
  },
  {
   "cell_type": "code",
   "execution_count": 37,
   "id": "003aa7ea",
   "metadata": {},
   "outputs": [],
   "source": [
    "df_index_test = pd.DataFrame({'index_initial_test': index_test})\n",
    "df_index_train = pd.DataFrame({'index_initial_train': index_train})"
   ]
  },
  {
   "cell_type": "code",
   "execution_count": 38,
   "id": "4178243d",
   "metadata": {},
   "outputs": [
    {
     "data": {
      "text/plain": [
       "(1731, 1)"
      ]
     },
     "execution_count": 38,
     "metadata": {},
     "output_type": "execute_result"
    }
   ],
   "source": [
    "df_index_test.shape"
   ]
  },
  {
   "cell_type": "code",
   "execution_count": 39,
   "id": "6c25e82b",
   "metadata": {},
   "outputs": [
    {
     "data": {
      "text/html": [
       "<div>\n",
       "<style scoped>\n",
       "    .dataframe tbody tr th:only-of-type {\n",
       "        vertical-align: middle;\n",
       "    }\n",
       "\n",
       "    .dataframe tbody tr th {\n",
       "        vertical-align: top;\n",
       "    }\n",
       "\n",
       "    .dataframe thead th {\n",
       "        text-align: right;\n",
       "    }\n",
       "</style>\n",
       "<table border=\"1\" class=\"dataframe\">\n",
       "  <thead>\n",
       "    <tr style=\"text-align: right;\">\n",
       "      <th></th>\n",
       "      <th>index_initial_train</th>\n",
       "    </tr>\n",
       "  </thead>\n",
       "  <tbody>\n",
       "    <tr>\n",
       "      <th>0</th>\n",
       "      <td>7002</td>\n",
       "    </tr>\n",
       "    <tr>\n",
       "      <th>1</th>\n",
       "      <td>5745</td>\n",
       "    </tr>\n",
       "    <tr>\n",
       "      <th>2</th>\n",
       "      <td>92</td>\n",
       "    </tr>\n",
       "    <tr>\n",
       "      <th>3</th>\n",
       "      <td>5676</td>\n",
       "    </tr>\n",
       "    <tr>\n",
       "      <th>4</th>\n",
       "      <td>4415</td>\n",
       "    </tr>\n",
       "  </tbody>\n",
       "</table>\n",
       "</div>"
      ],
      "text/plain": [
       "   index_initial_train\n",
       "0                 7002\n",
       "1                 5745\n",
       "2                   92\n",
       "3                 5676\n",
       "4                 4415"
      ]
     },
     "execution_count": 39,
     "metadata": {},
     "output_type": "execute_result"
    }
   ],
   "source": [
    "df_index_train.head()"
   ]
  },
  {
   "cell_type": "code",
   "execution_count": 40,
   "id": "f4e4f5d0",
   "metadata": {},
   "outputs": [],
   "source": [
    "from sklearn.preprocessing import OneHotEncoder\n",
    "\n",
    "# Le paramètre drop permet d'éviter le problème de multicolinéarité\n",
    "ohe = OneHotEncoder( drop=\"first\", sparse=False)\n",
    "cat = ['LOCALISATION DE LA PERSONNE QUI A COMMENTÉ', \"PRÉSENCE D'UNE RÉPONSE (booléen)\", \"QUI A RÉPONDU\"]"
   ]
  },
  {
   "cell_type": "code",
   "execution_count": 41,
   "id": "e3799c69",
   "metadata": {},
   "outputs": [
    {
     "data": {
      "text/html": [
       "<div>\n",
       "<style scoped>\n",
       "    .dataframe tbody tr th:only-of-type {\n",
       "        vertical-align: middle;\n",
       "    }\n",
       "\n",
       "    .dataframe tbody tr th {\n",
       "        vertical-align: top;\n",
       "    }\n",
       "\n",
       "    .dataframe thead th {\n",
       "        text-align: right;\n",
       "    }\n",
       "</style>\n",
       "<table border=\"1\" class=\"dataframe\">\n",
       "  <thead>\n",
       "    <tr style=\"text-align: right;\">\n",
       "      <th></th>\n",
       "      <th>0</th>\n",
       "      <th>1</th>\n",
       "      <th>2</th>\n",
       "    </tr>\n",
       "  </thead>\n",
       "  <tbody>\n",
       "    <tr>\n",
       "      <th>0</th>\n",
       "      <td>1.0</td>\n",
       "      <td>1.0</td>\n",
       "      <td>0.0</td>\n",
       "    </tr>\n",
       "    <tr>\n",
       "      <th>1</th>\n",
       "      <td>1.0</td>\n",
       "      <td>1.0</td>\n",
       "      <td>0.0</td>\n",
       "    </tr>\n",
       "    <tr>\n",
       "      <th>2</th>\n",
       "      <td>1.0</td>\n",
       "      <td>1.0</td>\n",
       "      <td>0.0</td>\n",
       "    </tr>\n",
       "    <tr>\n",
       "      <th>3</th>\n",
       "      <td>1.0</td>\n",
       "      <td>1.0</td>\n",
       "      <td>0.0</td>\n",
       "    </tr>\n",
       "    <tr>\n",
       "      <th>4</th>\n",
       "      <td>1.0</td>\n",
       "      <td>1.0</td>\n",
       "      <td>0.0</td>\n",
       "    </tr>\n",
       "  </tbody>\n",
       "</table>\n",
       "</div>"
      ],
      "text/plain": [
       "     0    1    2\n",
       "0  1.0  1.0  0.0\n",
       "1  1.0  1.0  0.0\n",
       "2  1.0  1.0  0.0\n",
       "3  1.0  1.0  0.0\n",
       "4  1.0  1.0  0.0"
      ]
     },
     "execution_count": 41,
     "metadata": {},
     "output_type": "execute_result"
    }
   ],
   "source": [
    "X_train_cat = X_train[cat]\n",
    "X_train_cat_encoded = ohe.fit_transform(X_train_cat)\n",
    "X_train_cat_encoded_df = pd.DataFrame(X_train_cat_encoded)\n",
    "\n",
    "X_train_cat_encoded_df.head()"
   ]
  },
  {
   "cell_type": "code",
   "execution_count": 42,
   "id": "aac25c84",
   "metadata": {},
   "outputs": [
    {
     "data": {
      "text/plain": [
       "(5190, 3)"
      ]
     },
     "execution_count": 42,
     "metadata": {},
     "output_type": "execute_result"
    }
   ],
   "source": [
    "X_train_cat_encoded_df.shape"
   ]
  },
  {
   "cell_type": "code",
   "execution_count": 43,
   "id": "a334c1c8",
   "metadata": {},
   "outputs": [
    {
     "data": {
      "text/html": [
       "<div>\n",
       "<style scoped>\n",
       "    .dataframe tbody tr th:only-of-type {\n",
       "        vertical-align: middle;\n",
       "    }\n",
       "\n",
       "    .dataframe tbody tr th {\n",
       "        vertical-align: top;\n",
       "    }\n",
       "\n",
       "    .dataframe thead th {\n",
       "        text-align: right;\n",
       "    }\n",
       "</style>\n",
       "<table border=\"1\" class=\"dataframe\">\n",
       "  <thead>\n",
       "    <tr style=\"text-align: right;\">\n",
       "      <th></th>\n",
       "      <th>LOCALISATION DE LA PERSONNE QUI A COMMENTÉ</th>\n",
       "      <th>PRÉSENCE D'UNE RÉPONSE (booléen)</th>\n",
       "      <th>QUI A RÉPONDU</th>\n",
       "    </tr>\n",
       "    <tr>\n",
       "      <th>index_initial_train</th>\n",
       "      <th></th>\n",
       "      <th></th>\n",
       "      <th></th>\n",
       "    </tr>\n",
       "  </thead>\n",
       "  <tbody>\n",
       "    <tr>\n",
       "      <th>7002</th>\n",
       "      <td>1.0</td>\n",
       "      <td>1.0</td>\n",
       "      <td>0.0</td>\n",
       "    </tr>\n",
       "    <tr>\n",
       "      <th>5745</th>\n",
       "      <td>1.0</td>\n",
       "      <td>1.0</td>\n",
       "      <td>0.0</td>\n",
       "    </tr>\n",
       "    <tr>\n",
       "      <th>92</th>\n",
       "      <td>1.0</td>\n",
       "      <td>1.0</td>\n",
       "      <td>0.0</td>\n",
       "    </tr>\n",
       "    <tr>\n",
       "      <th>5676</th>\n",
       "      <td>1.0</td>\n",
       "      <td>1.0</td>\n",
       "      <td>0.0</td>\n",
       "    </tr>\n",
       "    <tr>\n",
       "      <th>4415</th>\n",
       "      <td>1.0</td>\n",
       "      <td>1.0</td>\n",
       "      <td>0.0</td>\n",
       "    </tr>\n",
       "  </tbody>\n",
       "</table>\n",
       "</div>"
      ],
      "text/plain": [
       "                     LOCALISATION DE LA PERSONNE QUI A COMMENTÉ  \\\n",
       "index_initial_train                                               \n",
       "7002                                                        1.0   \n",
       "5745                                                        1.0   \n",
       "92                                                          1.0   \n",
       "5676                                                        1.0   \n",
       "4415                                                        1.0   \n",
       "\n",
       "                     PRÉSENCE D'UNE RÉPONSE (booléen)  QUI A RÉPONDU  \n",
       "index_initial_train                                                   \n",
       "7002                                              1.0            0.0  \n",
       "5745                                              1.0            0.0  \n",
       "92                                                1.0            0.0  \n",
       "5676                                              1.0            0.0  \n",
       "4415                                              1.0            0.0  "
      ]
     },
     "execution_count": 43,
     "metadata": {},
     "output_type": "execute_result"
    }
   ],
   "source": [
    "df_cat_train_enc_index = df_index_train.join(X_train_cat_encoded_df)\n",
    "df_cat_train_enc_index = df_cat_train_enc_index.rename(columns={0: 'LOCALISATION DE LA PERSONNE QUI A COMMENTÉ', 1: \"PRÉSENCE D'UNE RÉPONSE (booléen)\", 2: \"QUI A RÉPONDU\"})\n",
    "df_cat_train_enc_index = df_cat_train_enc_index.set_index('index_initial_train')\n",
    "df_cat_train_enc_index.head()"
   ]
  },
  {
   "cell_type": "code",
   "execution_count": 44,
   "id": "9ba64210",
   "metadata": {},
   "outputs": [
    {
     "data": {
      "text/plain": [
       "(5190, 3)"
      ]
     },
     "execution_count": 44,
     "metadata": {},
     "output_type": "execute_result"
    }
   ],
   "source": [
    "df_cat_train_enc_index.shape"
   ]
  },
  {
   "cell_type": "code",
   "execution_count": 45,
   "id": "4b65770e",
   "metadata": {},
   "outputs": [
    {
     "data": {
      "text/plain": [
       "(5190, 1)"
      ]
     },
     "execution_count": 45,
     "metadata": {},
     "output_type": "execute_result"
    }
   ],
   "source": [
    "y_train.shape"
   ]
  },
  {
   "cell_type": "code",
   "execution_count": 46,
   "id": "5d50569d",
   "metadata": {},
   "outputs": [
    {
     "data": {
      "text/plain": [
       "(1731, 6)"
      ]
     },
     "execution_count": 46,
     "metadata": {},
     "output_type": "execute_result"
    }
   ],
   "source": [
    "X_test.shape"
   ]
  },
  {
   "cell_type": "code",
   "execution_count": 47,
   "id": "f7b63732",
   "metadata": {},
   "outputs": [],
   "source": [
    "X_test_cat = X_test[cat]\n",
    "X_test_cat_encoded = ohe.transform(X_test[cat])\n",
    "X_test_cat_encoded_df = pd.DataFrame(X_test_cat_encoded)"
   ]
  },
  {
   "cell_type": "code",
   "execution_count": 48,
   "id": "377f5c24",
   "metadata": {},
   "outputs": [
    {
     "data": {
      "text/plain": [
       "(1731, 3)"
      ]
     },
     "execution_count": 48,
     "metadata": {},
     "output_type": "execute_result"
    }
   ],
   "source": [
    "X_test_cat_encoded_df.shape"
   ]
  },
  {
   "cell_type": "code",
   "execution_count": 49,
   "id": "ee30f696",
   "metadata": {},
   "outputs": [
    {
     "data": {
      "text/plain": [
       "(1731, 1)"
      ]
     },
     "execution_count": 49,
     "metadata": {},
     "output_type": "execute_result"
    }
   ],
   "source": [
    "y_test.shape"
   ]
  },
  {
   "cell_type": "code",
   "execution_count": 50,
   "id": "b2d77c66",
   "metadata": {},
   "outputs": [
    {
     "data": {
      "text/html": [
       "<div>\n",
       "<style scoped>\n",
       "    .dataframe tbody tr th:only-of-type {\n",
       "        vertical-align: middle;\n",
       "    }\n",
       "\n",
       "    .dataframe tbody tr th {\n",
       "        vertical-align: top;\n",
       "    }\n",
       "\n",
       "    .dataframe thead th {\n",
       "        text-align: right;\n",
       "    }\n",
       "</style>\n",
       "<table border=\"1\" class=\"dataframe\">\n",
       "  <thead>\n",
       "    <tr style=\"text-align: right;\">\n",
       "      <th></th>\n",
       "      <th>LOCALISATION DE LA PERSONNE QUI A COMMENTÉ</th>\n",
       "      <th>PRÉSENCE D'UNE RÉPONSE (booléen)</th>\n",
       "      <th>QUI A RÉPONDU</th>\n",
       "    </tr>\n",
       "  </thead>\n",
       "  <tbody>\n",
       "    <tr>\n",
       "      <th>491</th>\n",
       "      <td>FR</td>\n",
       "      <td>True</td>\n",
       "      <td>Showroomprive.com</td>\n",
       "    </tr>\n",
       "    <tr>\n",
       "      <th>2943</th>\n",
       "      <td>FR</td>\n",
       "      <td>True</td>\n",
       "      <td>Showroomprive.com</td>\n",
       "    </tr>\n",
       "    <tr>\n",
       "      <th>843</th>\n",
       "      <td>FR</td>\n",
       "      <td>True</td>\n",
       "      <td>Showroomprive.com</td>\n",
       "    </tr>\n",
       "    <tr>\n",
       "      <th>3532</th>\n",
       "      <td>FR</td>\n",
       "      <td>True</td>\n",
       "      <td>Showroomprive.com</td>\n",
       "    </tr>\n",
       "    <tr>\n",
       "      <th>3651</th>\n",
       "      <td>FR</td>\n",
       "      <td>True</td>\n",
       "      <td>Showroomprive.com</td>\n",
       "    </tr>\n",
       "  </tbody>\n",
       "</table>\n",
       "</div>"
      ],
      "text/plain": [
       "     LOCALISATION DE LA PERSONNE QUI A COMMENTÉ  \\\n",
       "491                                          FR   \n",
       "2943                                         FR   \n",
       "843                                          FR   \n",
       "3532                                         FR   \n",
       "3651                                         FR   \n",
       "\n",
       "      PRÉSENCE D'UNE RÉPONSE (booléen)      QUI A RÉPONDU  \n",
       "491                               True  Showroomprive.com  \n",
       "2943                              True  Showroomprive.com  \n",
       "843                               True  Showroomprive.com  \n",
       "3532                              True  Showroomprive.com  \n",
       "3651                              True  Showroomprive.com  "
      ]
     },
     "execution_count": 50,
     "metadata": {},
     "output_type": "execute_result"
    }
   ],
   "source": [
    "X_test_cat.head()"
   ]
  },
  {
   "cell_type": "code",
   "execution_count": 51,
   "id": "6373a58d",
   "metadata": {},
   "outputs": [
    {
     "data": {
      "text/plain": [
       "(1731, 3)"
      ]
     },
     "execution_count": 51,
     "metadata": {},
     "output_type": "execute_result"
    }
   ],
   "source": [
    "X_test_cat.shape"
   ]
  },
  {
   "cell_type": "code",
   "execution_count": 52,
   "id": "1e88bc4b",
   "metadata": {},
   "outputs": [
    {
     "data": {
      "text/html": [
       "<div>\n",
       "<style scoped>\n",
       "    .dataframe tbody tr th:only-of-type {\n",
       "        vertical-align: middle;\n",
       "    }\n",
       "\n",
       "    .dataframe tbody tr th {\n",
       "        vertical-align: top;\n",
       "    }\n",
       "\n",
       "    .dataframe thead th {\n",
       "        text-align: right;\n",
       "    }\n",
       "</style>\n",
       "<table border=\"1\" class=\"dataframe\">\n",
       "  <thead>\n",
       "    <tr style=\"text-align: right;\">\n",
       "      <th></th>\n",
       "      <th>0</th>\n",
       "      <th>1</th>\n",
       "      <th>2</th>\n",
       "    </tr>\n",
       "  </thead>\n",
       "  <tbody>\n",
       "    <tr>\n",
       "      <th>0</th>\n",
       "      <td>1.0</td>\n",
       "      <td>1.0</td>\n",
       "      <td>0.0</td>\n",
       "    </tr>\n",
       "    <tr>\n",
       "      <th>1</th>\n",
       "      <td>1.0</td>\n",
       "      <td>1.0</td>\n",
       "      <td>0.0</td>\n",
       "    </tr>\n",
       "    <tr>\n",
       "      <th>2</th>\n",
       "      <td>1.0</td>\n",
       "      <td>1.0</td>\n",
       "      <td>0.0</td>\n",
       "    </tr>\n",
       "    <tr>\n",
       "      <th>3</th>\n",
       "      <td>1.0</td>\n",
       "      <td>1.0</td>\n",
       "      <td>0.0</td>\n",
       "    </tr>\n",
       "    <tr>\n",
       "      <th>4</th>\n",
       "      <td>1.0</td>\n",
       "      <td>1.0</td>\n",
       "      <td>0.0</td>\n",
       "    </tr>\n",
       "  </tbody>\n",
       "</table>\n",
       "</div>"
      ],
      "text/plain": [
       "     0    1    2\n",
       "0  1.0  1.0  0.0\n",
       "1  1.0  1.0  0.0\n",
       "2  1.0  1.0  0.0\n",
       "3  1.0  1.0  0.0\n",
       "4  1.0  1.0  0.0"
      ]
     },
     "execution_count": 52,
     "metadata": {},
     "output_type": "execute_result"
    }
   ],
   "source": [
    "X_test_cat_encoded_df.head()"
   ]
  },
  {
   "cell_type": "code",
   "execution_count": 53,
   "id": "9de66a9b",
   "metadata": {},
   "outputs": [
    {
     "data": {
      "text/plain": [
       "(1731, 3)"
      ]
     },
     "execution_count": 53,
     "metadata": {},
     "output_type": "execute_result"
    }
   ],
   "source": [
    "X_test_cat_encoded_df.shape"
   ]
  },
  {
   "cell_type": "code",
   "execution_count": 54,
   "id": "870ee84a",
   "metadata": {},
   "outputs": [],
   "source": [
    "quant = ['NOMBRE AVIS LAISSÉ PAR CETTE PERSONNE', \"COMMENTAIRE TOT\", \"RÉPONSE AU COMMENTAIRE\"]\n",
    "X_train_quant = X_train[quant]\n",
    "X_test_quant = X_test[quant]"
   ]
  },
  {
   "cell_type": "code",
   "execution_count": 55,
   "id": "576a335f",
   "metadata": {},
   "outputs": [
    {
     "data": {
      "text/plain": [
       "(1731, 3)"
      ]
     },
     "execution_count": 55,
     "metadata": {},
     "output_type": "execute_result"
    }
   ],
   "source": [
    "X_test_quant.shape"
   ]
  },
  {
   "cell_type": "code",
   "execution_count": 56,
   "id": "308720a1",
   "metadata": {},
   "outputs": [
    {
     "data": {
      "text/html": [
       "<div>\n",
       "<style scoped>\n",
       "    .dataframe tbody tr th:only-of-type {\n",
       "        vertical-align: middle;\n",
       "    }\n",
       "\n",
       "    .dataframe tbody tr th {\n",
       "        vertical-align: top;\n",
       "    }\n",
       "\n",
       "    .dataframe thead th {\n",
       "        text-align: right;\n",
       "    }\n",
       "</style>\n",
       "<table border=\"1\" class=\"dataframe\">\n",
       "  <thead>\n",
       "    <tr style=\"text-align: right;\">\n",
       "      <th></th>\n",
       "      <th>0</th>\n",
       "      <th>1</th>\n",
       "      <th>2</th>\n",
       "    </tr>\n",
       "  </thead>\n",
       "  <tbody>\n",
       "    <tr>\n",
       "      <th>0</th>\n",
       "      <td>1.0</td>\n",
       "      <td>1.0</td>\n",
       "      <td>0.0</td>\n",
       "    </tr>\n",
       "    <tr>\n",
       "      <th>1</th>\n",
       "      <td>1.0</td>\n",
       "      <td>1.0</td>\n",
       "      <td>0.0</td>\n",
       "    </tr>\n",
       "    <tr>\n",
       "      <th>2</th>\n",
       "      <td>1.0</td>\n",
       "      <td>1.0</td>\n",
       "      <td>0.0</td>\n",
       "    </tr>\n",
       "    <tr>\n",
       "      <th>3</th>\n",
       "      <td>1.0</td>\n",
       "      <td>1.0</td>\n",
       "      <td>0.0</td>\n",
       "    </tr>\n",
       "    <tr>\n",
       "      <th>4</th>\n",
       "      <td>1.0</td>\n",
       "      <td>1.0</td>\n",
       "      <td>0.0</td>\n",
       "    </tr>\n",
       "  </tbody>\n",
       "</table>\n",
       "</div>"
      ],
      "text/plain": [
       "     0    1    2\n",
       "0  1.0  1.0  0.0\n",
       "1  1.0  1.0  0.0\n",
       "2  1.0  1.0  0.0\n",
       "3  1.0  1.0  0.0\n",
       "4  1.0  1.0  0.0"
      ]
     },
     "execution_count": 56,
     "metadata": {},
     "output_type": "execute_result"
    }
   ],
   "source": [
    "X_test_cat_encoded_df.head()"
   ]
  },
  {
   "cell_type": "code",
   "execution_count": 57,
   "id": "f6eb5ecf",
   "metadata": {},
   "outputs": [
    {
     "data": {
      "text/html": [
       "<div>\n",
       "<style scoped>\n",
       "    .dataframe tbody tr th:only-of-type {\n",
       "        vertical-align: middle;\n",
       "    }\n",
       "\n",
       "    .dataframe tbody tr th {\n",
       "        vertical-align: top;\n",
       "    }\n",
       "\n",
       "    .dataframe thead th {\n",
       "        text-align: right;\n",
       "    }\n",
       "</style>\n",
       "<table border=\"1\" class=\"dataframe\">\n",
       "  <thead>\n",
       "    <tr style=\"text-align: right;\">\n",
       "      <th></th>\n",
       "      <th>LOCALISATION DE LA PERSONNE QUI A COMMENTÉ</th>\n",
       "      <th>PRÉSENCE D'UNE RÉPONSE (booléen)</th>\n",
       "      <th>QUI A RÉPONDU</th>\n",
       "    </tr>\n",
       "    <tr>\n",
       "      <th>index_initial_test</th>\n",
       "      <th></th>\n",
       "      <th></th>\n",
       "      <th></th>\n",
       "    </tr>\n",
       "  </thead>\n",
       "  <tbody>\n",
       "    <tr>\n",
       "      <th>491</th>\n",
       "      <td>1.0</td>\n",
       "      <td>1.0</td>\n",
       "      <td>0.0</td>\n",
       "    </tr>\n",
       "    <tr>\n",
       "      <th>2943</th>\n",
       "      <td>1.0</td>\n",
       "      <td>1.0</td>\n",
       "      <td>0.0</td>\n",
       "    </tr>\n",
       "    <tr>\n",
       "      <th>843</th>\n",
       "      <td>1.0</td>\n",
       "      <td>1.0</td>\n",
       "      <td>0.0</td>\n",
       "    </tr>\n",
       "    <tr>\n",
       "      <th>3532</th>\n",
       "      <td>1.0</td>\n",
       "      <td>1.0</td>\n",
       "      <td>0.0</td>\n",
       "    </tr>\n",
       "    <tr>\n",
       "      <th>3651</th>\n",
       "      <td>1.0</td>\n",
       "      <td>1.0</td>\n",
       "      <td>0.0</td>\n",
       "    </tr>\n",
       "  </tbody>\n",
       "</table>\n",
       "</div>"
      ],
      "text/plain": [
       "                    LOCALISATION DE LA PERSONNE QUI A COMMENTÉ  \\\n",
       "index_initial_test                                               \n",
       "491                                                        1.0   \n",
       "2943                                                       1.0   \n",
       "843                                                        1.0   \n",
       "3532                                                       1.0   \n",
       "3651                                                       1.0   \n",
       "\n",
       "                    PRÉSENCE D'UNE RÉPONSE (booléen)  QUI A RÉPONDU  \n",
       "index_initial_test                                                   \n",
       "491                                              1.0            0.0  \n",
       "2943                                             1.0            0.0  \n",
       "843                                              1.0            0.0  \n",
       "3532                                             1.0            0.0  \n",
       "3651                                             1.0            0.0  "
      ]
     },
     "execution_count": 57,
     "metadata": {},
     "output_type": "execute_result"
    }
   ],
   "source": [
    "df_cat_test_enc_index = df_index_test.join(X_test_cat_encoded_df)\n",
    "df_cat_test_enc_index = df_cat_test_enc_index.rename(columns={0: 'LOCALISATION DE LA PERSONNE QUI A COMMENTÉ', 1: \"PRÉSENCE D'UNE RÉPONSE (booléen)\", 2: \"QUI A RÉPONDU\"})\n",
    "df_cat_test_enc_index = df_cat_test_enc_index.set_index('index_initial_test')\n",
    "df_cat_test_enc_index.head()"
   ]
  },
  {
   "cell_type": "code",
   "execution_count": 58,
   "id": "52453645",
   "metadata": {},
   "outputs": [
    {
     "data": {
      "text/plain": [
       "(1731, 3)"
      ]
     },
     "execution_count": 58,
     "metadata": {},
     "output_type": "execute_result"
    }
   ],
   "source": [
    "df_cat_test_enc_index.shape"
   ]
  },
  {
   "cell_type": "code",
   "execution_count": 59,
   "id": "775d99a9",
   "metadata": {},
   "outputs": [
    {
     "data": {
      "text/plain": [
       "(1731, 1)"
      ]
     },
     "execution_count": 59,
     "metadata": {},
     "output_type": "execute_result"
    }
   ],
   "source": [
    "y_test.shape"
   ]
  },
  {
   "cell_type": "code",
   "execution_count": 60,
   "id": "fa3dbc58",
   "metadata": {},
   "outputs": [
    {
     "data": {
      "text/html": [
       "<div>\n",
       "<style scoped>\n",
       "    .dataframe tbody tr th:only-of-type {\n",
       "        vertical-align: middle;\n",
       "    }\n",
       "\n",
       "    .dataframe tbody tr th {\n",
       "        vertical-align: top;\n",
       "    }\n",
       "\n",
       "    .dataframe thead th {\n",
       "        text-align: right;\n",
       "    }\n",
       "</style>\n",
       "<table border=\"1\" class=\"dataframe\">\n",
       "  <thead>\n",
       "    <tr style=\"text-align: right;\">\n",
       "      <th></th>\n",
       "      <th>NOMBRE AVIS LAISSÉ PAR CETTE PERSONNE</th>\n",
       "      <th>COMMENTAIRE TOT</th>\n",
       "      <th>RÉPONSE AU COMMENTAIRE</th>\n",
       "    </tr>\n",
       "  </thead>\n",
       "  <tbody>\n",
       "    <tr>\n",
       "      <th>491</th>\n",
       "      <td>1</td>\n",
       "      <td>0.3595</td>\n",
       "      <td>0.9020</td>\n",
       "    </tr>\n",
       "    <tr>\n",
       "      <th>2943</th>\n",
       "      <td>2</td>\n",
       "      <td>0.8481</td>\n",
       "      <td>0.7321</td>\n",
       "    </tr>\n",
       "    <tr>\n",
       "      <th>843</th>\n",
       "      <td>3</td>\n",
       "      <td>0.3134</td>\n",
       "      <td>0.9485</td>\n",
       "    </tr>\n",
       "    <tr>\n",
       "      <th>3532</th>\n",
       "      <td>4</td>\n",
       "      <td>0.5709</td>\n",
       "      <td>0.7321</td>\n",
       "    </tr>\n",
       "    <tr>\n",
       "      <th>3651</th>\n",
       "      <td>2</td>\n",
       "      <td>0.0000</td>\n",
       "      <td>0.7321</td>\n",
       "    </tr>\n",
       "  </tbody>\n",
       "</table>\n",
       "</div>"
      ],
      "text/plain": [
       "      NOMBRE AVIS LAISSÉ PAR CETTE PERSONNE  COMMENTAIRE TOT  \\\n",
       "491                                       1           0.3595   \n",
       "2943                                      2           0.8481   \n",
       "843                                       3           0.3134   \n",
       "3532                                      4           0.5709   \n",
       "3651                                      2           0.0000   \n",
       "\n",
       "      RÉPONSE AU COMMENTAIRE  \n",
       "491                   0.9020  \n",
       "2943                  0.7321  \n",
       "843                   0.9485  \n",
       "3532                  0.7321  \n",
       "3651                  0.7321  "
      ]
     },
     "execution_count": 60,
     "metadata": {},
     "output_type": "execute_result"
    }
   ],
   "source": [
    "X_test_quant.head()"
   ]
  },
  {
   "cell_type": "code",
   "execution_count": 61,
   "id": "4780f9ea",
   "metadata": {},
   "outputs": [
    {
     "data": {
      "text/plain": [
       "(1731, 3)"
      ]
     },
     "execution_count": 61,
     "metadata": {},
     "output_type": "execute_result"
    }
   ],
   "source": [
    "X_test_quant.shape"
   ]
  },
  {
   "cell_type": "code",
   "execution_count": 62,
   "id": "19f5a080",
   "metadata": {},
   "outputs": [],
   "source": [
    "X_train = df_cat_train_enc_index.join([X_train_quant])\n",
    "X_test = df_cat_test_enc_index.join([X_test_quant])"
   ]
  },
  {
   "cell_type": "code",
   "execution_count": 63,
   "id": "7c371f12",
   "metadata": {},
   "outputs": [
    {
     "data": {
      "text/html": [
       "<div>\n",
       "<style scoped>\n",
       "    .dataframe tbody tr th:only-of-type {\n",
       "        vertical-align: middle;\n",
       "    }\n",
       "\n",
       "    .dataframe tbody tr th {\n",
       "        vertical-align: top;\n",
       "    }\n",
       "\n",
       "    .dataframe thead th {\n",
       "        text-align: right;\n",
       "    }\n",
       "</style>\n",
       "<table border=\"1\" class=\"dataframe\">\n",
       "  <thead>\n",
       "    <tr style=\"text-align: right;\">\n",
       "      <th></th>\n",
       "      <th>LOCALISATION DE LA PERSONNE QUI A COMMENTÉ</th>\n",
       "      <th>PRÉSENCE D'UNE RÉPONSE (booléen)</th>\n",
       "      <th>QUI A RÉPONDU</th>\n",
       "      <th>NOMBRE AVIS LAISSÉ PAR CETTE PERSONNE</th>\n",
       "      <th>COMMENTAIRE TOT</th>\n",
       "      <th>RÉPONSE AU COMMENTAIRE</th>\n",
       "    </tr>\n",
       "    <tr>\n",
       "      <th>index_initial_train</th>\n",
       "      <th></th>\n",
       "      <th></th>\n",
       "      <th></th>\n",
       "      <th></th>\n",
       "      <th></th>\n",
       "      <th></th>\n",
       "    </tr>\n",
       "  </thead>\n",
       "  <tbody>\n",
       "    <tr>\n",
       "      <th>7002</th>\n",
       "      <td>1.0</td>\n",
       "      <td>1.0</td>\n",
       "      <td>0.0</td>\n",
       "      <td>1</td>\n",
       "      <td>0.8915</td>\n",
       "      <td>0.7964</td>\n",
       "    </tr>\n",
       "    <tr>\n",
       "      <th>5745</th>\n",
       "      <td>1.0</td>\n",
       "      <td>1.0</td>\n",
       "      <td>0.0</td>\n",
       "      <td>17</td>\n",
       "      <td>-0.1027</td>\n",
       "      <td>0.4035</td>\n",
       "    </tr>\n",
       "    <tr>\n",
       "      <th>92</th>\n",
       "      <td>1.0</td>\n",
       "      <td>1.0</td>\n",
       "      <td>0.0</td>\n",
       "      <td>4</td>\n",
       "      <td>0.3612</td>\n",
       "      <td>0.8434</td>\n",
       "    </tr>\n",
       "    <tr>\n",
       "      <th>5676</th>\n",
       "      <td>1.0</td>\n",
       "      <td>1.0</td>\n",
       "      <td>0.0</td>\n",
       "      <td>3</td>\n",
       "      <td>0.2023</td>\n",
       "      <td>0.8678</td>\n",
       "    </tr>\n",
       "    <tr>\n",
       "      <th>4415</th>\n",
       "      <td>1.0</td>\n",
       "      <td>1.0</td>\n",
       "      <td>0.0</td>\n",
       "      <td>7</td>\n",
       "      <td>-0.9345</td>\n",
       "      <td>0.7184</td>\n",
       "    </tr>\n",
       "  </tbody>\n",
       "</table>\n",
       "</div>"
      ],
      "text/plain": [
       "                     LOCALISATION DE LA PERSONNE QUI A COMMENTÉ  \\\n",
       "index_initial_train                                               \n",
       "7002                                                        1.0   \n",
       "5745                                                        1.0   \n",
       "92                                                          1.0   \n",
       "5676                                                        1.0   \n",
       "4415                                                        1.0   \n",
       "\n",
       "                     PRÉSENCE D'UNE RÉPONSE (booléen)  QUI A RÉPONDU  \\\n",
       "index_initial_train                                                    \n",
       "7002                                              1.0            0.0   \n",
       "5745                                              1.0            0.0   \n",
       "92                                                1.0            0.0   \n",
       "5676                                              1.0            0.0   \n",
       "4415                                              1.0            0.0   \n",
       "\n",
       "                     NOMBRE AVIS LAISSÉ PAR CETTE PERSONNE  COMMENTAIRE TOT  \\\n",
       "index_initial_train                                                           \n",
       "7002                                                     1           0.8915   \n",
       "5745                                                    17          -0.1027   \n",
       "92                                                       4           0.3612   \n",
       "5676                                                     3           0.2023   \n",
       "4415                                                     7          -0.9345   \n",
       "\n",
       "                     RÉPONSE AU COMMENTAIRE  \n",
       "index_initial_train                          \n",
       "7002                                 0.7964  \n",
       "5745                                 0.4035  \n",
       "92                                   0.8434  \n",
       "5676                                 0.8678  \n",
       "4415                                 0.7184  "
      ]
     },
     "execution_count": 63,
     "metadata": {},
     "output_type": "execute_result"
    }
   ],
   "source": [
    "X_train.head()"
   ]
  },
  {
   "cell_type": "code",
   "execution_count": 64,
   "id": "c90491e3",
   "metadata": {},
   "outputs": [
    {
     "data": {
      "text/plain": [
       "LOCALISATION DE LA PERSONNE QUI A COMMENTÉ    0\n",
       "PRÉSENCE D'UNE RÉPONSE (booléen)              0\n",
       "QUI A RÉPONDU                                 0\n",
       "NOMBRE AVIS LAISSÉ PAR CETTE PERSONNE         0\n",
       "COMMENTAIRE TOT                               0\n",
       "RÉPONSE AU COMMENTAIRE                        0\n",
       "dtype: int64"
      ]
     },
     "execution_count": 64,
     "metadata": {},
     "output_type": "execute_result"
    }
   ],
   "source": [
    "X_train.isna().sum()"
   ]
  },
  {
   "cell_type": "code",
   "execution_count": 65,
   "id": "be3a0d65",
   "metadata": {},
   "outputs": [
    {
     "data": {
      "text/html": [
       "<div>\n",
       "<style scoped>\n",
       "    .dataframe tbody tr th:only-of-type {\n",
       "        vertical-align: middle;\n",
       "    }\n",
       "\n",
       "    .dataframe tbody tr th {\n",
       "        vertical-align: top;\n",
       "    }\n",
       "\n",
       "    .dataframe thead th {\n",
       "        text-align: right;\n",
       "    }\n",
       "</style>\n",
       "<table border=\"1\" class=\"dataframe\">\n",
       "  <thead>\n",
       "    <tr style=\"text-align: right;\">\n",
       "      <th></th>\n",
       "      <th>LOCALISATION DE LA PERSONNE QUI A COMMENTÉ</th>\n",
       "      <th>PRÉSENCE D'UNE RÉPONSE (booléen)</th>\n",
       "      <th>QUI A RÉPONDU</th>\n",
       "      <th>NOMBRE AVIS LAISSÉ PAR CETTE PERSONNE</th>\n",
       "      <th>COMMENTAIRE TOT</th>\n",
       "      <th>RÉPONSE AU COMMENTAIRE</th>\n",
       "    </tr>\n",
       "    <tr>\n",
       "      <th>index_initial_test</th>\n",
       "      <th></th>\n",
       "      <th></th>\n",
       "      <th></th>\n",
       "      <th></th>\n",
       "      <th></th>\n",
       "      <th></th>\n",
       "    </tr>\n",
       "  </thead>\n",
       "  <tbody>\n",
       "    <tr>\n",
       "      <th>491</th>\n",
       "      <td>1.0</td>\n",
       "      <td>1.0</td>\n",
       "      <td>0.0</td>\n",
       "      <td>1</td>\n",
       "      <td>0.3595</td>\n",
       "      <td>0.9020</td>\n",
       "    </tr>\n",
       "    <tr>\n",
       "      <th>2943</th>\n",
       "      <td>1.0</td>\n",
       "      <td>1.0</td>\n",
       "      <td>0.0</td>\n",
       "      <td>2</td>\n",
       "      <td>0.8481</td>\n",
       "      <td>0.7321</td>\n",
       "    </tr>\n",
       "    <tr>\n",
       "      <th>843</th>\n",
       "      <td>1.0</td>\n",
       "      <td>1.0</td>\n",
       "      <td>0.0</td>\n",
       "      <td>3</td>\n",
       "      <td>0.3134</td>\n",
       "      <td>0.9485</td>\n",
       "    </tr>\n",
       "    <tr>\n",
       "      <th>3532</th>\n",
       "      <td>1.0</td>\n",
       "      <td>1.0</td>\n",
       "      <td>0.0</td>\n",
       "      <td>4</td>\n",
       "      <td>0.5709</td>\n",
       "      <td>0.7321</td>\n",
       "    </tr>\n",
       "    <tr>\n",
       "      <th>3651</th>\n",
       "      <td>1.0</td>\n",
       "      <td>1.0</td>\n",
       "      <td>0.0</td>\n",
       "      <td>2</td>\n",
       "      <td>0.0000</td>\n",
       "      <td>0.7321</td>\n",
       "    </tr>\n",
       "  </tbody>\n",
       "</table>\n",
       "</div>"
      ],
      "text/plain": [
       "                    LOCALISATION DE LA PERSONNE QUI A COMMENTÉ  \\\n",
       "index_initial_test                                               \n",
       "491                                                        1.0   \n",
       "2943                                                       1.0   \n",
       "843                                                        1.0   \n",
       "3532                                                       1.0   \n",
       "3651                                                       1.0   \n",
       "\n",
       "                    PRÉSENCE D'UNE RÉPONSE (booléen)  QUI A RÉPONDU  \\\n",
       "index_initial_test                                                    \n",
       "491                                              1.0            0.0   \n",
       "2943                                             1.0            0.0   \n",
       "843                                              1.0            0.0   \n",
       "3532                                             1.0            0.0   \n",
       "3651                                             1.0            0.0   \n",
       "\n",
       "                    NOMBRE AVIS LAISSÉ PAR CETTE PERSONNE  COMMENTAIRE TOT  \\\n",
       "index_initial_test                                                           \n",
       "491                                                     1           0.3595   \n",
       "2943                                                    2           0.8481   \n",
       "843                                                     3           0.3134   \n",
       "3532                                                    4           0.5709   \n",
       "3651                                                    2           0.0000   \n",
       "\n",
       "                    RÉPONSE AU COMMENTAIRE  \n",
       "index_initial_test                          \n",
       "491                                 0.9020  \n",
       "2943                                0.7321  \n",
       "843                                 0.9485  \n",
       "3532                                0.7321  \n",
       "3651                                0.7321  "
      ]
     },
     "execution_count": 65,
     "metadata": {},
     "output_type": "execute_result"
    }
   ],
   "source": [
    "X_test.head()"
   ]
  },
  {
   "cell_type": "code",
   "execution_count": 66,
   "id": "155f6ef8",
   "metadata": {},
   "outputs": [
    {
     "data": {
      "text/plain": [
       "LOCALISATION DE LA PERSONNE QUI A COMMENTÉ    0\n",
       "PRÉSENCE D'UNE RÉPONSE (booléen)              0\n",
       "QUI A RÉPONDU                                 0\n",
       "NOMBRE AVIS LAISSÉ PAR CETTE PERSONNE         0\n",
       "COMMENTAIRE TOT                               0\n",
       "RÉPONSE AU COMMENTAIRE                        0\n",
       "dtype: int64"
      ]
     },
     "execution_count": 66,
     "metadata": {},
     "output_type": "execute_result"
    }
   ],
   "source": [
    "X_test.isna().sum()"
   ]
  },
  {
   "cell_type": "code",
   "execution_count": 67,
   "id": "7d045901",
   "metadata": {},
   "outputs": [],
   "source": [
    "X_test=X_test.dropna()"
   ]
  },
  {
   "cell_type": "code",
   "execution_count": 68,
   "id": "360aa76f",
   "metadata": {},
   "outputs": [
    {
     "data": {
      "text/plain": [
       "LOCALISATION DE LA PERSONNE QUI A COMMENTÉ    0\n",
       "PRÉSENCE D'UNE RÉPONSE (booléen)              0\n",
       "QUI A RÉPONDU                                 0\n",
       "NOMBRE AVIS LAISSÉ PAR CETTE PERSONNE         0\n",
       "COMMENTAIRE TOT                               0\n",
       "RÉPONSE AU COMMENTAIRE                        0\n",
       "dtype: int64"
      ]
     },
     "execution_count": 68,
     "metadata": {},
     "output_type": "execute_result"
    }
   ],
   "source": [
    "X_test.isna().sum()"
   ]
  },
  {
   "cell_type": "code",
   "execution_count": 69,
   "id": "e0e05dcc",
   "metadata": {},
   "outputs": [],
   "source": [
    "# X_train_encode = pd.get_dummies(X_train[X_train.columns[:-1]], drop_first=True)\n",
    "# X_train_encode.head(5)\n",
    "# X_train_encode.info()\n",
    "\n",
    "# col_ohe = ['NOMBRE AVIS LAISSÉ PAR CETTE PERSONNE', 'LOCALISATION DE LA PERSONNE QUI A COMMENTÉ', \"PRÉSENCE D'UNE RÉPONSE (booléen)\", \"QUI A RÉPONDU\"]\n",
    "\n",
    "# fff = X_test[col_ohe]\n",
    "# fff.head(10)\n",
    "# fff.shape\n",
    "# encoded_columns = ['Reponse ou non_encodé', 'Liste peronnes_encodé_1', 'Liste peronnes_encodé_2']\n",
    "\n",
    "# # Encodage des colonnes 'Reponse ou non' et 'Liste peronnes'\n",
    "# encoded_train = ohe.fit_transform(X_train[['Reponse ou non', 'Liste peronnes']])\n",
    "# encoded_test = ohe.transform(X_test[['Reponse ou non', 'Liste peronnes']])\n",
    "\n",
    "# # Assigner les nouvelles colonnes encodées à votre DataFrame d'entraînement\n",
    "# X_train[encoded_columns] = encoded_train\n",
    "# X_test[encoded_columns] = encoded_test\n",
    "\n",
    "# # Supprimer les colonnes originales\n",
    "# X_train = X_train.drop(['Reponse ou non', 'Liste peronnes'], axis=1)\n",
    "# X_test = X_test.drop(['Reponse ou non', 'Liste peronnes'], axis=1)\n",
    "\n",
    "# # Insérez votre code ici \n",
    "# from sklearn.preprocessing import OneHotEncoder\n",
    "\n",
    "# # Le paramètre drop permet d'éviter le problème de multicolinéarité\n",
    "# ohe = OneHotEncoder( drop=\"first\", sparse=False)\n",
    "\n",
    "# X_train.loc[:,['Reponse ou non', 'Liste peronnes']] = ohe.fit_transform(X_train[['Reponse ou non', 'Liste peronnes']])\n",
    "\n",
    "# X_test.loc[:,['Reponse ou non', 'Liste peronnes']] = ohe.transform(X_test[['Reponse ou non', 'Liste peronnes']])\n",
    "\n",
    "# X_test.head()\n"
   ]
  },
  {
   "cell_type": "code",
   "execution_count": 70,
   "id": "180ccd99",
   "metadata": {},
   "outputs": [
    {
     "name": "stdout",
     "output_type": "stream",
     "text": [
      "score d'entrainement : 0.6622350674373796 //// score de test : 0.6591565569035239\n"
     ]
    }
   ],
   "source": [
    "# Insérez votre code ici\n",
    "from sklearn.tree import DecisionTreeClassifier\n",
    "\n",
    "clf = DecisionTreeClassifier(max_depth = 3)\n",
    "\n",
    "clf.fit(X_train, y_train)\n",
    "\n",
    "score_train = clf.score(X_train, y_train)\n",
    "score_test = clf.score(X_test, y_test)\n",
    "\n",
    "print(\"score d'entrainement :\", score_train, \"////\", \"score de test :\", score_test)\n"
   ]
  },
  {
   "cell_type": "code",
   "execution_count": 82,
   "id": "6324a39b",
   "metadata": {},
   "outputs": [
    {
     "data": {
      "text/plain": [
       "pandas.core.frame.DataFrame"
      ]
     },
     "execution_count": 82,
     "metadata": {},
     "output_type": "execute_result"
    }
   ],
   "source": [
    "type(y_test)"
   ]
  },
  {
   "cell_type": "code",
   "execution_count": 79,
   "id": "cf62d370",
   "metadata": {},
   "outputs": [
    {
     "name": "stdout",
     "output_type": "stream",
     "text": [
      "      NOMBRE D'ÉTOILE\n",
      "491               5.0\n",
      "2943              5.0\n",
      "843               4.0\n",
      "3532              5.0\n",
      "3651              4.0\n",
      "...               ...\n",
      "1960              5.0\n",
      "6748              4.0\n",
      "3062              4.0\n",
      "5618              3.0\n",
      "4635              1.0\n",
      "\n",
      "[1731 rows x 1 columns]\n"
     ]
    }
   ],
   "source": [
    "print(y_test)"
   ]
  },
  {
   "cell_type": "code",
   "execution_count": 104,
   "id": "1fde24d2",
   "metadata": {},
   "outputs": [],
   "source": [
    "Tableau_test = X_test.join(y_test)\n",
    "Tableau_test = Tableau_test.drop(Tableau_test[Tableau_test[\"NOMBRE D'ÉTOILE\"].isin([3, 4, 5])].index)\n",
    "Tableau_test = Tableau_test.dropna(how='any', axis=0)"
   ]
  },
  {
   "cell_type": "code",
   "execution_count": 105,
   "id": "92e40f9c",
   "metadata": {},
   "outputs": [
    {
     "data": {
      "text/html": [
       "<div>\n",
       "<style scoped>\n",
       "    .dataframe tbody tr th:only-of-type {\n",
       "        vertical-align: middle;\n",
       "    }\n",
       "\n",
       "    .dataframe tbody tr th {\n",
       "        vertical-align: top;\n",
       "    }\n",
       "\n",
       "    .dataframe thead th {\n",
       "        text-align: right;\n",
       "    }\n",
       "</style>\n",
       "<table border=\"1\" class=\"dataframe\">\n",
       "  <thead>\n",
       "    <tr style=\"text-align: right;\">\n",
       "      <th></th>\n",
       "      <th>LOCALISATION DE LA PERSONNE QUI A COMMENTÉ</th>\n",
       "      <th>PRÉSENCE D'UNE RÉPONSE (booléen)</th>\n",
       "      <th>QUI A RÉPONDU</th>\n",
       "      <th>NOMBRE AVIS LAISSÉ PAR CETTE PERSONNE</th>\n",
       "      <th>COMMENTAIRE TOT</th>\n",
       "      <th>RÉPONSE AU COMMENTAIRE</th>\n",
       "      <th>NOMBRE D'ÉTOILE</th>\n",
       "    </tr>\n",
       "    <tr>\n",
       "      <th>index_initial_test</th>\n",
       "      <th></th>\n",
       "      <th></th>\n",
       "      <th></th>\n",
       "      <th></th>\n",
       "      <th></th>\n",
       "      <th></th>\n",
       "      <th></th>\n",
       "    </tr>\n",
       "  </thead>\n",
       "  <tbody>\n",
       "    <tr>\n",
       "      <th>4414</th>\n",
       "      <td>1.0</td>\n",
       "      <td>1.0</td>\n",
       "      <td>0.0</td>\n",
       "      <td>3</td>\n",
       "      <td>0.9323</td>\n",
       "      <td>0.1280</td>\n",
       "      <td>2.0</td>\n",
       "    </tr>\n",
       "    <tr>\n",
       "      <th>4789</th>\n",
       "      <td>1.0</td>\n",
       "      <td>1.0</td>\n",
       "      <td>0.0</td>\n",
       "      <td>2</td>\n",
       "      <td>-0.1783</td>\n",
       "      <td>0.5106</td>\n",
       "      <td>1.0</td>\n",
       "    </tr>\n",
       "    <tr>\n",
       "      <th>4406</th>\n",
       "      <td>1.0</td>\n",
       "      <td>1.0</td>\n",
       "      <td>0.0</td>\n",
       "      <td>2</td>\n",
       "      <td>0.0772</td>\n",
       "      <td>0.4035</td>\n",
       "      <td>1.0</td>\n",
       "    </tr>\n",
       "    <tr>\n",
       "      <th>3967</th>\n",
       "      <td>1.0</td>\n",
       "      <td>1.0</td>\n",
       "      <td>0.0</td>\n",
       "      <td>1</td>\n",
       "      <td>0.0783</td>\n",
       "      <td>0.4404</td>\n",
       "      <td>2.0</td>\n",
       "    </tr>\n",
       "    <tr>\n",
       "      <th>3291</th>\n",
       "      <td>1.0</td>\n",
       "      <td>1.0</td>\n",
       "      <td>0.0</td>\n",
       "      <td>1</td>\n",
       "      <td>0.0534</td>\n",
       "      <td>0.0258</td>\n",
       "      <td>1.0</td>\n",
       "    </tr>\n",
       "    <tr>\n",
       "      <th>...</th>\n",
       "      <td>...</td>\n",
       "      <td>...</td>\n",
       "      <td>...</td>\n",
       "      <td>...</td>\n",
       "      <td>...</td>\n",
       "      <td>...</td>\n",
       "      <td>...</td>\n",
       "    </tr>\n",
       "    <tr>\n",
       "      <th>6688</th>\n",
       "      <td>1.0</td>\n",
       "      <td>1.0</td>\n",
       "      <td>0.0</td>\n",
       "      <td>1</td>\n",
       "      <td>0.6214</td>\n",
       "      <td>0.9477</td>\n",
       "      <td>1.0</td>\n",
       "    </tr>\n",
       "    <tr>\n",
       "      <th>3360</th>\n",
       "      <td>1.0</td>\n",
       "      <td>1.0</td>\n",
       "      <td>0.0</td>\n",
       "      <td>5</td>\n",
       "      <td>-0.7950</td>\n",
       "      <td>0.5730</td>\n",
       "      <td>2.0</td>\n",
       "    </tr>\n",
       "    <tr>\n",
       "      <th>4399</th>\n",
       "      <td>1.0</td>\n",
       "      <td>1.0</td>\n",
       "      <td>0.0</td>\n",
       "      <td>3</td>\n",
       "      <td>0.4972</td>\n",
       "      <td>0.6916</td>\n",
       "      <td>1.0</td>\n",
       "    </tr>\n",
       "    <tr>\n",
       "      <th>5344</th>\n",
       "      <td>1.0</td>\n",
       "      <td>1.0</td>\n",
       "      <td>0.0</td>\n",
       "      <td>1</td>\n",
       "      <td>0.9531</td>\n",
       "      <td>0.4404</td>\n",
       "      <td>1.0</td>\n",
       "    </tr>\n",
       "    <tr>\n",
       "      <th>4635</th>\n",
       "      <td>1.0</td>\n",
       "      <td>1.0</td>\n",
       "      <td>0.0</td>\n",
       "      <td>2</td>\n",
       "      <td>-0.2901</td>\n",
       "      <td>0.3400</td>\n",
       "      <td>1.0</td>\n",
       "    </tr>\n",
       "  </tbody>\n",
       "</table>\n",
       "<p>402 rows × 7 columns</p>\n",
       "</div>"
      ],
      "text/plain": [
       "                    LOCALISATION DE LA PERSONNE QUI A COMMENTÉ  \\\n",
       "index_initial_test                                               \n",
       "4414                                                       1.0   \n",
       "4789                                                       1.0   \n",
       "4406                                                       1.0   \n",
       "3967                                                       1.0   \n",
       "3291                                                       1.0   \n",
       "...                                                        ...   \n",
       "6688                                                       1.0   \n",
       "3360                                                       1.0   \n",
       "4399                                                       1.0   \n",
       "5344                                                       1.0   \n",
       "4635                                                       1.0   \n",
       "\n",
       "                    PRÉSENCE D'UNE RÉPONSE (booléen)  QUI A RÉPONDU  \\\n",
       "index_initial_test                                                    \n",
       "4414                                             1.0            0.0   \n",
       "4789                                             1.0            0.0   \n",
       "4406                                             1.0            0.0   \n",
       "3967                                             1.0            0.0   \n",
       "3291                                             1.0            0.0   \n",
       "...                                              ...            ...   \n",
       "6688                                             1.0            0.0   \n",
       "3360                                             1.0            0.0   \n",
       "4399                                             1.0            0.0   \n",
       "5344                                             1.0            0.0   \n",
       "4635                                             1.0            0.0   \n",
       "\n",
       "                    NOMBRE AVIS LAISSÉ PAR CETTE PERSONNE  COMMENTAIRE TOT  \\\n",
       "index_initial_test                                                           \n",
       "4414                                                    3           0.9323   \n",
       "4789                                                    2          -0.1783   \n",
       "4406                                                    2           0.0772   \n",
       "3967                                                    1           0.0783   \n",
       "3291                                                    1           0.0534   \n",
       "...                                                   ...              ...   \n",
       "6688                                                    1           0.6214   \n",
       "3360                                                    5          -0.7950   \n",
       "4399                                                    3           0.4972   \n",
       "5344                                                    1           0.9531   \n",
       "4635                                                    2          -0.2901   \n",
       "\n",
       "                    RÉPONSE AU COMMENTAIRE  NOMBRE D'ÉTOILE  \n",
       "index_initial_test                                           \n",
       "4414                                0.1280              2.0  \n",
       "4789                                0.5106              1.0  \n",
       "4406                                0.4035              1.0  \n",
       "3967                                0.4404              2.0  \n",
       "3291                                0.0258              1.0  \n",
       "...                                    ...              ...  \n",
       "6688                                0.9477              1.0  \n",
       "3360                                0.5730              2.0  \n",
       "4399                                0.6916              1.0  \n",
       "5344                                0.4404              1.0  \n",
       "4635                                0.3400              1.0  \n",
       "\n",
       "[402 rows x 7 columns]"
      ]
     },
     "execution_count": 105,
     "metadata": {},
     "output_type": "execute_result"
    }
   ],
   "source": [
    "y_test = Tableau_test[\"NOMBRE D'ÉTOILE\"]\n",
    "X_test = Tableau_test.drop(\"NOMBRE D'ÉTOILE\", axis = 1)\n",
    "Tableau_test"
   ]
  },
  {
   "cell_type": "code",
   "execution_count": 115,
   "id": "2b254847",
   "metadata": {},
   "outputs": [
    {
     "name": "stdout",
     "output_type": "stream",
     "text": [
      "col_0  1.0  3.0  5.0\n",
      "row_0               \n",
      "1.0    217   12   53\n",
      "2.0     86    4   30\n",
      "              precision    recall  f1-score   support\n",
      "\n",
      "         1.0       0.72      0.77      0.74       282\n",
      "         2.0       0.00      0.00      0.00       120\n",
      "         3.0       0.00      0.00      0.00         0\n",
      "         5.0       0.00      0.00      0.00         0\n",
      "\n",
      "    accuracy                           0.54       402\n",
      "   macro avg       0.18      0.19      0.19       402\n",
      "weighted avg       0.50      0.54      0.52       402\n",
      "\n"
     ]
    }
   ],
   "source": [
    "from sklearn.metrics import classification_report\n",
    "\n",
    "y_pred = clf.predict(X_test)\n",
    "\n",
    "# type(y_pred)\n",
    "type(y_pred)\n",
    "\n",
    "print(pd.crosstab(y_test.values,y_pred))\n",
    "print(classification_report(y_test, y_pred))"
   ]
  },
  {
   "cell_type": "code",
   "execution_count": 119,
   "id": "19587de9",
   "metadata": {},
   "outputs": [
    {
     "name": "stdout",
     "output_type": "stream",
     "text": [
      "{'C': 0.1, 'max_iter': 100, 'solver': 'lbfgs'}\n",
      "0.6499036608863199\n"
     ]
    }
   ],
   "source": [
    "import warnings\n",
    "warnings.filterwarnings('ignore')\n",
    "import time\n",
    "import pandas as pd\n",
    "import numpy as np\n",
    "import gensim\n",
    "from sklearn.feature_extraction.text import CountVectorizer, TfidfVectorizer\n",
    "from sklearn.model_selection import train_test_split, GridSearchCV,cross_val_score\n",
    "from sklearn.ensemble import GradientBoostingClassifier,RandomForestClassifier\n",
    "from sklearn.linear_model import LogisticRegression\n",
    "from sklearn.svm import SVC\n",
    "from numba import jit\n",
    "\n",
    "rl = LogisticRegression()\n",
    "\n",
    "param_grid_rl = { 'C':[0.01,0.05,0.1], 'max_iter' : [50,75,100], \"solver\" : [\"newton-cg\", \"lbfgs\", \"sag\", \"saga\"]}\n",
    "grid_rl = GridSearchCV(estimator=rl, param_grid= param_grid_rl,cv=5, n_jobs = -1, refit=True).fit(X_train,y_train)\n",
    "print(grid_rl.best_params_)\n",
    "print(grid_rl.best_score_) \n",
    "\n",
    "# print(\"score d'entrainement :\", score_train, \"////\", \"score de test :\", score_test)\n",
    "\n",
    "# Tableau_test = X_test.join(y_test)\n",
    "# Tableau_test = Tableau_test.drop(Tableau_test[Tableau_test[\"NOMBRE D'ÉTOILE\"].isin([3, 4, 5])].index)\n",
    "# Tableau_test = Tableau_test.dropna(how='any', axis=0)\n",
    "\n",
    "# y_test = Tableau_test[\"NOMBRE D'ÉTOILE\"]\n",
    "# X_test = Tableau_test.drop(\"NOMBRE D'ÉTOILE\", axis = 1)\n",
    "# Tableau_test\n",
    "\n",
    "# from sklearn.metrics import classification_report\n",
    "\n",
    "# y_pred = clf.predict(X_test)\n",
    "\n",
    "# # type(y_pred)\n",
    "# type(y_pred)\n",
    "\n",
    "# print(pd.crosstab(y_test.values,y_pred))\n",
    "# print(classification_report(y_test, y_pred))"
   ]
  },
  {
   "cell_type": "code",
   "execution_count": 120,
   "id": "4bf00c78",
   "metadata": {},
   "outputs": [
    {
     "name": "stdout",
     "output_type": "stream",
     "text": [
      "{'learning_rate': 0.5, 'max_depth': 1, 'n_estimators': 500}\n",
      "0.698073217726397\n"
     ]
    }
   ],
   "source": [
    "gb = GradientBoostingClassifier()\n",
    "param_grid_gb = {\"n_estimators\":[200,300,400,500], \"learning_rate\":[0.25,0.5,0.75], \"max_depth\": [1,None]}\n",
    "grid_gb = GridSearchCV(estimator=gb, param_grid= param_grid_gb,cv=5, n_jobs = -1, refit=True).fit(X_train,y_train)\n",
    "print(grid_gb.best_params_)\n",
    "print(grid_gb.best_score_) "
   ]
  },
  {
   "cell_type": "code",
   "execution_count": 121,
   "id": "01a67227",
   "metadata": {},
   "outputs": [
    {
     "name": "stdout",
     "output_type": "stream",
     "text": [
      "{'criterion': 'gini', 'max_depth': None, 'max_features': None}\n",
      "0.6485549132947976\n"
     ]
    }
   ],
   "source": [
    "rf = RandomForestClassifier()\n",
    "param_grid_rf = {'max_features': [\"sqrt\", \"log2\", None], \"criterion\": [\"gini\", \"entropy\", \"log_loss\"],\"max_depth\" : [1,None]}\n",
    "grid_rf = GridSearchCV(estimator=rf, param_grid= param_grid_rf,cv=5, n_jobs = -1, refit=True).fit(X_train,y_train)\n",
    "print(grid_rf.best_params_)\n",
    "print(grid_rf.best_score_) "
   ]
  },
  {
   "cell_type": "code",
   "execution_count": 122,
   "id": "ac9f105a",
   "metadata": {},
   "outputs": [
    {
     "name": "stdout",
     "output_type": "stream",
     "text": [
      "{'C': 0.1, 'kernel': 'linear'}\n",
      "0.6506743737957611\n"
     ]
    }
   ],
   "source": [
    "svc = SVC()\n",
    "param_grid_svc = {'C':[0.01,0.05,0.1],\"kernel\" :[\"linear\", \"poly\", \"rbf\", \"sigmoid\"],}\n",
    "grid_svc = GridSearchCV(estimator=svc, param_grid= param_grid_svc,cv=5, n_jobs = -1, refit=True).fit(X_train,y_train)\n",
    "print(grid_svc.best_params_)\n",
    "print(grid_svc.best_score_) "
   ]
  },
  {
   "cell_type": "code",
   "execution_count": 75,
   "id": "1e49fc6f",
   "metadata": {},
   "outputs": [
    {
     "name": "stdout",
     "output_type": "stream",
     "text": [
      "214235\n"
     ]
    }
   ],
   "source": [
    "tokenizer = TweetTokenizer()\n",
    "texte = ' '.join(commentaires)\n",
    "mots = tokenizer.tokenize(texte)\n",
    "print(len(mots))\n",
    "\n",
    "from collections import Counter\n",
    "\n",
    "word_count = Counter([m.lower() for m in mots])\n",
    "\n",
    "mots_tries = sorted(word_count, key=lambda x: word_count.get(x), reverse=True)"
   ]
  },
  {
   "cell_type": "code",
   "execution_count": 76,
   "id": "223da0a5",
   "metadata": {},
   "outputs": [
    {
     "name": "stdout",
     "output_type": "stream",
     "text": [
      "['de', '.', ',', 'et', 'la', 'je', 'le', 'à', 'commande', 'très', 'pas', 'livraison', 'les', '’', 'un', '!', '…', 'que', 'en', 'des', 'est', 'pour', 'une', 'rapide', 'ne', 'a', 'sur', 'bien', 'colis', 'du', 'utile', 'dans', 'site', 'produit', 'j', 'plus', 'ce', 'satisfaite', 'ma', \"j'ai\", 'mais', 'prix', 'qualité', 'ai', 'suis', 'mon', 'produits', 'au', 'conforme', 'qui', 'reçu', 'il', 'articles', 'parfait', 'toujours', 'sont', 'été', '...', 'bon', 'tout', 'mes', 'avec', 'me', 'article', 'par', 'l', 'vous', 'd', 'n', 'service', 'déçue', 'commandé', 'bonne', 'était', 'on', 'délais', '(', 'frais', ')', 'car', 'temps', 'showroom', \"c'est\", 'trop', 'retour', 'achat', 'fois', '2', 'délai', 'fait', 'même', 'date', 'client', 'comme', 'c', 'rien', 'jamais', 'faire', 'taille', 'super', 'commandes', 'merci', 'donc', 'avant', 'sans', 'rapidement', 'envoi', 'non', 'contente', 'relais', 'chez', 'peu', 'depuis', 'top', 'problème', 'déçu', 'point', 'vente', ':', 'y', 'aux', '\"', 'ou', 'conformes', 'après', 'recommande', 'livré', 'si', 'arrivé', 'beaucoup', 'nous', 'description', 'achats', '€', 'remboursement', 'jours', 'prévue', 'votre', 'dommage', 'ça', 'être', 'reçue', 'cette', \"n'ai\", 'expérience', 'avoir', 'qu', 'alors', 'plusieurs', 'choix', 'eu', 'm', 'showroomprive', 'cela', 'arrivée', '?', 'se', 'quand', 'vraiment', '3', '..', 'ils', 'marque', 'rapport', \"n'est\", 'aucun', 'deux', 'passé', 'respecté', '1', 'long', 'réception', 'port', 'rapidité', 'bonjour', 'correspond', 'livrée', 'dire', 'attentes', 'mois', 'showroomprivé', 'sérieux', 'satisfait', 'état', 'ventes', 'prévu', 'leur', 'ravie', 'moi', 'trouve', 'mauvaise', 'chaussures', 'marques', 'moins', '/', 'aucune', 'tres', 'petit', 'manque', 'années', 'commander', 'acheté', 'noël', 'autre', 'expédition', 'mail', 's', 'soit', 'cliente', 'ont', 'jour', 'encore', 'vêtements', 'cadeau', 'emballage', 'elle', 'privé', 'contre', 'photos', 'photo', 'dernière', 'réponse', 'souvent', \"qu'il\", \"m'a\", 'tous', 'juste', 'demande', 'surtout', 'seul', 'euros', \"d'un\", '4', 'première', 'assez', 'suivi', \"l'article\", 'emballé', 'sac', 'carton', 'facile', 'sav', 'mal', 'lors', 'efficace', 'retard', 'part', 'faut', 'commandés', 'intéressant', 'cher', 'aussi', 'avait', 'grand', 'longue', 'erreur', 'bons', 'intéressants', 'excellent', 'payer', 'personne', 'reçus', 'respectés', 'attente', 'déjà', 'couleur', 'suite', '5', 'chaque', 'renvoyer', 'avais', 'livraisons', 'retours', 'clients', 'étaient', 'malgré', 'belle', 'peut', \"d'une\", 'recevoir', '👍', 'descriptif', '+', 'dit', 'montre', 'vos', 'geste', 'reçois', \"s'est\", 'son', 'bonnes', 'avis', 'moment', 'là', 'tailles', 'passée', 'dû', 'cassé', 'parfaite', 'remboursé', \"j'avais\", 'vite', 'va', 'ces', 'voir', 'ni', 'respect', 'commercial', 'envoie', 'mauvais', 'impossible', 'quelques', 'eux', 'notre', 'meuble', 'boîte', '10', 'impeccable', 'surprise', 'parfois', '-', 'sauf', 'semaine', 'téléphone', 'compte', 'sa', 'partie', 'lieu', 'niveau', \"'\", 'où', 'arrive', 'déception', 'envoyé', 'bijoux', 'correct', 'pu', \"n'a\", 'cas', 'ras', 'annulée', 'correspondant', 'coup', 'heure', 'beau', 'redire', 'soigné', 'celui', 'bémol', 'sinon', 'moitié', 'satisfaction', 'fidèle', 'soucis', 'attractifs', 'payé', 'avance', '2022', 'ok', 'certains', 'autres', 'toutes', 'paire', \"d'achat\", 'bref', 'régulièrement', 'garantie', 'peux', 'dernier', 'ouvert', 'reste', 'sites', 'mettre', 'semaines', 'correspondent', 'réclamation', 'pull', 'toute', 'manquant', 'charge', 'abîmé', 'transporteur', 'rembourser', 'malheureusement', 'demandé', 'serait', 'cependant', 'fuir', 'acheter', '6', 'passer', 'dont', 'décembre', 'offrir', 'vu', 'concernant', 'disant', 'décevant', 'tôt', 'retourner', 'plutôt', 'perdu', 'seulement', 'passe', 'matelas', 'livreur', 'entre', 'livrés', 'paiement', 'mis', 'ans', 'vais', 'ensemble', 'incomplète', 'valise', 'domicile', 'complètement', 'respectée', 'tard', 'dois', 'mieux', '15', 'robe', 'fais', 'sous', 'sera', 'services', 'belles', 'nouvelle', 'disponible', \"n'y\", 'grande', 'faite', 'souci', 'fin', 'problèmes', 'showroomprive.com', 'annoncée', 'emballés', 'manquait', 'fiable', 'avons', 'attention', 'maintenant', ';', 'novembre', 'points', 'facilité', 'quoi', 'attractif', 'indiqué', 'sommes', \"d'autres\", 'aller', 'intéressantes', 'réactif', 'pris', \"c'était\", 'fille', 'beaux', 'annoncé', 'fonctionne', 'nouvelles', 'elles', 'bravo', 'simple', 'longs', 'parfaitement', 'signaler', 'solution', 'cet', 'font', 'devait', 'message', 'nul', 'seule', 'cadeaux', '12', 'stock', 'deuxième', 'heureusement', 'livre', 'bague', \"l'ai\", 'bas', 'presque', 'arnaque', 'petite', 'pense', 'celle', 'pratique', 'ailleurs', 'remboursée', 'nickel', 'aurait', 'attendre', 'ainsi', \"n'était\", 'gros', 'chose', 'honte', 'choisi', 'récupérer', 'longtemps', 'superbe', 'étoiles', 'avez', 'livrer', 'infinity', \"l'ensemble\", 'franchement', 'vêtement', 'correspondait', 'arrivés', 'possible', 'trouver', \"d'habitude\", 'élevés', 'pourquoi', 'petits', 'application', 'offres', 'pouvoir', 'cordialement', 'médiocre', 'montant', 'prendre', 'place', 'recommander', 'défectueux', 'lorsque', 'affaires', 'finalement', 'contacter', 'contacté', 'table', 'magasin', 'affaire', 'voyage', 'extrêmement', 'nos', 'annoncés', \"d'envoi\", \"qu'ils\", 'réduction', 'nombreuses', 'conditions', 'mécontente', 'chers', 'prise', 'bracelet', 'sûr', 'confiance', 'complète', 'ses', 'expédiée', 'payant', 'petites', \"qu'un\", 'cassée', 'comment', 'argent', 'leurs', 'paires', 'ligne', 'général', 'dates', 'attends', 'propose', 'adore', \"j'attends\", 'aime', 'endommagé', 'oui', \"j'en\", 'puis', 'côté', 'éviter', 'commanderai', 'paquet', 'habitude', 'expédié', 'nouveau', \"l'on\", \"d'expédition\", 'relay', 'via', 'privée', '%', 'étant', 'inadmissible', 'voulu', 'enfants', 'enfin', \"j'adore\", 'entièrement', 'normal', 'joli', 'final', 'veste', '20', 'proposé', 'soient', 'préparation', 'marchandise', 'modèle', 'agréable', 'satisfaisant', 'changement', 'lui', 'pantalon', '️', 'hauteur', 'mondial', 'simplement', 'quelle', 'dès', 'sais', 'afin', 'trouvé', 'totalement', \"qu'on\", 'colissimo', 'bout', '22', \"j'aime\", 'honteux', 'bougies', 'dédommagement', 'nom', 'pire', 'explication', '50', 'pourtant', 'défaut', 'compliqué', 'savoir', 'début', 'transport', 'viens', 'totalité', 'plastique', 'également', 'catastrophique', 'main', '7', 'doit', 'communication', 'envoyer', 'appel', 'fils', 'abonnement', 'retrouve', 'internet', 'ci', 'vaisselle', 'défauts', 'indiquée', 'répond', 'promo', 'emballée', 'poste', \"l'envoi\", 'retourné', 'raison', 'choses', 'couette', 'erreurs', 'informations', \"aujourd'hui\", 'pièces', 'appelé', 'lit', 'meubles', 'attendais', 'mails', 'doute', 'plaisir', 'renvoyé', \"l'achat\", 'vaut', 'effectué', 'facture', 'dessus', \"l'emballage\", 'tarifs', 'jolies', 'août', 'emma', 'envois', 'com', 'boucles', 'moyen', 'commandée', 'tant', 'entreprise', 'monter', 'raisonnable', \"qu'elle\", 'possibilité', 'auprès', 'envie', 'vers', 'cause', 'retrait', 'trés', 'rapides', 'code', 'canapé', 'faites', 'qualités', 'e', 'revoir', 'donne', 'laisse', 'protégé', '8', 'différents', 'compétitifs', 'content', \"l'écoute\", 'valeur', 'proposés', '24', 'faute', 'manteau', 'départ', 'regrette', 'vendeur', 'réceptionné', 'protection', 'cours', 'convient', 'or', 'correcte', 'descriptions', 'fournisseur', 'baskets', 'efficacité', 'hors', 'voulais', '40', 'donner', 'etc', 'partiellement', '100', 'donné', 'parce', 'quel', 'ultra', 'annonce', 'nombreux', 'vivement', 'lettres', \"jusqu'à\", 'gratuits', 'certaines', 'chercher', 'renvoi', 'demander', 'globalement', \"d'avoir\", 'adresse', 'objet', 'femme', 'pendant', 'étiquette', \"j'aurais\", 'octobre', 'privées', 'effectuée', 'bonsoir', '14', '«', 'tarif', 'doudoune', 'noel', 'gestion', 'noir', 'lamentable', 'changer', 'passées', 'arrivent', 'grandes', 'jolie', 'trois', \"m'ont\", 'arriver', 'informé', 'chaises', 'fermé', 'housse', 'disponibles', 'recu', 'arrivées', 'loin', '30', 'base', 'chaussure', 'recherche', 'attendu', 'tellement', 'ayant', 'magnifique', 'information', 'ensuite', 'réalité', 'offert', 'échange', '❤', 'bel', 'utiliser', 'manquants', 'résultat', 'su', 'lendemain', 'aurais', 'répondre', 'traitement', 'annulé', 'remboursements', \"j'étais\", 'puisque', 'offre', 'clientèle', 'comprends', 'exactement', 'large', 'directement', 'grosse', 'boite', 'moindre', 'prévenue', 'delai', 'rarement', 'étoile', 'tapis', 'sweat', 'soignée', 'fini', 'absolument', 'ds', 'sacs', 'plupart', 'pièce', 'vue', 'derniers', 'partir', 'déplorable', 'anniversaire', 'utilisation', 'remise', 'vol', 'élevé', 'revanche', 'achetés', 'société', 'croire', 'besoin', 'relai', 'fallu', 'voilà', \"j'attendais\", 'bijou', 'premier', 'veut', 'gamme', 'numéro', 'montres', 'étais', 'conseille', 'peine', 'mêmes', 'court', \"qu'une\", 'gratuit', 'sympa', 'selon', 'difficile', 'peuvent', 'devais', '😡', 'devrait', 'blanc', 'maison', 'vis', 'robes', 'prévus', 'présent', 'février', 'monde', 'répondu', 'garder', 'clair', 'faux', 'différent', 'excellente', 'espère', 'question', 'exemple', 'notice', 'rdv', 'enchantée', 'limite', 'delais', 'emballages', 'près', 'annuler', 'hyper', 'déconseille', 'transaction', 'genre', \"d'articles\", 'achète', 'personnes', 'vont', 'déposé', 'évidemment', 'concurrence', 'vrai', 'satisfaisante', 'téléphonique', 'meme', 'écrit', 'écoute', 'quelque', 'catastrophe', 'autant', 'panier', 'somme', 'janvier', 'normalement', 'quant', \"qu'en\", 'êtes', 'matière', 'dossier', 'important', 'nike', 'après-vente', 'contenu', '👌', 'cuir', 'naf', \"l'un\", 'partenaire', '0', 'mode', 'recommanderais', 'attend', 'mise', \"d'être\", 'respecte', 'rupture', 'mets', 'choisir', 'totale', 'porte', '»', 'valises', '1ere', 'fuyez', '16', 'professionnel', 'proposées', 'prévenu', 'différentes', 'mauvaises', 'confirme', 'aimé', 'toutefois', 'contact', 'suivre', 'dom', 'génial', 'changé', 'pouvez', 'fermeture', 'effet', '36', 'paye', 'cassés', 'enquête', 'septembre', \"n'avais\", '😉', 'veille', 'perte', 'reconditionné', 'housses', 'linge', 'annulation', 'jai', 'raisonnables', 'stocks', 'déroulé', 'laisser', 'apprécié', 'fêtes', 'vacances', 'renvoie', 'carte', 'concerne', 'coloris', 'lunettes', 'voire', 'grâce', 'preuve', 'parfum', 'verre', 'abordable', 'commandées', 'gls', 'forme', 'identique', 'lot', 'prochaine', 'fut', 'aide', 'ceux', \"n'ont\", 'fortement', 'porté', 'contacte', 'rare', 'chère', '18', 'celui-ci', 'tel', 'jean', 'améliorer', 'abordables', 'honorée', 'rembourse', 'désirer', \"n'en\", 'gris', 'remercie', 'complet', 'semble', 'prévenir', 'aspirateur', \"d'attente\", 'casse', 'année', 'reçues', 'km', 'variées', 'résolu', '25', 'déchiré', 'show', 'xl', 'réponses', 'manquante', 'inutilisable', 'présentation', \"l'autre\", 'qualite', 'pensais', 'gratuite', 'hier', 'appelle', 'enfant', 'signalé', 'visuel', 'décevante', 'dernières', 'positif', 'tissu', 'contrairement', 'jardin', 'situation', 'shampoing', \"l'expédition\", 'refaire', 'sérieuse', 'correctement', 'bientôt', 'gardé', 'parfaits', 'bougie', 'appli', 'matin', 'appeler', 'terminé', \"j'achète\", 'commandez', 'promos', 'essayer', 'retiré', 'récupéré', 'minimum', 'pulls', 'bleu', 'professionnalisme', 'racheter', 'draps', 'pieds', '2eme', 'pb', 'rendu', 'tt', 'réductions', 'solide', 'reception', 'douane', 'retrouver', \"j'espère\", 'pointure', 'reprises', 'descriptifs', 'personnel', 'refusé', 'meilleur', 'bracelets', 'avaient', 'inexistant', 'remis', 'négatif', 'veepee', 'envoyée', 'aura', 'devoir', 'propre', 'heures', 'bagues', 'obligé', 'porter', 'garde', 'retourne', 'réglé', 'nécessaire', 'validée', '😍', 'serai', 'proposer', 'r', 'contrefaçon', 'ici', 'billets', 'appréciable', 'couleurs', 'journée', 'uniquement', 'mensongère', 'lampe', 'plateforme', '28', 'étiquettes', 'différence', 'vois', 'commerçant', \"d'ailleurs\", 'prestation', \"j'aurai\", 'réactivité', 'responsable', 'abimé', '1er', 'travail', 'meilleurs', 'appareil', 'celle-ci', 'sujet', 'vendu', 'voleurs', 'blouson', '23', 'boucle', 'correctes', 'utilisé', 'initial', 'collier', 'commanderais', 'antivol', 'intéressante', 'bottines', 'iphone', 'envoyés', 'ravi', 'matériel', 'fausse', 'finition', 'plein', 'longues', 'variés', 'correspondants', 'abîmée', 'achetée', 'droit', 'précédente', 'aurai', 'restent', 'commentaire', \"d'avance\", 'coûte', 'trompeuses', 'sale', 'sécurisé', 'abîmés', 'accueil', 'haut', 'jusqu', '21', \"d'utilisation\", 'minute', 'largement', 'vérifier', 'correspondaient', 'réunion', 'générale', 'raisons', 'bcp', 'coût', '26', 'considération', 'séjour', 'jeune', '😊', 'plaît', 'es', '6,50', \"m'est\", 'équipe', 'souhaite', 'présente', \"l'étiquette\", 'censé', 'français', 'sûre', 'gilet', 'prestataire', 'tissus', 'allait', 'dépôt', 'note', 'partout', 'prends', \"j'appelle\", 'air', 'ports', 'souhaitais', 'payants', 'regret', 'précisé', 'agit', 'moyenne', 'déplacer', 'interessant', 'regarde', 'dernièrement', 'française', 'appels', 'accessoires', 'sympathique', 'avantageux', 'tjrs', 'continuer', 'dis', 'entière', 'ouverture', 'total', 'boutique', 'devant', 'obligée', 'ait', 'facilement', '6.50', 'incomplet', 'voit', '19', '90', 'récemment', 'pantalons', 'recommanderai', 'vide', \"l'heure\", 'heureuse', 'cde', 'relativement', 'ville', 'proximité', 'précise', 'h', 'café', \"l'attente\", 'sens', 'apres', 'livrées', 'constate', 'procédure', 'supplémentaires', 'tjs', 'amazon', 'recommandé', 'vendus', 'validé', 'reçoit', 'ouvrés', 'malhonnête', \"d'oreilles\", 'prend', 'faudrait', 'logistique', 'soin', \"l'argent\", 'mari', 'déçus', 'respectées', 'tefal', 'endommagés', 'montage', 'mécontentement', 'venir', 'confirmé', 'dirait', 'traitée', 'conformité', '2ème', '2023', '38', 'permet', 'refuse', 'informée', 'oublié', '&', 'vélo', 'marchandises', 'navigation', 'express', 't', 'homme', '°', 'système', 'finir', 'scandaleux', \"d'emballage\", 'fonction', 'samedi', 'rendre', 'blague', 'parfaites', \"d'identité\", 'pochette', '11', 'préféré', 'marron', 'bois', 'partielle', 'averti', 'rabais', 'coffre', 'honnête', 'vendre', 'parures', 'probleme', '42', 'période', 'etait', '80', 'room', 'lequel', 'certaine', 'terminée', 'notamment', 'cassées', 'shopping', 'particulier', 'immédiatement', 'dessous', 'taillent', 'forcément', 'pub', 'ca', 'vols', 'conseiller', 'qualitatif', 'obtenir', 'lente', 'généralement', 'devient', 'cool', 'formulaire', 'réclamations', 'seconde', 'mot', 'joindre', 'réelle', 'expériences', \"qu'à\", 'boîtes', \"l'offre\", 'second', 'lettre', 'compris', 'dedans', 'etat', 'détails', 'initialement', 'tête', 'vient', 'excuses', 'conforment', 'monté', 'questions', 'rendez', 'indiqués', 'pareil', 'puisse', 'showroomprivée', \"l'équipe\", 'retrouvé', 'idem', 'diversité', 'préfère', 'risque', 'disent', 'sert', 'zéro', 'ceci', 'couture', 'légèrement', 'codes', 'manière', 'volumineux', \"l'intérieur\", 'morceaux', 'nulle', 'identité', 'moyennement', \"s'agissait\", 'intérieur', 'taxe', 'sms', 'design', 'bonheur', 'parure', 'ressemble', 'piètre', '48h', 'expliqué', 'chance', 'fil', 'règle', 'difficulté', 'réservé', \"l'objet\", 'supers', 'scotch', \"l'application\", 'neufs', 'beauté', \"l'image\", 'superbes', 'néanmoins', 'dimensions', 'unique', 'poubelle', 'compter', 'tu', 'lien', '39', 'fort', '=', \"d'article\", 'parle', 'concurrent', 'cartons', 'imbattables', 'effectués', 'juillet', 'répéter', \"quelqu'un\", 'zalando', \"j'hésite\", 'affiché', 'visiblement', 'noté', 'tenu', 'marine', 'ex', '😞', 'excellents', 'terrible', 'attendue', 'voici', 'basket', 'rouge', 'judicieux', 'conseillère', 'compétitif', 'aucuns', 'vérification', \"d'acheter\", 'hélas', 'annule', 'certificat', 'prévues', 'attestation', 'signature', 'pourrait', 'coupe', 'faciles', 'perdre', 'confortable', 'inscrite', 'connaissais', 'compétent', 'claires', 'professionnelle', 'motif', 'gens', \"d'autant\", 'répondant', 'magasins', 'clairement', 'reponse', 'léger', 'satisfaire', 'tenir', 'fournir', 'mardi', \"s'il\", 'valable', 'impression', 'rodier', 'confirmation', 'détail', 'espérant', \"m'annonce\", 'soleil', 'pleinement', 'soir', 'marchand', 'entendu', 'pyjama', 'bottes', 'respecter', 'disposition', 'endroits', 'compensation', 'importe', 'honneur', 'demandant', 'économies', 'disponibilité', 'jolis', 'déplore', \"l'erreur\", 'effectuer', 'taies', 'mer', 'rendez-vous', 'flacon', 'passage', 'faisant', \"j'y\", 'promotion', 'désormais', 'données', 'sommier', 'contenant', \"d'excellente\", \"d'origine\", 'modèles', 'convenu', 'pack', 'paypal', 'réceptionnée', 'trouvée', 'accès', 'douanes', \"d'oreille\", '200', 'bombes', 'changez', 'écran', 'fidélité', 'aujourd', 'hui', 'voyages', 'peut-être', 'x', 'identiques', 'déduit', 'corrects', 'imprimer', 'demandée', 'decue', '13', 'indique', \"d'information\", 'double', 'famille', 'soi-disant', '27', 'réservation', 'allez', 'marqué', 'procéder', \"l'abonnement\", 'met', 'colère', 'semelle', 'showroomprivee', 'retirer', 'chocolat', 'mesure', 'pratiquement', '*', 'impatience', 'annulés', 'info', 'serais', 'bénéficier', 'tv', 'essayé', 'batterie', '24h', 'chine', 'france', 'réel', 'tromperie', 'continuerai', 'parler', 'défiant', 'coûté', 'yeux', 'ouverte', 'bobochic', 'mentionné', 'désagréable', 'ensembles', 'désagrément', \"qu'au\", 'oney', 't-shirt', 'geox', 'objets', 'aucunes', 'présenté', 'pouvais', 'modifier', 'automatiquement', 'continue', 'documents', 'recue', 'derrière', 'sachant', 'certes', 'veux', 'payée', 'responsabilité', 'failli', 'poids', 'heureux', 'référence', 'autrement', 'vend', 'demandes', 'apple', 'commerce', 'renouveler', 'coton', 'apprécie', 'programme', 'trompeur', \"lorsqu'il\", 'ouverts', 'horaires', 'emballer', 'mains', 'validation', 'incapable', 'dos', 'lingerie', 'fidèles', 'enveloppe', \"l'expérience\", 'fabrication', 'sport', 'repayer', 'coupé', 'travaille', 'image', 'réduits', '300', 'échantillons', 'complément', 'ancienne', 'rappelle', 'proposez', 'rappelé', 'endroit', 'experience', 'paquets', \"n'avait\", 'chaud', '48', 'aimable', 'lessive', 'meilleure', 'hormis', 'façon', \"l'état\", 'grave', 'contrôle', 'sachet', 'auquel', 'litige', 'grands', 'culotte', 'fausses', 'quantité', 'rentre', 'fournisseurs', 'réalisé', 'satisfaisants', 'informer', 'réexpédition', 'repasser', 'georgettes', 'pouvait', 'fera', '17', 'laissé', 'enseigne', 'pied', 'destination', 'apparemment', 'négatifs', 'donnée', 'mauboussin', 'escrocs', '🤩', 'guess', 'nombre', 'rose', 'effectuées', 'ordinateur', 'réparation', 'électrique', 'mi', 'assiettes', 'foi', 'fragiles', '1ère', 'resté', 'tenue', 'mitigée', 'voudrais', 'chaîne', 'trou', 'conviennent', 'malhonnêteté', 'hésite', 'cuisine', 'bureau', 'plan', 'marche', 'cdt', 'annoncer', 'laquelle', 'allons', 'cite', 'tiens', 'préciser', 'connais', 'chaussettes', 'rappel', 'explique', 'fourni', 'cafetière', \"n'importe\", 'continuez', 'poche', 'bonnet', 'faisait', 'protégée', 'entendre', 'initiale', 'incroyable', '70', '1mois', 'capable', 'qualité-prix', '29', 'casseroles', 'nikel', 'soyez', 'recherches', 'origine', 'relances', 'shirt', '400', 'blue', 'devrais', 'fonctionnait', 'vendeurs', 'offerts', 'fragile', \"qu'avant\", \"s'agit\", \"d'argent\", 'adapté', 'livres', 'sait', 'professionnels', 'chemise', 'conclusion', 'dorénavant', 'durée', 'machine', \"l'adresse\", 'refus', 'sécurité', 'outlet', 'manteaux', 'oreille', 'insatisfaite', 'bouton', 'boxer', 'fasse', 'lavage', 'proposent', 'images', 'livreurs', '2/3', 'promis', 'cest', 'pierres', 'valider', 'règlement', 'manquent', 'outre', 'basse', 'forfait', 'expedition', 'vendent', 'ete', 'devraient', 'indiquant', 'confort', 'subi', 'écrin', 'dégâts', 'satisfaits', 'conseillers', \"n'aurai\", 'politique', 'inscrit', 'réussi', 'inconvénient', 'instant', 'reprise', 'noire', ':)', 'durant', 'sympas', 'dame', 'rencontré', \"l'habitude\", 'terme', 'réaction', 'découvrir', 'embêtant', 'pose', 'mécontent', 'jeu', '🤬', 'fallait', 'remonter', 'hasard', 'jupe', 'guadeloupe', 'savez', 'max', 'cabine', 'imbattable', 'watch', 'sois', 'régler', 'passez', 'rappeler', 'poupée', 'messages', 'chemin', 'penser', 'vulgaire', 'literie', 'autour', 'portée', 'engagement', 'savent', 'courts', 'coffret', 'polo', 'commentaires', 'commerciale', 'galère', 'blanche', 'moque', '>', 'excessifs', '⚠', 'félicitations', '15jours', 'budget', 'jouets', 'reproche', 'escroquerie', 'fiabilité', 'bleue', 'encaissé', 'dure', 'pr', 'an', 'payante', 'explications', 'envers', 'onéreux', \"l'impression\", 'coupons', \"l'année\", 'showromprive', 'cadre', 'succès', 'coups', 'juin', 'celà', 'particulièrement', 'nouvel', 'attendant', 'appris', 'suffit', 'pitoyable', 'celles', 'couteau', 'connectée', 'aperçu', '123', 'constater', 'actuellement', '1/3', 'certainement', 'prennent', 'abîmées', 'transporteurs', \"lorsqu'on\", 'plate-forme', 'xxl', 'mars', 'pierre', 'lire', 'éléments', \"d'attendre\", 'variété', 'intégralité', 'installé', 'verra', 'copine', 'martinique', 'cru', 'ridicule', 'taillé', '44', 'claire', 'débité', 'copie', 'économie', '60', 'rubrique', 'comprendre', 'market', 'lent', 'convenait', 'achete', '9', 'facilite', 'écouteurs', 'bug', 'troué', \"d'anniversaire\", 'censée', 'coûter', 'shoowroom', 'pleins', 'plaisent', \"l'acheteur\", 'paraît', 'idéal', 'freine', \"j'apprécie\", 'surprises', 'conditionnement', 'environ', 'multiples', \"n'êtes\", 'saison', 'serieux', 'donnés', 'couettes', 'extra', 'différente', 'email', 'fabricant', 'train', 'doux', 'oreilles', 'emballées', 'soldes', 'jaune', 'planches', 'robot', 'mannequin', 'jeans', 'mango', 'agissait', 'compréhension', 'polyester', 'qq', 'in', 'mensonger', 'bloqué', 'ceinture', 'découverte', 'scandale', 'expliquer', 'intérêt', 'excuse', '72h', 'tromper', 'rayures', 'peinture', 'notification', 'difficilement', 'bouteille', 'ouvrir', 'procédé', 'coussin', 'échanges', 'pro', 'drap', 'hs', 'pile', \"jusqu'au\", \"l'instant\", 'seraient', 'marchands', 'prestations', 'énormément', 'adidas', 'standard', 'neuves', 'plat', 'idée', 'sept', 'kit', 'présents', 'cm', 'sonner', 'remboursés', 'explosé', 'aperçois', 'permettre', 'dépenser', 'indisponible', 'expédiées', \"l'oréal\", 'acheminement', 'tour', 'tomber', 'dehors', 'principe', 'trous', 'comparé', 'amis', 'engagements', 'intact', 'roue', 'publicité', 'consommation', 'casser', 'doivent', 'fond', \"m'en\", \"l'envoie\", 'coutures', 'imparti', 'suffisamment', '52', \"l'a\", 'informe', 'loi', 'réparer', \"l'information\", 'corresponde', 'tte', 'sue', 'bizarre', 'parvenir', '21/12', 'générales', 'lorsqu', 'buffet', '17/12', 'gérer', 'plantes', 'introuvable', \"d'informations\", 'pénible', 'sélectionné', 'accessible', 'gâché', 'reviendrai', 'lourd', '19/12', 'partenaires', 'authenticité', 'recevez', 'profite', 'carrément', 'accéder', '1500', 'pratiques', 'showrooprive', 'résoudre', 'détaillé', 'rideaux', \"l'avais\", 'ramener', \"d'en\", 'concurrents', 'hésitation', 'shoroomprive', 'avantages', 'dim', 'jusque', \"m'avez\", 'chocolats', 'gentil', 'thé', 'fabriqué', 'connaître', 'connues', 'réellement', 'commence', 'new-york', 'pratiqués', 'décidé', 'coller', 'actuelle', 'chargeur', 'laissant', 'souhaité', 'convenaient', 'respectueux', 'ème', 'décide', 'bibliothèque', 'fallut', 'semblait', 'exorbitants', 'technique', \"j'attend\", 'pourrais', 'proposition', 'expéditions', 'deja', \"l'intégralité\", \"n'avons\", \"l'une\", 'certain', 'horrible', '🙏', 'livrent', '3,99', 'rend', 'facturé', 'inutile', 'inférieur', 'confortables', 'pourrai', 'rétractation', 'étape', \"l'or\", 'comprend', \"d'où\", 'enregistré', 'transmis', 'cop', 'constaté', 'devaient', 'demi', '3/4', 'prête', 'pû', 'collissimo', 'dimanche', 'repartir', 'satisfaites', 'fonctionnent', 'porte-monnaie', 'réaliser', 'infos', 'perles', \"j'habite\", 'jeté', 'chinois', 'er', \"l'acheminement\", 'avertie', 'déplacements', 'karl', 'calvin', 'klein', 'préférés', 'purement', 'recontactée', 'fluide', \"n'étaient\", 'incomplete', \"qu'après\", 'nombres', 'modifié', 'concernait', 'luminaire', \"l'expéditeur\", 'coli', 'récupère', 'perdue', 'cadres', 'absence', 'formidable', 'tablette', 'aimerais', 'abandonné', 'taillés', 'cherché', 'vérifié', '🤔', 'ponctuel', 'distance', 'fréquent', 'retards', 'retardée', 'sollicité', 'support', 'soi', 'rentrer', 'téléphoné', 'prêt', \"m'envoie\", 'dispo', 'document', 'fois-ci', 'lee', 'sergent', 'major', 'définitivement', 'existe', 'importants', 'cache', \"l'air\", 'pis', 'ferai', 'remplir', 'débrouiller', 'portes', '😁', 'tient', 'e-mail', 'préjudice', 'devenu', 'recevrai', 'voiture', 'énorme', 'passerai', \"m'indique\", 'monsieur', 'effectivement', 'viennent', 'venu', 'pensant', 'accessibles', 'arrivee', 're', 'utilise', 'langue', 'déchirée', 'importante', 'crois', 'achetez', 'jeudi', 'impeccables', 'déposer', 'chronopost', 'auparavant', 'plats', 'coussins', 'minutes', 'honorer', 'cachemire', 'assuré', 'mme', 'club', 'universel', 'transparent', 'couteaux', 'visibles', 'télé', 'désolée', 'logique', 'playstation', 'regarder', 'proposée', 'patienter', 'débitée', 'dédommager', 'efforts', 'goa', 'cheveux', 'lots', 'filtres', \"d'année\", 'combinaison', 'no', 'mercredi', 'amélioré', \"j'aimerais\", 'hic', \"n'arrive\", 'surévalué', 'finitions', 'deception', \"m'avertir\", 'rends', 'pouvons', 'parvenue', 'defaut', 'résolution', 'confirmer', 'route', 'trustpilot', 'comportement', 'direction', 'promotions', 'bol', 'mille', 'remettre', 'dépassé', 'lundi', \"d'erreur\", '🙂', 'banque', 'set', '30km', 'confection', 'comparaison', 'différences', 'shampooing', 'parti', 'taches', 'compétence', 'traiter', 'sûrement', 'expédier', 'jouet', \"l'ouverture\", '🤗', 'renseignements', 'remplacer', 'devriez', 'tenter', 'jeter', 'deçu', 'peur', 'conseil', 'insatisfait', 'parfums', 'pure', '2e', 'bottine', 'incompétent', 'fuire', 'supprime', 'tenais', 'supplémentaire', 'apporté', 'absent', 'jogging', 'endommagée', 'conçu', 'marital', 'répondent', 'compagnie', 'portant', 'voler', 'puisqu', '15/12', \"n'avez\", 'proche', 'tri', 'retardé', 'etre', 'confirmée', 'soigner', 'revient', \"m'envoyer\", 'tiers', 'histoire', 'showrooprivé', 'supprimé', 'consommateurs', 'okaidi', 'décue', 'situé', 'propres', 'lacoste', 'quatre', \"l'aspirateur\", 'habituelle', 'métal', 'défectueuse', 'reviennent', 'savais', 'travers', 'annulées', 'reparti', 'veulent', 'nathalie', 'plu', 'connecté', 'senkys', 'paiements', 'varié', 'reprocher', 'nez', 'retournée', 'macbook', 'brosse', 'vraies', 'probléme', 'reactif', 'quelquefois', 'parvenu', 'cesse', 'dormir', 'manquantes', 'relais-colis', 'foulée', 'prélevé', 'fdp', 'obligation', 'rester', 'renvois', 'diffèrent', 'fabriqués', 'coupées', 'attrayant', 'voulez', '49', 'devez', 'préalablement', 'preuves', \"m'y\", 'mini', 'imaginer', 'précis', 'expédiés', 'ère', 'derniere', 'plastiques', 'rajouter', 'faits', 'fonctionnel', \"l'annonce\", 'sandales', 'présenter', 'justement', 'décousu', 'sales', 'modele', 'connu', 'possibilités', 'cœur', 'abus', '😃', 'divers', 'commerçants', 'regardant', 'taxes', 'déco', '😠', 'tes', 'longueurs', 'indiquées', 'chacun', 'concerné', 'sonné', 'proposant', 'remarques', 'seront', 'loupé', 'survêtement', 'anapurna', 'éclair', 'partiel', 'suffisant', 'st', 'bande', 'alternative', 'exemplaire', 'bjr', \"l'annulation\", 'prenez', 'solutionné', 'carrefour', 'shoorom', 'contrefaçons', 'promesses', 'médiateur', 'tommy', 'zip', 'welford', 'souhaitez', 'culture', 'vert', 'bla', 'prevue', 'eme', 'niveaux', 'sécurisée', 'noter', 'enlever', 'facturés', 'indiquer', 'tre', 'cherchais', 'timberland', 'prive', 'recuperer', 'annees', 'protections', 'entretien', 'désolant', 'chemises', 'vrac', 'nivea', 'aussitôt', 'faible', '75', 'remisé', 'puces', 'ancien', 'due', \"qu'annoncée\", 'déchirés', 'raté', 'préparer', 'préparée', 'adaptées', 'rendant', 'recommencer', 'chemisier', 'décrite', 'telle', 'imprimé', '☹', 'compléter', 'manquer', 'excessif', 'fleurs', 'portable', 'précédent', '^', 'mitigé', 'choisis', 'simples', 'découvert', 'exagéré', 'renouvellerai', 'suivie', 'étonnée', \"l'avenir\", 'valoir', 'géré', 'alimentaires', 'arganicare', 'coûteux', 'guides', 'paris', 'londres', 'appelant', 'schowroom', 'bandoulière', 'pointé', 'maman', 'ferais', 'nettement', 'chaise', 'tels', 'recois', 'neuf', '600', 'pompe', 'taillée', 'non-effectuée', 'téléphoniques', 'sorte', 'beige', 'décevantes', 'bébé', 'montrer', 'courte', 'cherche', \"n'ayant\", 'quelconque', 'voleur', 'dropshipping', 'haute', 'imagine', 'nature', 'kickers', 'luxe', \"j'utilise\", 'posé', 'papier', \"l'origine\", 'véritable', \"d'autre\", 'bilan', 'minable', 'remplacement', 'éventuel', 'deçue', 'couverts', 'baladé', 'négligeable', \"d'abord\", 'communiqué', 'orange', '3ème', 'légère', 'cdlt', 'obtenu', 'textiles', 'plait', 'fins', 'habite', 'difficultés', 'console', '👍🏻', 'voila', 'etoile', 'promesse', 'fuit', \"n'existe\", 'abusé', 'réfléchir', 'bo', 'pacotille', 'fou', 'isabelle', 'cou', \"n'avoir\", 'show-room', 'magnifiques', 'instructions', 'marché', 'noms', 'valent', 'hiver', 'guise', 'suspension', 'camion', 'programmée', 'traces', 'vive', 'dégoûté', 'essaye', 'honoré', 'fer', 'plaisait', 'vouloir', \"d'achats\", 'vie', 'svp', 'interlocuteur', '☺', 'trompeuse', 'fraudes', 'apparement', 'vendredi', 'démarches', \"l'ordinateur\", 'bras', 'exacte', 'semblent', 'pauvre', 'valide', 'retournées', 'saisir', 'liquide', 'paie', \"d'échange\", 'solutions', 'jouer', 'oblige', 'masque', 'capuche', 'manche', 'couturière', 'davantage', 'courir', 'réalisés', 'lampadaire', 'larges', 'tâches', 'respectent', 'réponds', 'serviable', 'original', 'pochon', 'réduit', 'provenance', 'mises', 'normes', 'coûtent', 'remboursent', 'exceptionnelle', 'incapables', 'e-commerce', 'gratuitement', 'peak', 'carafe', 'conditionné', 'prevu', 'promise', \"d'euros\", 'connaissance', 'short', 'centre', 'père', \"l'endroit\", 'vraie', 'center', 'parc', 'maillot', 'abimés', 'relation', \"n'aurais\", 'remercier', 'montré', 'passent', 'maximum', 'désiré', \"d'annuler\", 'résumé', 'réussie', 'âge', 'permettent', 'fameux', 'scotché', 'zanzibar', 'inscription', 'avion', 'airways', 'nouveaux', 'partez', \"l'hôtel\", 'changent', 'responsables', 'dgccrf', 'doigts', 'eur', 'enseignes', 'précisions', '28/11', 'pouviez', 'renseigner', \"qu'elles\", \"d'avion\", 'puissent', 'œil', 'pa', 'kilos', 'arrête', 'prochaines', \"m'explique\", 'incompétents', 'retrouvée', 'change', 'voyant', '07', 'essaie', 'intérieure', 'biotyfullbox', 'indications', 'payés', 'fine', \"m'aperçois\", 'mathilde', 'chaine', 'dec', 'anormal', 'incompétence', ':(', 'vetements', 'quasiment', 'potter', 'figurine', 'venant', 'te', 'accepté', '😏', 'guide', 'modification', 'prépayée', 'recevant', 'principal', \"y'a\", 'perdus', 'cherchez', 'concernée', 'questionnaire', 'ceux-ci', 'échantillon', 'calendaires', 'sachez', \"l'occasion\", 'remarque', 'playtex', 'lié', 'régulière', 'coupon', 'patiente', 'boutiques', 'gonflés', 'doré', \"l'honneur\", 'tops', 'prétexte', 'reprendre', 'plateformes', 'occasion', 'type', 'decevant', 'présentée', 'allée', '12h', 'prises', \"j'avoue\", 'préviens', '34', 'cata', 'fermés', 'européennes', 'offerte', 'agréablement', 'o', 'époux', 'suit', 'dite', 'srp', 'wc', 'tourner', 'collègues', 'bio', '26/08', 'salariée', 'fabriquant', 'décalée', 'reviens', 'rassurant', 'rediv', 'désagréments', '01', \"l'écran\", 'rentrant', 'renvoyée', 'lis', 'partent', 'étiquetage', 'addidas', 'permets', 'estime', 'pourraient', 'soirée', 'angles', 'bizarrement', \"m'indiquant\", 'bénéficié', 'renvoient', 'boutons', \"d'utiliser\", 'sélectionner', 'columbia', 'navrant', 'modifie', 'étagère', 'clarté', 'murale', 'déballer', 'expliquant', 'incident', 'percé', 'donnent', 'coté', 'birkenstock', 'accord', 'étapes', 'recours', 'désolés', 'occasionnée', 'prochain', 'servir', 'tort', 'lèvres', 'week-end', 'conseils', 'pointures', 'comble', 'demandées', 'tester', \"l'effort\", 'grace', 'option', 'connecter', 'daube', 'menteurs', '4x', 'accusé', 'placée', 'mensongères', 'fluidité', 'cni', 'réclame', 'enregistrée', '500', 'inefficace', 'balance', 'permettant', 'simplicité', 'mobilier', 'plaque', 'bien-sûr', 'filtre', 'airpods', 'reconditionnés', 'écris', 'contractuelle', 'profiter', 'nullissime', 'campagne', \"d'emploi\", 'shooroom', 'respectes', 'diminuer', \"l'appui\", 'incorrecte', 'pleine', 'regrettable', 'lagerfeld', 'shoroom', 'outils', 'aie', 'ouvre', 'visible', \"j'estime\", 'montent', 'contient', 'besoins', 'telephone', 'bouchon', 'trouvais', 'refuser', 'durer', 'réfléchirais', 'erronée', 'opérateurs', \"m'aider\", \"m'informer\", 'remboursez', \"d'erreurs\", 'collé', 'attache', \"d'info\", \"n'ait\", 'oublier', 'convenable', 'individuellement', 'turc', 'min', 'positive', 'doublure', 'décousue', 'dépense', 'chaussons', 'normale', '👏', 'shoroomprivé', 'scanner', 'gain', 'modalités', 'annoncées', 'doutes', 'china', 'desigual', 'expéditeur', 'terre', 'prélèvement', '🚚', 'led', 'allais', 'neuve', 'verres', 'mouchoirs', 'rayée', 'plume', 'coin', 'parmi', 'augmentation', 'cooper', 'lanière', '4/5', 'casquette', 'fermer', 'aurez', 'malhonnêtes', 'verte', 'sachets', 'naviguer', 'lamarthe', 'cousu', 'zero', 'signalement', 'naissance', 'commerces', 'fût', \"l'appli\", 'contraire', 'voisins', 'debout', 'teinte', 'marketplace', 'discours', 'mené', 'dites', 'net', 'avancement', \"l'info\", 'vigilants', 'mc', 'exécutée', 'lumisky', 'justifier', 'lu', 'écrire', 'avril', \"l'étoile\", 'poêles', 'b', 'doudounes', \"d'explication\", 'dpd', 'couvercle', 'sauteuse', 'surprenant', 'probablement', 'ikea', 'réactive', 'recommandation', 'mince', 'perle', 'grade', '‘', 'taché', 'madame', 'geberit', 'fiche', 'comptais', 'mécontentements', 'étiqueté', 'habituellement', 'comportant', \"l'entreprise\", 'hallucinant', 'parcours', 'spécial', 'créneau', 'désastreuse', 'recevrez', 'volé', 'convenue', 'catégories', \"m'être\", 'honnêtes', 'insupportable', 'éclats', 'défaillante', 'retouchées', \"l'affaire\", 'solides', 'achetant', 'séchoir', 'disait', \"l'arrivée\", 'poignée', 'commune', 'éventré', 'kg', 'retournez', 'pression', 'brassières', 'noirs', 'newsletter', 'énergie', 'envoient', 'capture', 'moi-même', 'espace', 'minuscule', 'hugo', 'boss', 'nickels', '06', 'manqué', 'illégal', 'arrivait', 'cosmétique', 'tombe', \"m'informant\", 'restait', 'réparé', 'justes', 'perso', \"j'apprends\", 'protège', 'paraissaient', 'longueur', 'valait', 'chiffon', 'appartement', 'hannah', 'insuffisant', 'disneyland', 'intacte', 'similaire', 'barrés', 'bienvenue', 'revendu', 'bouteilles', 'effort', 'expire', 'action', 'prie', 'exactitude', '220', 'croyais', 'ferait', 'termine', 'essayez', 'inconnue', 'bof', \"m'aurait\", 'truc', \"d'apprendre\", 'apporter', 'veuillez', 'diadora', \"d'écran\", 'répression', 'botte', 'brefs', 'candle', 'carbone', 'destiné', 'mousse', 'évident', 'dégradé', \"l'eau\", 'legging', 'arrêter', 'volonté', \"d'explications\", 'san', 'marina', 'intermédiaire', 'abouti', 'cb', '46', 'fournis', 'trompé', 'boots', 'bidon', 'sortir', 'recevrais', 'chevignon', 'copies', '2021', 'tribunal', 'supprimer', 'suppression', 'poli', \"n'aurait\", 'mai', 'usage', 'dégoûtée', 'contactée', 'équivalent', 'rectifier', '180', 'soins', 'abonnée', 'incomplets', 'compétente', 'garçon', \"d'années\", 'v', 'investigations', 'mention', 'déballage', 'négative', 'troisième', 'chat', 'vain', 'oreiller', 'avantage', 'prévenez', 'made', 'direct', 'goût', 'investigation', 'estimée', \"s'avère\", 'facilités', 'dab', 'intacts', 'deplorable', 'aïda', 'acheteur', 'conserve', 'preniez', 'réclamer', 'canadian', 'cousue', 'variétés', 'vin', 'mère', 'dizaine', \"d'occasion\", 'ajouter', \"j'accorde\", 'portail', 'clio', 'plié', 'pause', 'suivant', '23/12', 'demain', 'incomplètes', 'dyson', 'cordon', 'tâche', 'spots', 'ocre', 'débarrasser', 'réalisées', 'imaginé', 'sejour', 'tombée', 'bain', \"l'entrée\", 'fermée', 'poser', 'accusation', 'berger', '1000', 'bateau', '12/12', 'mérite', 'restera', 'i', 'augmenté', 'lol', 'mettez', '14/12', 'repoussé', 'estimé', 'parents', 'réactifs', \"d'avis\", \"d'authenticité\", 'delà', 'plans', 'guider', 'attractives', 'précises', 'salutations', 'identités', 'impossibilité', 'embarquement', 'cauchemar', 'slogan', 'tranquille', 'navré', 'pages', 'avions', 'saisi', 'fevad', 'tardive', 'liv', 'livrez', 'bah', 'gonflé', 'demandés', 'subit', '—', 'ép', 'épouse', 'billet', 'femmes', 'qualitè', 'quitté', 'notation', 'comporte', 'déchire', 'rencontre', '->', 'moyens', 'swarovski', 'dix', 'aberrant', 'imposé', 'exceptionnel', '37', 'inclus', 'ouvrant', 'voisin', 'privilégie', 'tenté', 'gentiment', 'tables', 'états', 'flacons', 'réputation', 'silence', 'figurines', 'schleich', 'marquée', 'gêne', 'coupée', 'foutage', 'page', 'garanti', 'choquée', 'souhaiterais', 'titre', 'vrais', 'surface', \"m'avoir\", 'chauds', 'charmante', 'amont', 'certifié', 'refait', 'morphologie', '3.99', 'etam', 'stipule', 'merciii', 'packaging', 'catastrophes', 'évité', 'couvercles', 'logistiques', 'abimer', 'écrasée', 'pareille', 'sus', 'prévient', 'concurrentiels', 'vs', 'perds', 'souscrit', 'coulé', 'dégradation', 'lampes', 'bulles', 'minuscules', 'déceptions', 'survetement', 'matinée', 'bête', 'tâché', 'enlève', 'écrasé', 'arrangement', 'intégralement', 'chargée', 'convenir', '08', '25/11', 'obliger', 'perd', 'falloir', '1commande', 'harry', 'disney', 'assurer', 'arrêtez', 'âgées', 'manuel', 'moulinex', 'visiter', 'prenant', '32', '🙄', '72', 'rajoute', 'maximale', 'précisant', 'pendentif', \"s'excuser\", 'servi', 'réceptionnés', 'weiss', 'supposée', 'entier', 'quinzaine', 'smartphone', 'plainte', 'pochettes', 'abime', 'ruptures', 'légers', \"j'irai\", 'santons', 'decu', 'miroirs', 'capacité', 'revenir', 'osé', 'defectueux', 'aient', 'fonctionnelle', 'souhait', 'aider', \"l'été\", 'correspondante', 'déconvenues', 'ayoub', 'jordan', 'royal', '41', 'faisable', 'liste', 'parrainage', 'taper', 'commandais', '150', 'côtés', 'remises', 'trendyol', \"d'accès\", 'xs', 'remontent', 'teint', \"d'office\", \"l'est\", 'règles', 'parlé', 'puma', 'conséquent', 'gout', 'dissuade', 'motifs', 'chaude', 'casques', 'invendus', '29.10', 'bat', \"l'accueil\", 'anglais', 'filles', 'enlevé', 'grossièrement', 'utilisable', 'problem', '31/10', 'revendeur', 'lyon', 'structure', 'construit', 'relancer', 'réalisée', 'téfal', 'avertir', 'pots', '9h', 'décevants', 'devenus', 'lpb', 'collection', 'irl', 'participant', 'recoudre', 'habits', '12h30', \"d'annulation\", 'décider', '@', 'miroir', 'quasi', 'échéant', \"l'appareil\", 'seuls', 'époque', 'acceptable', 'lancer', 'occasions', 'singer', 'toucher', 'effectue', 'laissent', 'group', '05/09', \"d'envoyer\", 'fur', 'matières', 'biens', 'corse', 'laguiole', 'critique', 'ipanima', 'vinted', 'dépend', \"l'étiquetage\", 'souhaitable', 'préférais', 'rentrée', 'île', 'répétition', 'efficaces', \"d'excuses\", 'séjours', 'ryanair', 'madrid', '30/07', 'satisfais', 'félicite', 'duré', 'outre-mer', 'envisager', '93', 'mariage', '😘', '●', '🤪', 'remarqué', 'shoowroomprive', 'collections', \"d'aller\", 'effectif', \"m'intéresse\", 'zoo', 'tarifaire', 'fatiguant', 'comportait', 'réclamant', 'conduis', 'déranger', 'abord', 'désabonnée', 'venais', 'signifier', 'résilier', 'abo', \"l'arranger\", 'évite', 'tiennent', '3jours', 'tombé', 'esthétiques', \"l'aide\", 'régulier', '140', 'économique', 'tennis', \"d'arnaque\", 'bosses', 'pré', 'engagée', 'lavés', 'dires', 'reprendra', \"l'idée\", 'colier', 'abandonne', 'plafonniers', 'finie', 'refais', 'foot', 'loupe', 'réitérer', 'percements', 'thes', \"j'imaginais\", 'flip', 'flop', 'idéales', 'étudier', 'patience', \"j'exige\", \"n'étant\", 'feras', 'suivis', 'expediées', '3ieme', 'affilée', 'yc', 'tachés', 'pyjamas', 'entrepôts', 'coq', 'sportif', 'défoncée', 'résume', '11/03', 'affreuse', 'amère', 'capsules', 'assurée', 'rapidite', \"d'exécution\", 'aubaine', '👍🏼', 'victoria', 'commandes.le', '33', 'est-ce', 'taxé', 'revoyez', \"d'expedition\", 'premiere', 'sorti', 'dosettes', 'reconditionne', 'ceintures', 'achats.je', 'tiendrez', 'immédiate', 'sélectionnée', 'crocs', 'hâte', 'apportée', 'valentin', 'sentant', 'méfiez', 'fidele', 'présentait', 'soigneusement', 'évidence', \"l'aise\", 'regardé', 'oh', 'foie', 'vendait', \"d'ou\", 'dentifrice', '1110,00', 'utilisée', \"d'accéder\", 'gabriella', 'bemvi', '04.04', 'regrets', 'utiles', 'ordinaire', 'chargé', '6h', 'répartis', 'ignore', 'hilfiger', 'adoré', 'impartis', 'etoiles', 'gonflant', 'déresponsabilise', '-1318648-1-', 'tabourets', 'colliers', ':p', 'méfier', 'décharge', 'tee', '57', 'fidélités', 'demandez', 'exact', 'signale', 'réouverture', 'serviettes', '3e', 'caleçons', 'pouvaient', 'quelqu', 'détruire', 'détériorer', 'préparés', 'imaginez', 'honnêteté', 'devenue', 'mac', 'impeccablement', 'imparfait', 'mérité', 'aviez', \"m'avance\", 'gaspillage', 'mesurer', 'balcon', 'oublie', 'taillant', 'épais', 'lave', 'retire', 'intéressent', 'casses', 'annulations', 'nº278345447', 'annulee', 'vetement', 'repère', 'excuser', 'expresso', 'feu', 'achèterai', 'types', \"d'adresse\", 'numéros', 'déplorer', 'séparés', 'arêtes', 'fixations', 'protèges', '5/12', 'bassin', \"d'étiquettes\", 'droite', \"n'apparait\", 'just', 'box', 'calvaire', 'vérifiés', 'out', 'contradictoires', 'dépôts', 'passant', 'adéquation', 'attendes', 'création', \"d'imprimer\", 'cordial', 'épaisseur', 'chinoise', 'consulte', 'souvenir', 'capables', 'revenus', 'obligés', 'aucunement', 'possibles', 'bloquée', 'consigne', 'diligence', 'cohérente', \"l'étape\", 'sumsung', 'bloque', 'soignés', 'odeur', 'coordonnées', 'bancaires', 'frauduleuse', 'détient', 'agace', 'contenait', 'quart', 'plier', 'étre', 'letrres', 'jambe', 'hauts', 'préfèrent', 'oubli', 'genial', '6,5', 'convenance', 'euro', 'morceau', 'contenter', 'test', 'attendez', 'rassure', 'personnelles', 'diminué', 'écologique', 'faudra', 'tjr', 'gentils', 'hésité', 'poursuivre', 'remédier', 'ravis', '19.99', 'bold', 'entres', \"l'âge\", 'casquettes', 'chapeaux', 'norme', 'fabriquer', 'sitram', '2x', \"d'oreillers\", 'taie', 'déchiqueté', '19.90', 'légères', 'dures', 'absorba', 'charm', 'aimais', 'rigide', \"d'allumettes\", \"m'attendais\", 'supérieure', 'indigne', 'livree', \"j'insiste\", \"d'appeler\", 'contacts', 'statut', 'minoi', 'réglables', 'poignées', 'récent', 'gonflent', '450', 'désastreux', 'dédommage', 'bonnement', 'expressément', 'monétaire', 'crêpière', 'professionel', 'détruit', 'tb', 'vpc', 'soucieux', 'z', 'choc', 'tordue', 'libre', '04', '48/72', 'trouvez', 'imprimante', 'bed', 'corner', \"m'as\", 'tourne', 'alizea', 'installant', 'siège', 'sangle', 'dorées', 'cheap', 'débarrassé', 'péremption', 'allant', 'truffe', 'déteste', 'brigitte', 'bardot', 'menteur', 'passages', 'tentative', 'compliquée', 'diamètre', 'gênant', 'poêle', 'exorbitant', 'connue', 'fiables', 'indiquent', 'vaux', ':-(', '´', 'flexible', 'alléchantes', 'déformé', 'critères', 'processus', '10ans', 'boites', 'usagé', 'déballée', 'levis', 'jeunes', 'ballerines', 'bride', 'curieux', 'demeurant', 'plaisanterie', 'ferme', \"l'opération\", 'pompon', 'absurde', \"l'incompétence\", 'maxi', 'mienne', 'arrangé', 'gentillesse', 'javel', 'souhaits', 'brisé', 'élevée', 'financièrement', \"l'embarras\", 'tchat', 'égard', \"l'avis\", 'notifications', 'nullement', 'galéré', 'entendeur', 'toile', 'foncé', 'essai', 'arnaquée', 'cacharel', 'milieu', 'devrai', '👎', 'haircare', 'diffuseur', 'tassé', 'disparue', 'déplacée', 'étonnant', 'environs', 'strass', 'fendue', '1h', 'vieux', 'tresorsecret', 'informant', 'perla', 'isla', 'repassage', 'retournés', 'doc', 'récurent', 'toilette', 'adressé', 'remonte', 'changements', 'liquides', 'tobji', 'restant', 'capillaires', 'ps5', 'aléas', '30/11', 'atrocement', 'avère', 'tangas', 'passés', '👏🏻', 'new', 'attitude', 'hotel', 'invite', 'récupèrerais', 'légal', 'montés', 'entrée', 'tracabilite', 'skip', 'and', 'contrôler', 'dépositaire', \"l'agréable\", 'précisément', '17/1', 'désordre', 'daim', 'diverses', 'connaît', 'garcia', 'blouse', 'réceptionner', 'li', 'arraché', 'présentable', 'retenu', 'notée', \"d'accord\", 'humaine', 'chouchou', 'baisser', 'addiction', 'modifiee', 'rallonge', 'éventuels', 'récupération', 'ternes', '85', 'home', 'affichés', 'radiateurs', 'dépensés', 'mettent', 'tandis', 'rendue', 'officiel', 'mettant', 'exagérés', 'atteint', '😳', 'repris', 'réglés', 'hésiter', 'pourra', 'calite', 'décollé', 'froissé', 'abri', '2h', 'méthode', 'célio', 'p', '120', 'encombrant', 'bouchons', 'cabossés', 'pars', 'métropole', 'critiquer', 'showrooprive.com', 'frêne', 'buffalo', 'nafnaf', '2/01', 'interroger', 'vécu', 'auxquelles', 'parallèlement', 'demandent', 'réalise', 'télécharger', 'signer', 'conclure', 'honore', 'déclaration', 'x240', '240', 'six', 'considéré', 'lou', 'serrés', '10euros', \"m'avait\", \"l'arrière\", 'papiers', 'transmettre', 'triste', 'garderai', 'envoyées', '24/12', 'as', '😂', 'u', 'habitudes', 'apportant', 'lui-même', 'communiquer', 'prouve', 'soutien-gorge', 'excatement', 'yankee', 'finisse', 'feront', 'clavier', 'appréciée', 'déroulement', '4articles', 'finies', 'sobio', 'détaillés', 'cerises', 'robuste', 'adieu', \"s'en\", 'collant', 'décalé', 'déplace', \"j'arrive\", 'travailler', 'intervention', 'craintes', 'froissés', 'euh', 'travaillé', '300km', 'le25', 'souhaiterai', 'baisse', 'disparu', 'promouvoir', 'méthodes', 'conclusions', 'dérange', 'engage', 'qr', 'fan', 'baisers', 'paname', \"qu'ailleurs\", 'arnaquer', 'serré', 'trajet', \"j'aimais\", 'publication', 'devinez', 'bellecour', 'reina', 'merçi', \"d'entre\", 'frisés', 'déporable', 'légale', 'révélé', '78', 'baissé', 'désabonne', '2009', 'rattraper', 'signé', 'rejetée', 'distincts', 'sensés', 'dépenses', 'accuser', 'abusive', 'réglée', '249', '319', 'tordu', 'dépassent', 'devernois', 'commende', '. .', 'allergique', 'traité', 'mener', 'fr', 'annoncent', 'adulte', 'adultes', 'salon', 'réveillon', '🎁', 'assiette', 'rôti', 'canard', 'voulait', 'héritage', 'retenté', 'kilomètre', 'déconvenue', 'reconnu', 'invitée', 'shoroomprivée', 'fetes', 'showroom.com', 'systématique', 'merveille', 'choisit', 'affectionne', 'lâché', 'condescendant', 'sculpture', 'pop', 'art', 'couler', 'joyeux', '3j', '“', '”', 'sensé', 'mit', 'parka', 'attaché', 'colle', 'renvoyées', 'dédouaner', 'curver', 'retounée', 'portées', 'décanter', 'amateur', 'illusion', 'indication', 'expiration', 'validité', \"s'applique\", 'super.commande', 'sensible', 'prévisionnel', ':-)', 'étions', 'showrom', 'reflètent', 'kms', 'particulierement', 'professionalisme', 'ecoute', 'pilote', 'décalage', 'rayon', \"d'application\", 'trousse', 'bear', 'bobbe', 'collées', 'prélevée', 'proches', \"l'arnaque\", 'jarkit', 'chien', 'poussette', 'aperçoit', '90euros', 'jugé', 'renseignée', '🎄', 'joignable', '9/12', 'domaine', 'vagues', \"l'espace\", 'chauffé', \"d'éteindre\", 'courants', 'dôme', 'nettoyer', 'navette', \"n'avaient\", \"l'approche\", 'coincé', 'garantissait', 'allure', 'marge', 'sowell', 'trouville', 'résidence', 'sonnette', 'plaques', 'céramiques', 'combien', 'couronner', 'mesquinerie', 'rempli', \"d'objets\", 'resultat', 'erronés', 'reponses', 'dépit', 'féliciter', 'rapide.top', 'attendent', 'millions', 'enquêtes', 'auriez', 'cutter', '10/12', 'prime', \"j'envoie\", 'approchent', 'chaotique', 'italiennes', 'personnelle', 'décidément', 'conforte', 'conseillerai', 'expèrience', 'merciiiiii', 'ttes', '67', 'ml', 'dénoncer', 'navigateur', 'google', 'libellés', 'réserves', 'quatar', 'risquons', 'refoulées', 'misterfly', 'injoignable', 'ep', 'acceptée', 'interlocuteurs', 'perdons', 'née', 'saisie', 'qatar', \"l'esprit\", 'intervient', 'plate', 'confirmons', 'signal', 'conso', 'remercions', 'conscience', \"m'allait\", 'déduits', 'pdt', 'quelles', 'pfffff', 'appâter', 'exprès', 'produite', 'autorisé', \"n'aura\", 'raconte', 'mariées', 'passeport', 'cases', \"l'identité\", 'mariée', 'firefox', 'formule', 'crepière', 'arrivèe', 'inexact', '89', 'lie', 'toupies', 'bulle', 'bains', 'poussière', 'vidéos', 'christian', '6euros50', 'complémentaire', 'sortant', 'résolus', 'baskettes', 'logo', 'os', 'opté', 'priori', 'differentes', '2007', 'quotidien', 'consulter', 'rouille', 'douteuse', '05/12', \"l'authenticité\", 'brillant', 'black', 'friday', 'apporte', 'privilégier', 'soute', 'achetais', 'teeshirt', '28/10', 'croix', 'défoncé', 'sertie', 'anciennes', 'testé', 'semble-t-il', 'interessants', 'gallet', \"s'y\", 'doive', 'prenne', 'bijouterie', 'dispose', 'pubs', 'mensongere', 'aimer', '1400', '09', \"l'étagère\", 'faille', 'horrifiée', 'comportent', 'adepte', 'chloé', 'courtoisie', 'plaisant', 'general', 'justificatifs', 'accusée', '16de', '38/40', 'essentiellement', \"d'améliorer\", 'abusés', 'consécutives', 'adoooore', 'cire', 'végétale', 'agréables', 'balai', 'vapeur', 'réfléchirai', 'chèque-cadeau', '\\U0001f972', 'blanches', 'suprise', 'télévision', 'dupée', 'fondue', 'ticket', 'skowroom', 'sweet', 'vidé', 'neveu', 'commender', 'égaré', '25,90', 'indiquez', 'dommages', 'spiderman', 'repoussée', 'frein', \"d'échanger\", 'supposé', 'propositions', 'pergolas', 'tramonto', '03', 'élèvés', 'automatiques', 'lance', 'minima', 'déchiquetés', \"maxim's\", 'immédiat', 'détérioration', 'fâchée', 'commerciales', 'évolution', \"d'aide\", 'ménagers', 'délicatesse', \"m'arrêter\", 'plante', 'collants', 'attendus', 'tom', '45', 'timing', 'explicite', 'activer', 'bye', 'encre', 'sèche-linge', 'crème', 'inutiles', 'intégral', 'edit', 'erroné', 'recontacter', 'adopter', 'rares', 'supérieur', \"s'appelle\", 'couvre', 'stationnement', 'boules', 'pétanques', 'steack', 'aguiol', 'replay', 'sensées', 'serez', '1article', '8ans', 'périodes', 'minimes', 'confusion', 'embrouille', 'irréprochable', 'réagi', 'aller-retour', 'cabossé', '268', '927', '909', 'déconseiller', 'handicapées', 'âgée', 'handicapée', 'pèse', \"d'entretien\", 'companion', \"l'ancienne\", 'version', 'vendue', 'enfiler', 'partais', 'manches', 'répète', 'kilomètres', 'commandant', 'schtroumpfs', 'livraisonplus', '15j', '10j', 'bénéfice', 'nu', '04/11', '17/11', '3eme', 'oréal', '1l', 'brassière', 'contrainte', 'intéresse', '30/10', \"j'espérais\", 'dan', 'nuxe', 'leclerc', 'redéposer', 'pressé', 'redskin', 'laborieux', \"l'impossibilité\", 'feux', 'profondeur', 'résistance', 'basique', 'téléviseur', 'destinés', \"d'intérieur\", 'aléatoires', 'déballé', 'attendons', 'ambalage', 'varie', 'helvetica', 'enveloppée', 'officiellement', 'fourrure', 'tablettes', 'damman', \"m'abstiendrai\", 't-on', \"n'oublie\", 'visuels', 'crèche', 'enleve', 'bricolage', 'vestes', 'plaid', 'tele', 'vérifications', 'voyais', 'carnets', 'opération', 'supermarché', 'shoowprivée', 'pfff', 'gagne', \"l'échanger\", 'inacceptable', 'sociétés', '11h30', 'analyse', 'tache', 'stylo', 'tardivement', 'midi', 'gérez', 'conformément', 'conserver', 'nasseh', 'viable', 'exceptionnellement', 'réserve', 'bizaare', '106', 'archi', 'tente', '21/11', 'encaisse', 'planète', 'faites-vous', 'démarche', 'pot', 'courtoise', 'livrison', 'co', 'dizaines', '14-11', \"l'anniversaire\", \"l'aspect\", \"l'identique\", 'permis', 'trésorerie', 'compréhensif', 'avenir', 'accepte', 'vérifiant', 'sélectionne', '08926826', '20/11', 'garant', 'agissement', 'frauduleux', 'dommageable', 'récurrent', 'solde', 'sinequanone', '110', 'palais', 'drap-housse', 'écrasés', 'écrasées', 'poignet', 'rappels', 'compatible', 'cabossée', 'tineco', 'appareils', 'décision', '05', 'occasionnellement', 'costauds', 'malheureux', 'motive', 'revente', 'quitter', '15/11', 'schowroom.com', 'région', 'pareilles', \"m'allaient\", 'coulais', 'oct', 'espérer', 'aille', 'fermoir', 'rouillé', 'peau', \"l'envers\", 'pointe', 'fonds', 'explosés', 'brique', 'créations', 'originales', 'fragilité', 'eventré', 'confirment', 'soupçons', 'matériaux', 'na', 'revoie', 'restés', '10/11', 'réseaux', 'sociaux', 'jennifer', 'termes', 'déchirer', 'souviens', 'hahaha', 'rire', 'horreur', 'continué', 'préférée', 'fantôme', '🥰', 'supplément', 'ski', 'bollé', 'argenté', 'rapidement.produit', 'bordeaux', 'éraflé', \"j'irais\", 'tiroir', 'horaire', 'bershka', 'postaux', 'multiplié', 'crous', 'levier', 'écharpe', 'bloquer', 'calendrier', 'avent', 'style', \"j'essaie\", 'pigeons', '2/11', \"d'hiver\", 'cos', 'impec', 'miroiter', 'fauteuil', 'visserie', 'sacrée', '18/10', 'ps', 'livaison', 'renouvelle', 'ya', 'pas.mon', 'tvb', 'soyvent', 'remballer', '2684741', 'laissée', 'juridique', 'conservé', 'ennuyeux', 'sérieusement', 'détaille', 'aricle', 'consultés', 'avt', 'app', 'cybex', 'lustre', 'halte', 'àvant', 'possession', 'trace', 'excessivement', '46/48', 'amie', 'déformée', 'atelier', 'miu', 'remplacé', 'raccroché', 'tendance', 'pouvez-vous', 'craindre', 'précautions', 'aliexpress', 'achetées', 'espérait', 'éligibles', 'arrivant', 'furax', 'systématiquement', 'inadapté', 'alexander', 'queen', 'miettes', 'suppliant', '17h', 'arrange', 'passais', 'deviennent', 'traités', 'contrat', 'engager', 'imbéciles', 'initiaux', '31,90', '45,90', 'captures', 'association', 'douteuses', 'camel', 'fixé', '10/10', 'livraison.et', 'balade', 'chères', 'consentement', 'payez', 'but', 'negatif', 'téléphoner', '(8', 'alimentations', 'us', 'françaises', \"d'après\", 'comformes', 'obaibi', 'bancaire', 'générer', 'enregistrer', 'habituel', 'faisais', '14h', 'logiquement', 'devons', 'pressés', 'caddie', 'handicapé', 'abstenez', 'personnellement', 'indiquait', 'vila', 'roule', 'anneaux', \"n'allait\", 'wow', 'caroll', 'armani', 'pénaliser', 'banir', 'déclaré', 'reunion', 'interne', 'martine', 'crée', 'obsolète', 'ime', 'parfais', 'maniable', 'dangereux', 'face', 'jupes', 'fonctionné', 'espagne', 'renvoit', 'process', 'moitie', 'mésaventure', '12/09', 'arrachée', 'exception', 'déroulée', 'costume', '143', 'fake', 'vérifient', 'annulez', 'réutiliser', 'promet', 'tournevis', \"m'intéressent\", 'confirmes', 'pensé', 'déformées', '8h', 'roulé', 'inutilisables', 'showorrom', 'pluvieux', 'demeurent', 'fantaisie', 'contents', 'interlocutrice', 'justificatif', 'reducpriv.com', 'lignes', 'trompés', 'spécifique', '0/5', 'crient', 'atteinte', 'impacte', 'solidairement', 'communications', 'ecrites', 'demeure', 'lrar', 'avéré', 'courtoises', 'sous-traitant', 'prévenus', 'désinformation', 'auxquels', 'tissue', 'immense', 'conformement', 'radiateur', \"n'obtient\", 'cuvette', 'suspendu', 'qd', 'cède', 'compliqués', '03/09', 'fréquemment', 'parfai', \"d'oreiller\", 'panoramique', 'touche', '_', 'taillait', 'fautes', 'chere', 'é', 'éloignée', 'rapude', \"l'art\", '31', 'lib', '179', 'relations', 'maîtresse', '✅', 'savons', 'surveiller', 'manquaient', 'shooroomprive', 'épuisé', 'visseries', 'aimables', 'shorts', 'défroisseur', 'polti', \"d'ordinateur\", '15h30', \"d'éviter\", 'découvre', 'maillons', 'tj', 'col', 'courtes', 'tombent', 'épuisés', \"d'excellentes\", 'lonsdale', 'tailllent', 'rasoir', 'braun', \"n'as\", 'paillasson', 'contacterais', 'affiche', 'qqs', 'dindons', 'bidons', 'bémols', 'broyeur', 'krups', 'transfert', 'sincèrement', 'possède', 'étanche', 'atm', 'donnait', 'wokisme', \"l'écriture\", 'inclusive', 'jus', 'pc', 'armoire', 'couac', 'sous-vêtement', 'garanties', '16,90', '26,90', 'jack', 'jones', 'bemol', 'rédigé', 'successives', 'connecte', 'trompe', 'marionnaud', 'soignées', 'offertes', 'shopper', 'apprend', 'encaissement', 'représentent', 'arbustes', 'feuilles', 'étiez', 'entierement', 'parviens', 'augmentent', 'renouvelé', \"l'intermédiaire\", 'topissime', 'domaines', 'majorité', 'privés', '1036', 'transats', '272', 'transat', 'accoudoir', 'évoquent', 'grosses', 'eau', 'laver', 'entrer', '😕', 'vingtaine', \"d'alerte\", 'rencontrés', 'relatif', 'â', 'fluctuante', 'favorable', 'perfectstay', 'apparaître', 'assise', 'british', 'attrayantes', 'hôtel', 'déplus', 'fila', '2x6', 'trouée', 'camaïeu', 'tentation', 'correspondance', 'viscose', 'conteste', 'gluten', \"d'elle\", 'interressant', 'inconnues', 'sloggi', 'slips', '31/08', 'jeux', 'injuste', 'impossibles', 'exceptions', 'compliquées', \"j'envisage\", 'interventions', 'tbien', 'multiple', 'déclenche', 'continuerais', 'paninis', 'reconnais', '2ans', 'taxés', 'dégriff', 'achats.seul', 'ampoules', 'financier', '2019', 'ameliorer', 'complexe', 'décrire', 'éventail', 'décris', 'mort', 'scolaires', 'portefeuille', \"j'espére\", 'correspondra', 'problémes', 'superbe.solde', \"m'arrive\", 'utilisées', 'perdure', 'fonctionnement', 'diversifiés', 'octroi', \"d'habits\", 'discussion', 'dirai', 'invendables', 'réexpédié', 'déclarée', 'nai', 'dé', 'fréquents', 'écru', 'comlande', ':d', 'habonement', 'dents', 'sertin', 'naturé', 'forse', 'merchandise', 'encombre', 'storage', 'sélectionnes', 'satisfaite.produit', '2011', 'vernis', 'remplis', '2627258', 'ebike', 'moma', 'bike', 'jetable', 'flèche', \"d'arnaques\", 'luminaires', 'enfer', 'expliquez', 'aménagé', 'appart', 'éclate', 'soirs', 'balle', '83', 'casée', 'redommage', 'reperds', 'js', 'résiliation', 'réitère', 'prouver', 'calamité', 'créoles', 'épaisses', 'tordues', 'réf', 'bge', '1807038', 'mentionnant', 'grammage', 'foto', 'contractuel', 'néant', 'oubliée', 'récupérés', 'affichez', 'feler', 'espagnoles', 'combine', 'hausse', 'cesser', 'manœuvres', 'conjoncture', 'inférieure', 'piloter', 'constatation', 'cricut', 'cultura', 'concurrences', 'perçage', 'décalages', '7,90', 'sélection', 'desdits', 'propreté', 'considérer', \"l'emporte\", 'morte', 'perdrai', '1000e', '7x7cm', 'parfumerie', 'préselection', 'clique', 'préselections', 'dispataissent', 'motivé', 'anticipée', 'organisée', 'intéressé', \"d'ampoules\", 'reproduit', 'inadéquate', \"l'installer\", 'casserole', 'gourmet', 'rubriques', 'what', 'else', 'parodier', 'georges', 'drp', 'montages', 'branlant', 'crever', 'renforts', 'ranger', 'a4', 'paraitre', 'thés', 'rapide.je', 'decoration', 'méridienne', \"d'accoudoirs\", 'élément', 'doubles', 'évidement', 'limites', 'menuisier', 'queue', 'rembourseras', '1300', 'blabla', 'destinataire', 'malhonnêté', 'éloignement', 'amortir', 'incite', \"jusqu'a\", \"l'expedition\", 'cohérent', 'attente.livraison', 'usagées', 'préparateur', 'échangé', 'tirade', 'phrase', 'fantastique', 'apprise', \"s'excusent\", 'gène', 'usagée', 'clôturent', \"m'accuse\", 'bâton', 'white', 'éclaicir', 'cernes', '§', 'be', 'maybelline', 'cosmétiques', 'enchanté', 'stores', 'modérés', 'description.envoi', 'repondue', 'nespresso', '65w', 'moules', 'elastic', 'delzis', 'pasvvvg', 'qualitée', 'brume', 'secret', 'concluante', 'pont', 'surplus', '66', 'douanières', 'mo', 'paraissait', \"l'utiliser\", 'le.service', \"m'offrant\", 'fringue', 'matiere', 'aléatoire', 'tracée', 'cherchant', 'comptoir', 'prétendez', 'dossettes', 'posée', 'vérifiée', 'transit', 'lancé', 'déplacé', 'mesurée', 'alain', 'ea', 'transverz', \"j'espere\", 'remet', \"s'ouvre\", '\\U0001f979', 'présentées', 'chausse', 'quincaille', 'ravies', \"d'y\", 'accrocher', 'breloques', 'expédieé', 'réinitialisation', 'recréer', 'special', 'convoitais', \"n'allais\", 'escoqueries', '20/02', 'réponde', 'contracté', 'credit', 'accusant', '250', 'escroqueries', 'grugée', 'dissimulé', 'mentionnent', 'flotte', 'étonné', 'identifié', 'écourte', 'volée', 'escient', 'déconseillée', 'nasty', 'gal', '21.30', 'débloquer', 'contactent', 'décolère', 'sitot', 'sce', 'préalable', \"d'encaisser\", 'do', 'not', 'buy', 'jewellery', 'ramenée', '179,00', '3,94', 'g', \"l'avons\", 'pesée', \"n'ayons\", 'lissage', 'souhaitais.bonne', '<3', \"j'adooore\", 'rechange', 'e22', '00300154', 'numero', '2554727', 'emploi', 'poeles', 'induction', 'endommagées', 'contante', 'furla', '2,99', 'vigilant', 'finira', 'décrit', 'bygrasilla', 'jaunis', 'jauges', 'mettrait', 'clôturé', 'prétendant', 'déposée', 'petit-fils', 'lazartigue', 'espoir', 'avancé', 'acheterai', 'dédouanent', 'souhaites', 'bar', 'intervenue', 'erles', 'machin', 'porterai', '77', 'furieuse', 'shirts', '2788294', 'qrcode', 'répertoriés', 'connectés', 'intervenir', 'cumuler', 'tributaire', 'performants', '.. .', 'longue.dommage', 'semblaient', 'serpillère', 'formes', 'méditer', 'chiffre', '38-40', 's-m', 'bebe', \"l'opposé\", '8km', 'ajournée', 'crepiere', 'ébréché', 'invité', 'rencontrant', 'victoire', 'svr', 'chèrement', 'bordereau', 'transparence', 'apportee', 'inintéressant', 'rétrécir', 'attirer', \"l'attention\", 'malveillantes', 'elephant', 'décoration', 'transformé', 'nains', 'recolles', 'repond', 'bâche', 'brise-vue', 'ficelle', 'métrage', 'corde', 'enroule', 'surdimensionnée', 'acceuil', 'entretein', 'prestige', 'désire', 'corporel', 'venait', \"l'essentiel\", 'calage', 'aimerai', 'concerner', 'prélever', 'vocabulaire', 'rond', 'broche', 'encombrement', 'tasses', 'visualisé', 'dirigé', 'confirmées', 'satisfaisantes', 'joint', 'comprennent', 'lisent', 'statuts', \"m'apporter\", 'chrono', 'post', 'retournait', 'expiré', 'parlent', 'actif', 'continuation', 'sombre', 'feuille', 'arrachés', '9,12', '22k', 'donnaient', 'contours', 'conséquents', 'cala', 'dur', 'cintré', 'piqué', \"l'empiècement\", 'lumignon', 'robinet', \"n'es\", 'galérer', 'for', 'queux', \"s'arrange\", 'boum', 'explosent', 'ccest', '17/02', 'leging', 'lévis', 'ipad', 'stok', 'pourrie', 'mites', 'habilles', 'thèse', 'grossistes', 'notes', 'ébréchées', 'lisible', 'savait', 'vices', 'juger', 'senteur', 'dommage.sinon', 'réfléchie', 'slim', 'fit', 'régular', '2lots', 'unis', 'chagrine', \"l'amplitude\", 'sceau', 'la.marque', 'importance', 'product', 'showoomprivé', 'méme', 'presente', 'flexibilité', 'souhaités', 'muy', 'buen', 'caractères', \"l'age\", 'meilleures', 'emballe', 'extremis', 'ouf', '😰', 'stabilité', 'germoir', 'débloqué', 'dégueulasse', 'remiseetreduction.com', 'abonnez', 'schoowromprive', '💵', 'ravissantes', 'forçant', 'serrure', 'enfoncée', 'naturémoi', 'biopha', 'quantités', '12,85', '30,38', 'génral', \"l'incident\", 'façade', 'assurées', 'ci-joint', 'jetables', 'insérer', 'cristaux', 'découvertes', 'payany', \"s'agir\", \"l'acheter\", 'socquette', 'etiquettage', 'culottes', \"m'apprend\", \"l'approvisionnement\", 'dilara', \"l'augmentation\", 'ala', 'reparte', 'empreinte', \"s'appliquent\", 'neveux', 'mannequins', 'abominable', 'tenez', 'berteaux', 'atttactifs', 'couté', '25.99', '9.99', 'diable', 'dispositif', 'manutention', 'échangeables', '3ans', 'adressée', 'prevenu', 'ikks', 'assorties', 'prevenir', 'dixit', 'evidemment', 'bagarre', 'cat', 'contactez', 'esttoujours', 'comprendon', 'etes', \"l'annuler\", 'giovale', 'murano', 'renverrais', 'effacé', 'didier', 'négliger', 'rabat', 'maintenir', \"l'oreiller\", 'fronce', 'taxée', 'facteur', 'fixer', 'épaule', 'crochet', 'caches', 'écrous', 'addict', 'incroyables', 'remplacée', 'réutilisé', 'recouverte', 'occasionné', 'prévention', 'impérativement', '30/01', 'expediée', '04/02', \"l'interphone\", '06/02', 'receptionné', '07/02', '08/02', '09/02', 'est-on', 'asna', 'centres', 'insister', '13/03', 'expediee', 'bahut', 'décaler', 'étagères', 'charnières', 'range', 'commode', 'tiroirs', 'fondu', 'baissait', 'mouillé', 'lotion', '120e', '36e', '6e', 'regarderai', 'angle', 'convertible', 'relancé', 'reviendrons', 'e-business', 'mette', 'priorité', 'énième', 'vues', '1100', 'brassez', 'publiés', 'rbsmt', 'ergonomique', \"l'environnement\", 'approprié', 'pff', '12/01', '04/01', 'minimaliste', '):', 'cuisson', 'restons', 'décorations', 'gregor', 'la.commande', 'ouvrées', \"m'apprenez\", 'çà', 'pseudos', 'dégoûter', 'concrètes', 'shworoomprivé', 'bourique', \"n'acheter\", 'comprise', 'geniale', 'chevets', 'fêlés', 'encombrants', 'decues', 'auto', 'gâche', 'montrait', 'entoure', 'feedbach', 'appliquer', 'montures', 'synthétiques', 'modéré', 'cad', 'authentiques', 'chiffonne', 'decla', \"m'attends\", \"d'ouvrir\", 'montagne', 'réagit', 'réparti', 'considérée', 'bruyeres', '209', 'légalement', 'prouvant', 'laisserai', \"n'achetez\", 'blocage', 'dépot', 'joindre.honteux', 'solliciterai', 'crêpes', 'photo.materiaux', 'labradorite', 'melaminé', '350', 'irreprochable', 'habillement', 'equipe', 'maximales', 'sollicitations', 'conséquence', 'saletés', 'crasse', 'sneakers', 'renvoyee', 'hésiterai', 'rencontrer', 'attentif', 'salopette', 'éviterait', '30-30', '32-32', 'repassé', 'rerourne', 'hôtesses', 'maîtrisent', 'arrogantes', 'récite', 'litanie', 'laïus', 'personnalisé', 'étrangères', 'surcroît', \"m'échange\", 'deg', 'moquerie', \"l'histoire\", 'kafkaïenne', \"m'étrangler\", 'entendant', 'pseudo', \"l'om\", 'donnerait', \"l'oubli\", 'rêver', 'combattant', 'reconnaissance', 'choisie', 'ré', 'détériorée', '👍🏽', 'adapter', 'malin', 'fracassées', 'serrée', 'quarante', 'berenice', 'ulcérée', 'brillante', 'achevée', 'urgemment', 'sr', 'intelligent', 'retirez', 'gels', 'soutien', 'gorge', 'fouilles', 'fóssil', 'sommaire', 'judiciable', 'libres', 'pourcentage', 'imaginaire', 'renouvelée', 'étc', \"d'huile\", 'ajoute', \"j'offrais\", 'differents', 'virtuel', 'adoucissant', 'cessez', 'revenue', 'flup', 'soie', 'coupés', 'elle-même', 'désirent', \"m'agréaient\", 'bandana', 'ast', '6kms', 'obligeant', 'loterie', 'comparable', \"l'usage\", 'trouves', '26.90', '9.90', 'centrakor', 'caen', 'nacre', 'waechter', 'cassym', '🤨', \"s'adapte\", 'folle', 'déclenché', 'chantelle', \"l'enseigne\", \"s'adapter\", 'commerçante', 'ateliers', 'ghia', 'charme', 'exp', 'riences', 'pradel', 'lame', 'coupant', 'beurre', 'pardel', 'gonfle', 'morgan', '28.90', '31.90', 'courriels', 'bretelles', 'brûlé', 'compétant', \"ve'te\", 'martens', 'lourdes', 'déplacent', 'ouest', 'santé', 'lumière', 'excusez-moi', 'pila', 'travaillez', 'contrats', 'médicaments', 'interdîtes', 'refusez', 'yaura', 'djamila', 'raiide', 'bec', 'comprennant', 'manette', 'gaming', 'amené', 'sous-vêtements', 'regrouper', 'bla-bla-bla', 'am', 'repéré', 'york', 'gèrent', '😱', '✈', 'package', 'match', 'chambres', '934', 'detail', 'reservations', 'etais', 'verifie', 'hotels', 'mefier', '47,40', '103,79', 'pénalisée', 'financierement', 'accepteraient', 'payes', 'posté', 'reconnaissant', 'supposés', 'jusque-là', 'scruter', \"s'ajoute\", 'commandeet', 'emplettes', 'aperçue', 'sentie', 'néon', 'branchement', 'transformateur', 'petrole', 'attrayante', 'sèche', 'pluie', 'dove', '2762369', 'manques', 'éventrée', 'luxury', 'avenue', 'deux.decevant', \"d'essais\", 'malmené', 'objectif', 'semi', \"l'échéance\", 'habitué', 'utiliserai', 'préserve', 'alliance', 'rapiment', 'averties', 'vieilli', 'déçi', 'promotionnels', 'rad', 'tot', 'lasseet', 'ravissant', 'froisee', '2770358', 'prendrez', 'suberbe', 'accepter', \"n'envisage\", 'rapidement.au', '24pieces', 'fabuleux', 'retenue', 'forfaitaire', 'integral', 'nikita', '17/10', 'showrrom', 'trouvent', \"m'été\", 'débourser', '699', \"s'enclenche\", 'racheté', \"l'arrêt\", 'mentir', \"d'amélioration\", 'suggérer', 'permettez', \"d'assouvir\", 'financières', 'receptionnz', 'vivant', 'démentiels', 'sacrifice', '2,80', 'suppose', 'intégré', 'llivraison', 'surmatelas', 'niquel', 'vives', 'turquoises', 'lapis-lazuli', 'minimalismes', 'donnant', 'descend', '7/8', 'découvrant', 'fictives', 'rééquiper', 'équipements', 'retrouvez', 'desing', 'industriel', \"n'existent\", '500-600', '150-180', 'panneau', 'particules', 'carrera', 'écaillée', 'reproposé', 'offet', 'datant', 'règlent', 'moulures', 'stratifié', 'décolle', 'canage', \"l'imaginé\", 'officiels', \"l'inverse\", \"n'allaient\", 'gardais', 'remboursais', '18.50', 'black-listé', 'et.beaucoup', 'livraison.rapide', 'couturés', 'subie', 'courant', 'commandee', 'deceptions', 'produis', 'loint', 'amélioration', 'montantes', \"l'horaire\", 'médical', 'anticipation', 'venteprivée', 'profondément', 'koenig', 'déversé', 'scotchés', 'apparues', 'rayés', 'vertes', '6m18654041850', 'confié', 'ke', 'destinations', 'élévé', 'acquitter', 'protégés', 'précédents', 'rentrent', 'bénéficiaire', 'assistance', 'efforce', 'proposons', 'miens', 'réalisant', 'utilité', 'jugera', 'opinion', 'arriverez', 'constat', '160', '260', 'fourche', 'attaches', 'axe', 'doucement', 'cautionné', 'manquerait', 'épuisement', 'boucler', 'bad', '4euro', 'peignoir', 'regroupait', \"m'était\", 'destinée', 'refusée', 'body', 'réparable', 'bougeait', 'flemme', 'joseph', 'navrés', \"l'abri\", 'collègue', 'ghita', 'ah', 'pourrissez', \"j'abandonne\", 'lectrices', 'lecteurs', \"l'envois\", 'diffères', '10/01', 'bourré', 'poils', 'animaux', 'connaissez', 'réagissiez', 'avisdefabiravle', 'dés', '29/12', '06/01', '09/01', 'acceptés', 'le.site', 'rapide.bien', 'publié', 'raptor', \"s'engageant\", 'surprend', 'groupe', \"l'engagement\", 'méfiez-vous', 'commandrais', 'extensible', 'stockées', 'parallèle', 'gère', 'souffert', 'écu', 'abdurdistan', 'absurdité', 'rassembler', 'emprunte', 'factrice', 'courrier', 'touches', 'gardes', 'boîtier', 'jenyfer', 'filoche', 'indicateurs', \"d'aujourd'hui\", 'préparations', 'veiller', 'ta', 'psg', 'échappaient', 'reflète', '69,99', 'constructeur', '385', '19,50', 'conseillé', '229,99', 'hésiterais', 'accueillie', 'me.dit', '📦', 'différée', 'indépendantes', 'bénéfique', \"d'informer\", \"l'imprimé\", 'visualiser', 'laissez', \"n'écoute\", 'dépensé', 'baladée', 'récupérée', 'satsfait', 'profité', 'crazy', 'days', \"m'à\", \"l'expediteur\", '50km', 'deposé', 'disponibilités', \"l'échange\", '3/01', 'coule', 'installer', 'plustard', 'traverse', 'finalisé', 'mettrais', '01/01', 'repartie', 'appelles', 'minables', 'appelées', 'débrouillez', 'referais', 'vertigineuse', 'mystérieusement', 'réagir', 'instagram', 'outil', 'marketing', 'litigieuses', 'extrait', 'jugement', 'prononcé', 'encontre', 'affirme', 'khassani', 'juge', 'condamné', 'illicite', 'plate-formes', 'conviendrez', 'extraire', 'trustpilote', \"l'opérateur\", '01.01', '001', 'persuadée', 'réglable', 'réglage', 'serre', 'lache', 'distribué', 'carburant', 'événementiel', \"t'asseoir\", '6.35', 'doigt', '51/53', 'truspilot', 'publique', 'verification', 'envoye', 'immediatement', 'plancha', 'newletters', 'rivets', 'pètes', 'prévoit', 'souples', 'pertinent', 'optimal', 'précédentes', 'pourvu', \"n'augmente\", \"l'énorme\", 'babioles', 'serrage', 'tiré', 'torchons', 'démené', 'aidé', 'autiste', 'rêve', 'chaleureux', 'marc', 'john', 'détricotée', 'portais', 'normales', 'attestant', 'corriger', 'formulé', 'requêtes', 'spéciales', 'cumulables', 'expirent', 'promener', 'requête', 'viendrai', 'réapparition', 'confuse', 'complicite', 'illico', 'reussie', 'centré', 'parfait.parfait', 'répondait', 'imbatable', '👌🏻', 'puvert', 'émis', 'livraion', 'démarque', 'gads', \"j'été\", 'cotres', 'must', '-1370566-1', 'arthur', 'martin', 'constatons', 'griffés', 'insiste', 'signalant', 'filleuls', 'recevait', 'perfectionner', 'aboutir', 'dynamique', 'rapise', 'nombreuse', \"l'orange\", 'sublime', \"l'aventure\", 'kimberfeel', 'chaudes', 'tristounette', 'recommaner', 'dond', 'décevoir', 'échaudez', 'maroquinerie', 'dudit', \"l'offrir\", 'italy', 'étrange', 'probable', \"s'agisse\", 'victime', 'occuper', \"d'obtenir\", 'rayban', 'douche', '120cmx200', '850', 'isaco', \"l'italienne\", 'pourri', 'veu', 'pourris', \"s'attendre\", 'coooool', 'colis.ah', 'relais.donc', 'bizn', 'détériorent', 'rue', 'passy', 'kiosque', 'journaux', 'évitez', 'correspondre', 'obtu', 'souviendra', 'bandeau', 'affirmait', 'passees', 'pas.du', 'allés', \"c'esqrt\", 'occupéé', 'terés', 'decembre.jamais', 'retranchement', 'posteriori', \"l'etat\", 'casé', 'site.ce', 'engrangent', 'spéculent', 'annulent', 'cammande', 'shot', 'efficient', 'exemplaires', 'por', 'esthétiquement', 'équerres', 'consolider', 'bouge', '50m', 'énervant', 'incendie', 'suie', 'phénix', 'discret', 'ton', 'insolent', 'tva', '6000', 'étranger', 'hajar', 'éviterai', 'arche', 'coulés', 'rayé', 'mettra', 'conclu', 'provocateur', 'jupiter', 'rugueux', 'matériau', 'perdez', 'tee-shirt', 'airness', \"c'étaient\", 'posées', 'évasives', 'malgre', 'brasero', 'contraignant', 'redresser', \"j'aimerai\", 'hamac', '26.12', 'montaigne', 'scratch', 'inexistants', 'allaient', 'rzpartie', 'restée', '5,99', '15,47', 'bonn', '26/12', 'préférerais', 'ouah', 'comparés', 'hesitation', 'abimee', 'rappelais', 'offrant', 'écoulé', 'parier', 'facturent', \"n'etais\", 'ben', 'clôturer', \"j'offre\", 'chéri', 'tondeuse', '239', 'diffusion', 'raccourcir', 'pasnnce', 'chaussuesproduit', 'idnamissible', ';-)', \"d'occaz\", 'presqu', 'xxxxxxxxxxxxxxx', 'recouché', 'détruite', 'éloigné', 'multitude', 'cent', 'soulagement', 'massif', 'offr', 'fragilisée', 'grossiers', 'foire', 'plastifié', 'merxi', 'opportunités', 'droites', 'cafe', 'esther', 'amabilite', 'zone', '20hoo', 'dessert', 'préparons', 'serein', 'sécurisés', 'adaptés', 'cumulé', 'sentait', 'poisson', 'pouri', 'cher.le', 'manipulation', 'lord', 'kitc', 'kitchenaid', 'doreillette', 'décoller', 'oreillette', 'testés', 'écorné', 'brûlure', 'guyane', \"l'amener\", 'négligée', 'infinitif', 'edt', 'vote', 'oart', 'aboutie', 'arricles', 'imbécile', 'expertise', 'voirev', 'coontre', 'façons', 'meeerde', 'pouf', 'plaintes', 'datent', 'sontque', 'coontrefaçons', 'arrache', 'fuyeeeeezzzzzzz', 'willemse', 'comparativement', \"t'on\", 'interdisez', 'inonder', 'publicitaires', 'commencez', 'repondez', 'désolé', 'apportées', 'recuprer', 'trame', 'retour.je', 'physique', 'récente', 'estimer', 'déc', 'distribuer', 'eviter', 'décrivant', '13/10', 'forêts', 'hattigny', \"l'aqua\", 'mundo', 'froide', 'piscine', 'bleues', 'malade', 'urgences', 'sarrebourg', 'maîtres', 'nageurs', 'polaires', 'imaginez-vous', 'frigorifié', 'restrictions', 'gouvernementales', \"d'énergies\", 'travaux', \"l'indiquer\", 'ze', 'hall', \"d'entrée\", 'sert-il', 'chauffer', 'yummy', 'crêperie', 'suzette', 'éclairée', 'lumières', 'brûlent', \"d'air\", 'froid', '.\\n.', 'toilettes', 'panneaux', \"d'affichages\", 'changés', 'cottage', 'durs', 'lumbagos', 'affreux', 'gaché', 'comparatif', 'pū', 'accesoire', 'accessoire', 'residence', \"l'appartement\", 'raffraichissement', 'murs', 'dépassant', 'branlants', 'chambre', 'lumineuse', 'fixée', 'dangereuse', 'apparents', 'vitro', 'usées', 'couvert', 'réceptionniste', 'prévienne', 'sens-tu', 'extrémités', 'micro', 'rayure', 'clips', '116', 'accusations', 'ressort', 'outrée', 'requis', \"s'appliquer\", 'teleconseillers', 'sceptique', 'remboursement.jaimerais', 'nuisible', 'confronté', 'conciliant', 'coopératif', 'frayeur', \"l'économie\", 'mene', 'foutu', 'arrivera', 'ruiné', '1700', '15m', 'plates', 'embêtés', 'accorder', 'rachete', 'phone', 'anticiper', 'téléphones', 'merite', '22/11', '😮', '20/12', 'énervée', 'promettez', 'respectez', 'sapin', 'desinstalle', 'comptez', 'participation', \"d'amis\", 'recyclé', '14,15', '18/12', 'signe', 'degoutée', 'siri', 'micros', 'complété', 'rigole', \"l'humour\", 'bienvenu', 'au-dessus', '11h35', '13h35', 'gâteaux', 'appui', 'spécialités', 'épisode', 'collée', 'transmettez', 'récolter', 'protéger', '2018', 'signée', 'signées', \"s'apparente\", 'ennemis', 'paroles', \"n'engagent\", 'menée', 'étroite', 'stature', 'précision', 'offrable', 'pas.avoir', 'de.ma', 'encaissée', 'finaliser', 'insatisfaisant', 'pafaittt', 'pafait', 'tps', 'incompletes', 'balladée', \"d'avant\", 'tabac', 'paperasse', '2727148', 'lolita', 'lempicka', 'finissant', 'royalement', 'rbts', 'ahh', 'oubliais', 'insistance', '🤣', 'ahah', 'déduire', 'ennuis', 'crac', 'responsabilités', \"l'ordi\", 'rouges', 'vigilance', 'malette', 'tasse', 'moussant', 'szwarowski', \"l'attache\", 'rudimentaire', 'inscrites', 'soeur', 'passeports', 'prévenons', 'faisons', 'inversons', 'renseignons', 'notons', 'tienne', 'recevons', 'tickets', 'tanzania', 'incorrectes', 'aérien', 'défausse', 'inversé', 'mom', 'aurions', 'écrites', 'piégées', 'confins', 'indifférence', 'intenable', 'joie', 'précéder', 'rachetons', 'embarquements', 'libellé', 'aiways', \"l'embarquement\", 'rachetez', '1509', 'modifiable', 'annulable', 'remboursable', 'orchestea', 'travel', 'evasion', \"l'hébergement\", 'compagnies', 'aériennes', \"qu'agence\", 'rôle', \"d'accompagner\", 'sécuriser', 'volontaire', 'affirmé', 'mr', 'choisissez', 'accompagne', 'pourrons', 'sereins', 'aides', 'démordre', '6.5', 'inflexibles', 'mettrai', '23h50', 'annulaient', 'calculer', 'surbookez', 'cirer', 'mentent', 'orchestré', \"n'existait\", 'représentative', '🆗', '27/12', 'mettons', 'œuvre', 'reprenne', 'respectait', \"n'arriverait\", \"d'ouverture\", 'relance', 'redirigé', 'avocats', 'test-achat', 'showrooomprivé', 'vague', 'lounge', \"d'ajouter\", 'jointes', 'màj', 'favorablement', \"j'espères\", 'traite', 'induire', 'lecteur', 'tante', 'escale', 'doha', 'tanzanian', 'appellent', 'sarah', 'chrome', 'tentent', 'renseignent', 'paient', 'rassurez', 'apprennent', 'corrigés', 'persuadées', 'fichu', 'inversés', 'organisé', 'dénoncé', 'écrins', 'precision', 'velours', 'achemine', '1h15', '2h30', 'merciiiii', 'incitent', 'herbe', '2546216', '2606616', '51', 'plaindrais', 'container', '7/12', 'aranque', 'propulseur', 'illogique', 'limité', 'coffrets', 'grès', 'parceque', \"l'efficacité\", 'lacroix', 'inchina', 'horloger', 'interdite', 'remboursement.cordialement', 'électroménager', 'tonnelle', 'parasol', 'habitats', 'améliorés', 'composée', 'livrera', 'abusifs', 'tulle', 'analyser', 'performances', 'avertis', 'modifiée', 'exprimer', 'maintenus', 'cave', 'fromage', 'grillage', '5euros', 'lerci', '8/', '12/2022', 'définitif', 'wouah', 'jumeaux', 'lâcher', '10zene', 'pesais', \"t'en\", 'descendre', 'entenne', 'justice', 'assurances', 'conséquente', '912euro', 'pleurer', 'cetais', 'encouragé', \"l'abîmer\", 'cinfirme', 'diamant', 'atterris', 'spams', 'apercevoir', 'devis', 'participe', 'sortie', '480', 'fixées', 'fragilisé', 'goodie', 'compensé', 'frère', 'relève', 'puzzle', 'voisine', 'alforville', 'véhicule', 'ressenti', '7,55', 'tourmaline', 'toc', 'résine', 'mecontenteen', 'anciens', 'allé', 'scannée', 'reçut', 'soit-disant', \"d'aussi\", 'shein', 'compréhensive', 'découd', 'garantissent', 'unxl', 'sourd', 'talon', 'déboîté', 'exposer', 'reprendrez', 'indiquees', 'apparence', 'desciptif', 'deçus', 'plutot', '6euros', 'chausser', 'callé', 'trimbale', 'longuet', 'pick-up', 'parking', 'nuit', 'publicités', 'remboursment', 'nulissime', 'précieuses', 'serpe', 'vérifiez', 'patie', '56', '54', 'baguier', 'fotos', 'drôle', 'roger', 'rallongé', \"s'éclate\", 'substitution', 'orleu', 'fai', '👌🏽', 'chouette', 'faîte', 'mène', 'conneries', '30e', 'hein', \"puisqu'elle\", 'j3', 'calité', '11/12', 'appelez', 'force', \"j'appel\", 'one', 'gu', '400e', 'absolu', 'travaillait', 'disfonctionnelle', 'emmène', \"d'accueil\", 'avisé', 'bonté', 'octroyé', 'evitez', 'gadget', 'ffp', 'crasseux', 'excédée', \"j'ecris\", 'imprimez', 'paierez', 'abasourdie', 'mèches', 'incidence', 'notable', 'attendues', 'rangement', 'espérés', 'médecin', 'description.delai', 'hautain', 'fideles', 'lavance', 'encombres', 'dégriffés', 'recherchais', \"seulm'a\", 'vernie', 'notifiée', \"qu'entre\", 'commz', 'decline', 'capures', 'declinent', '21-11', 'pshiitttt', '40/42', 'fideliser', 'premièrement', 'séries', 'comparer', \"qu'attreyant\", 'pickup', 'poutant', 'senteurs', 'apprenne', 'veleda', 'recharges', '5jours', 'ors', 'recues', 'palette', 'far', 'paupières', 'peppa', 'pig', 'mi-décembre', 'wisky', 'désirée', 'small', 'taillexxl', 'recyclés', 'carré', 'flashé', 'chewing-gums', 'aérienne', 'embarquer', 'anoncés', \"d'indications\", 'only', 'precautions', 'fontionnement', 'vente-privee', 'showroomvente', 'dégradant', 'manoukian', 'remercié', 'rechercherais', '2733481', 'insigne', 'réfléchis', \"m'envoye\", '9,90', 'éclatées', 'élastique', 'possiblement', 'wok', '2/12', 'rescotché', 'reserve', 'renseignement', 'antipathique', 'chewing', 'gum', 'déplacement', 'apportés', 'exposés', 'imposer', 'cahier', 'charges', 'realise', 'cis', 'préparé', '11.11', 'star', 'wars', 'coutent', '4-6', \"s'adressent\", 'apparaissaient', 'mentionne', '925/00', 'plaqués', '03/12', 'gaine', 'satsfaite', 'kaporal', 'acheminé', '::', \"levi's\", 'flagrant', 't34', 'démesuré', 'signifie', 'defauts', 'cloquée', 'kookaï', 'problemes', 'speakers', 'elesse', 'tracer', \"l'était\", 'minaudière', \"l'offrais\", \"s'était\", 'défoulé', 'latifa', 'makhtour', 'sortes', 'empêche', 'filmée', 'régulières', 'souscrivez', 'gagnant', 'empathie', 'gestes', 'expédient', 'enroulés', 'vidée', 'précaution', 'enchantee', 'guirlande', 'recommenderais', 'délivrée', 'parapluie', \"d'heureux\", 'parapluies', 'éventuellement', 'énormes', 'mi-novembre', \"m'annonçant\", 'démerdez-vous', 'désabonner', 'anthracite', 'queleque', 'suivez', 'fu', 'renseigne', 'fournisse', 'anarque', 'stupide', \"puisqu'on\", 'reexpliquer', '31/12', 'admets', 'prolonger', 'estimant', 'pousser', 'verrais', 'radio', 'finis', '02/12', 'prochainement', 'étaler', '73', 'opte', \"m'occasionnez\", 'ba', 'évaluer', 'cédai', 'exige', 'obligatoire', 'clop', 'command', 'satisfaisay', '58,79', '39,79', 'vole', 'supprimée', 'versée', \"d'exposition\", 'grenouillère', 'collaboratrice', 'comforme', 'obtenue', 'microscopiques', 'ébréchée', 'bords', 'coupants', 'laissait', 'supposer', '12-13', '22/12', '2727330', 'colis.il', 'sie', 'kevaa', '6jk', 'pépins', 'hygiène', 'tbs', 'indicatif', 'constitué', 'decousus', 'faculté', 'payement', 'traineau', 'articlesous', 'rallongée', 'eastpak', \"l'urgence\", 'eram', 'collés', 'chapeau', 'présentent', 'paraissent', 'magnifikkkkk', '65', 'articler', 'minelli', 'débuts', 'mollets', 'joies', 'inattendus', 'décourager', 'disparus', 'renommée', 'lotto', '3et4ans', '1pyjama', 'débordé', 'dorée', 'argentée', 'livra', 'zoomee', 'blister', 'zag', 'embaument', 'trotteuse', 'arrêt', '2,5', 'm2', 'exploit', 'japprecie', 'contenance', 'litres', 'dîmensionnel', 'achetes', \"d'apprécier\", \"l'ayant\", 'nuls', 'menace', 'égalité', 'inquiété', 'vas', 'l217', 'touch', 'tactile', '230', 'moule', 'ponctuels', 'polis', 'incluses', 'aisée', 'ls', 'mini.je', 'ecourter', ':/', \"l'extérieur\", \"j'imagine\", 'chocs', '😬', 'tarde', '😣', 'appliqué', 'remplissage', \"d'œil\", 'complètements', 'décousues', 'défont', '@showroomprivehr', '@showroomprivefr', '216', '200,78', 'davoir', 'mdrrr', 'honteuuuux', 'btw', 'partagée', 'utilisateurs', 'soucier', 'donneur', \"d'ordre\", 'alignés', 'quesi', 'achetait', 'ameliorer.le', 'verifier', 'adorable', 'porcelaine', 'respectueuse', 'vends', 'mouillés', 'arracher', 'foufou', '2,3', \"p'tite\", 'macif', 'poil', '2/5', '2.99', 'fassent', 'stage', 'decathlon', 'merciiiiiiii', 'indiquee', 'désigné', 'débiter', 'mettait', 'décommande', 'refermé', 'déboursé', 'puzzles', 'livraidon', 'assortiment', 'gourmands', \"l'accoutumée\", 'repetition', 'commande.recu', '. ...', '29/11', 'expose', 'recto-verso', 'rigolant', 'pistolet', 'nerf', 'étonnement', '29/10', \"l'interlocuteur\", 'rétraction', 'otage', 'domange', 'dosage', 'verse', 'louche', 'vif', 'italie', 'délias', 'touiller', \"d'idées\", '43', 'bats', 'ironie', 'perroquet', 'servait', 'comprenne', 'sponsorisent', 'débutent', 'dje', 'traçabilité', 'showrromprivé', 'prépayées', 'ar', 'reverrez', \"l'essayer\", 'défavorable', 'creme', '34,50', 'parapharmacie', '33.89', 'satifait', 'lamentatble', 'emboîtent', 'schowroomprive', 'présentables', '35j', '30kg', '1.8', 'taxi', 'stade', '😅', '375', 'anonyme', 'placé', '580', 'bénéficierait', 'rajout', 'validee', 'norway', 'événement', 'recoller', 'fines', 'transparentes', 'centrale', 'polystyrène', 'aéroport', 'espéré', 'anti', 'by', 'colette', 'pareils', 'sur-boîte', 'ira', 'attete', 'consommé', 'rapprochez', 'bornent', 'formation', 'préférez', 'sobre', 'douceur', \"l'imaginais\", 'copieusement', 'futur', 'calamiteux', 'clinique', 'barbie', 'sp', '52,99', '46,90', 'chargement', 'quaité', 'plastic', 'auraient', 'dust-bag', 'born', 'the', 'alps', 'designed', 'synthétique', 'fermetures', 'parkas', 'principale', 'unanime', 'referai', \"c'estcla\", '4/12', 'remarquable', 'relevé', 'fonctionnalité', 'lisibilité', 'inappropriée', 'bl', 'aspect', 'toaster', 'chemisiers', '5,6', 'attentes.livraison', 'confome', 'ef', \"m'annonçait\", 'idéale', 'permettait', \"d'optimiser\", 'traversin', 'déteint', 'chimique', 'hotline', 'dammann', 'tableau', 'peint', 'détérioré', 'miracle', 'perforée', '574', 'doublé', 'languette', 'avant-hier', 'vendredi.tout', 'sure', 'dérouté', 'descriptive', 'transparents', 'imaginais', 'stresse', 'présentant', 'progressivement', 'progéniture', 'moult', \"m'affirme\", 'onéreuses', 'octroie', '2-3', 'offrirais', 'gratuité', 'avantageuse', 'authentique', 'supermarchés', 'finalité', 'bases', 'pourcentages', 'récents', 'coûtaient', 'cruellement', 'prêt-à-porter', 'pousse', 'commandons', 'devrions', 'assiettescassées', 'orienter', 'précédant', '11,90', 'dc', '11,30', '5,40', 'mm', 'vendrais', 'exhaustif', 'catégorique', \"l'idéal\", 'régle', 'dépendant', 'glissé', 'boire', 'forcer', 'fessiez', 'carnet', 'difficiles', 'orientation', '23/11', 'relais.en', 'station', 'essence', '7j', 'interruption.maintenant', 'attende', 'cadeau.dans', 'bic', 'blasé', 'arnaqueurs', 'centaine', 'nacheter', 'reprennent', 'helene', 'décollement', 'utilisez', 'cgv', 'plaindre', 'dignes', 'veillez', 'procéderons', 'parviendra', 'mobile', 'cliquer', 'volonte', '2721564', '05vente', 'bombesbonjour', 'dossier.je', 'éditerai', 'charge.dans', '29,6', '23,1', 'boycotter', 'undiz', \"m'envoient\", '4,79', \"qu'ici\", \"qu'attendez-vous\", \"t'as\", \"d'hypocrites\", 'expresse', 'coûtera', 'absolument.le', 'veeppee', 'pensée', 'gave', '24/11', 'sempiternelle', 'rengaine', 'réagis', 'défendre', 'abusif', 'effilochée', 'laxiste', 'réacheminer', 'entrepôt', 'actes', 'détruisent', \"l'empreinte\", 'apellez', 'consolation', 'suffisante', 'couvrir', \"d'essence\", '800', 'historique', 'promenaient', 'preintemps', 'devenir', 'office', 'évoquée', 'marin', 'sélections', 'estampillés', 'totalite', 'gérés', \"charm's\", 'contraint', 'mantes-la-jolie', 'luvraison', 'série', 'camaieu', 'suites', \"d'étiquetage\", 'ouvrent', 'prix.bravo', 'remps', 'collaborateur', '17-11', 'manquerai', 'entourage', 'enregistrées', '19,99', 'vendues', 'satisfaite.pour', 'septique', 'heritor', 'madie', 'oreal', 'tbe', \"m'annoncer\", \"d'homologation\", 'biolane', \"d'offrir\", 'ustensiles', 'défoncées', 'attratif', 'aigle', \"n'envoie\", 'épaisse', \"n'aime\", 'foulard', 'gardent', \"l'ordre\", 'gérante', 'exécution', 'classés', 'croissant-décroissant', 'catalogue', 'poudre', \"d'immobilisation\", 'chausses', 'balles', 'employé', '23/10', 'senkys.com', 'acceptait', 'innactif', 'précisent', 'clientatshopcommerce.com', 'naturellement', 'indépendante', 'gaspillé', 'surtaxé', 'cautionner', 'qualifie', 'bassement', 'voyous', 'lésé', 'manifestement', 'scrupuleux', 'malveillant', 'durement', 'gagnés', 'arnarque', 'douteux', 'râler', 'retouches', 'cobalt', 'dorés', 'laiton', 'bronze', 'perdent', 'récurrente', 'ombre', 'dépareillés', \"l'en\", 'cordiales', 'incompréhensible', 'gars', 'moisn', 'trente', 'reproduira', 'allers-retours', 'distant', 'goulot', 'benetton', 'retiens', 'convenablement', 'akribos', 'automatique', '10min', 'arrêté', 'explicatif', 'puis-je', 'mmon', 'trier', 'lonnnnnngue', 'découdre', 'retoucher', 'manqunats', 'franke', 'eut', 'bazarchic', 'zalondo', 'poste.colis', 'expirée', \"j'adorais\", 'batailler', 'distributeur', '0,00', 'externe', 'taudis', 'changera', 'pas.bravo', 'prevues', 'gardien', 'immeuble', 'suggère', \"l'instauration\", \"d'évaluer\", 'partenariat', 'conservent', 'maj', '16/11', 'poster', 'citerai', \"qu'ai\", 'parisienne', 'moquer', 'dechire', 'mari.celui', 'mois.pas', \"l'essayage\", 'procure', \"d'avantages\", 'gel', \"n'utiliserais\", \"m'impute\", 'gagné', 'jamaie', 'doublée', 'bonus', 'insatisfaction', 'emmêlé', \"s'entraine\", \"n'espérer\", 'gachi', 'côme', 'pertinents', 'passible', 'poursuite', 'exécrable', 'berné', 'kinder', 'pipo', 'stickers', 'cardigan', 'avérait', 'particulière', 'profitable', 'rassurer', 'rigoureuse', 'répandu', 'anses', 'physiques', 'cdiscount', 'brassiere', 'brasserie', 'dépendante', 'ck', 'revêtement', 'mat', 'éveille', 'excède', 'identifiée', 'photocopie', 'illisible', 'suédoise', 'zapa', 'amerement', 'jattendais', 'fameuux', 'commnade', 'expedie', 'tardif', \"t'attente\", 'record', 'ladite', 'restées', 'considérable', 'stériles', 'bateaux', 'copiées', 'dérisoire', '1750', 'couvrent', 'gonflable', \"d'appoint\", 'cerise', 'gâteau', \"l'expression\", '09/11', 'trouvons', 'priverai', \"l'ont\", \"l'uniformité\", 'nebuk', 'sortent', 'couper', 'differents.mon', 'pote', 'different', '969,90', '839,90', 'écouler', \"d'écologie\", 'tire', 'bordeau', 'testées', 'bosse', 'cafés', 'senseo', 'précisées', 'transporté', \"d'infos\", 'naïvement', 'édition', 'modifications', 'lecture', 'pop-up', 'connexion', 'sentiment', '3/11', 'xx', 'yy', 'grrrrr', 'fiais', 'mauve', \"m'orienter\", 'faudrai', 'reçoivent', '5e', 'conformes.bref', 'commerciaux', 'plateau', '10mn', \"d'assise\", 'lenvoi', 'mécontents', 'contactons', 'comprenons', 'librement', 'déterminés', 'rediriger', 'maxoutil', 'observer', 'renforcé', 'empêché', 'interieur', \"qu'annoncé\", \"d'zi\", \"l'attendais\", 'places', 'garçons', 'hifilnger', 'descriptif.rien', 'ajouté', 'amabilité', 'employée', 'regretter', 'parcontre', '31.10', 'partis', 'oreillers', 'coulisse', 'so', 'glam', 'antipathiques', 'irrespectueuses', 'commencé', 'ferment', 'penche', 'percés', 'ébauchés', 'vidéo', 'youtube', 'contour', 'abat-jour', 'installation', 'férié', 'adhérents', 'tenterais', 'ados', 'exagération', 'aiment', 'parvenus', 'artice', \"s'occupaient\", 'pré-remplies', 'pâle', 'renseignez', 'parrain', 'mataa', '986', 'grandeur', '2710234', 'fuites', 'case', 'empaquetés', 'éponge', 'craquelée', 'shworoom', 'saute', 'emboitent', 'dé-solidariser', 'médaillon', 'exacte.articles', 'bocal', 'bonbonnière', 'redskins', 'conduit', 'pète', 'visage', 'rouillée', 'spécifiés', 'meuble.top', \"s'associe\", 'biotyfull', 'commission', '1/10', '15/10', 'petits.il', 'quarantaine', \"l'extase\", 'incroyablement', 'basses', 'amies', 'bêtement', 'soigneux', '2/10', 'template', 'gagneriez', 'crédibilité', 'pertinemment', 'revendez', 'densité', 'duperie', 'caractérisées', 'problèmesatisfaction', 'condition', 'ko', 'optimisation', '2.40', '2.20', 'pagode', 'imbecile', 'œuvres', 'caritatives', 'compagnon', 'quoique', 'yoma', 'fournies', 'gribouillis', 'inexploitables', 'pif', 'essayons', 'sagement', 'veuille', 'accessoirement', 'plateaux', 'totalilité', 'contrariant', 'cout', 'bloques', 'frédéric', 'pou', 'rapprocher', 'écoutent', 'réciter', 'script', 'avancées', 'devions', '11/10', \"m'appellent\", 'reportent', 'rapidement.pas', 'ratio', 'prévisions', 'devred', 'cms', 'croisé', 'réticences', '2j', 'favoris', \"d'avertissement\", '(=', 'quartier', 'sec', 'pousseur', 'servis', 'mail.que', 'mentionnée', 'figurant', 'étuis', 'mini-maison', 'convives', 'legere', '2nde', 'night', 'assemblage', 'démonter', 'k', 'pred', 'contenir', 'chronoposr', 'sent', 'voule', 'justifications', 'causes', 'désintérêt', 'croissant', '3-4', 'taillle.je', 'textile', 'damart', 'tanneur', 'avant.encore', 'jpir', 'bsr', 'moche', 'renoncé', '🎅', 'botines', '🙃', \"s'attendait\", 'annee', 'dam', 'smartwatch', '69', 'usure', 'justifie', 'locaux', 'argents', 'achetè', 'pointent', 'limite.en', 'régale', 'cuisiner', 'déguster', 'médiocrité', 'daigner', 'etlivrée', \"d'échéance\", 'daniel', 'wellington', '47', 'vieille', 'compenser', 'incessants', 'piste', 'chasse', 'trésors', 'décliner', 'bétail', 'report', 'performante', \"l'ouvrir\", 'éprouver', 'contrariété', 'brun', 'complications', \"l'intitulé\", 'reçoie', 'destinataires', '4.50', 'hélène', 'vienne', 'tarder', \"l'oreille\", 'soudure', 'suivants', '8,40', 'faussées', 'ingenio', 'qté', 'prendrai', 'wook', 'réétirer', 'empaqueté', 'chiens', 'extérieures', 'asie', 'avérés', '2,50', 'intéresser', 'réguliers', 'frustrant', '10-12', '14-17', '16:30', 'chefs', \"m'acheter\", '13.3', 'encaissait', 'insultants', \"d'août\", 'transpercee', 'caillou', 'douter', 'discuter', 'exigeants', 'étendage', 'moindres', 'amovible', 'contactés', 'équivaut', 'classé', '18.60', 'rogey', 'guillaume', 'trai', 'deuxieme', 'achetons', 'réservez', 'zen', 'contentieuse', 'ignorants', 'sturhling', 'connaitre', 'osez', 'champs', 'paierai', 'afficher', 'attentes.parfait', 'replié', 'fermoirs', 'monte', 'accueillant', 'souriant', 'coeur', 'servant', 'attacher', 'le.bouton', 'plut', 'canadien', 'ravissante', 'menacer', 'allures', '8h30', \"d'intervalle\", 'safran', 'solidité', 'bcq', 'honnete', 'satifaite', 'deroulé', 'beneficiez', 'frênait', 'showroomptive.com', 'excellentes', 'àl', '\\U0001faf6🏻', 'commande.le', 'prélevez', 'édit', 'résigner', 'réducteur', '12,88', 'menti', 'transmette', 'fatigue', 'lâcherai', 'maquillage', \"d'élégance\", 'convenus', 'reclamation', 'sermonné', '589', 'fastidieuse', 'fastidieux', 'ravissants', 'gras', 'uvert', 'fasses', 'scellé', 'penses', 'ours', 'entailles', 'chaparder', 'comporter', 'canon', 'ice', 'électriques', 'contenaient', 'procurer', 'ruiner', 'membre', 'reconduire', 'convaincue', \"l'errrur\", 'raton', 'laveur', '10.99', '11.90', 'recommencé', 'misère', 'euivanlent', 'délia', 'restais', 'périmé', 'rafraîchi', 'sil', 'mensonges', 'milliers', 'chiffres', \"d'affichaire\", 'volume', 'référençant', 'italienne', 'italien', 'rinascimento', 'hôtesse', 'techwood', 'volumineuse', 'apparaît', 'ad', '23/09', 'poirauter', 'justification', 'théoriquement', 'immobilisé', 'nettoyeur', 'k5', 'smart', 'control', '349,99', 'castotama', '499', 'michel', 'effectuera', 'débit', 'abonné', 'etage', 'ascenseur', 'venez', 'soudures', 'rayons', 'jevais', 'compllcations', 'lés', 'accompagnée', \"d'échantillons\", 'souc', '3colis', 'alliances', 'supposées', 'senties', 'diamants', \"l'épaisseur\", 'fallais', 'retenir', \"d'échanges\", 'trèscontente', 'tajine', 'restriction', 'distribution', 'chaleur', 'aptès', '675euros', 'cm2', 'véritables', 'chiffons', 'compresses', 'gaze', 'passion', \"qu'auparavant\", 'décrits', 'remplace', '1/2', 'assurez', 'gratuites', 'planche', 'signalez', 'brève', 'remets', '17/9', \"s'agirait\", \"m'informe\", 'mi-septembre', \"l'enquête\", 'idiots', 'renouvelerai', 'gelée', 'royale', 'donnes', 'déplu', \"n'arrivais\", \"m'organiser\", 'alternatives', 'goublaire', \"l'invité\", 'japhy', 'profil', 'animal', \"j'accepte\", 'croquettes', 'barquettes', 'mensualité', 'reconduction', 'téléphoniquement', 'sentez', 'piège', 'caché', \"l'immédiat\", 'reedition', 'reconditionneur', 'hightech', 'actuel', 'référencé', 'agissant', 'majorent', 'livraisonmoule', 'muffin', 'traverser', 'détaché', 'fracasse', 'décors', 'parquet', 'engendré', \"j'invoque\", 'desirer', 'metz', 'tessy', 'sillingy', \"l'essence\", 'amorti', 'ommande', 'gogo', 'localiser', 'fonctionnera', 'dépensez', 'culinaire', 'sogo', 'dégagée', 'connait', 'rebelote', 'deception.commande', 'recuperation', 'japprends', 'quil', 'manquera', 'jattends', 'desagrement.car', 'proportionnelle', 'divertifié', 'simplifier', 'complétement', 'défoncer', 'payment', 'marchande', 'préoccupe', 'aprés', 'mensongére', 'manquant.commade', '05/10', 'prevenue', 'avant.et', 'mème', 'descritptions', 'succintes', 'laine', 'vestimentaires', 'fraisa', 'généralité', 'roget', 'seras', 'partager', 'connection', 'ordi', 'pliée', 'chiffonné', 'showromm', 'contrefaite', 'replica', 'triple', 'aaa', 'fakes', 'insultant', \"l'enfer\", 'uncautre', 'jr', 'giraffe', 'bascule', 'dea', \"l'attend\", 'bénéfices', 'fructifier', 'entend', 'mendier', 'arriérés', 'craignais', 'débiles', 'sns', 'stefanel', 'grrr', 'allions', 'échanger', 'vomir', 'ballade', \"m'appeler\", 'montée', 'tenait', 'visseuse', 'surtt', '06/10', '25euros', \"l'avez\", 'validez', 'quid', 'lies', 'malgres', 'adhesion', 'caisse', 'accompagnant', 'dues', 'turnover', 'rater', 'kiabi', 'buchelay', 'venue', 'fructifiez', 'coudre', \"d'accessoire\", \"d'accessoires\", 'feutre', 'attendrais', 'temps.dommage', 'schenker', '13h', 'écrivent', 'rendus', '6,90', '3,90', \"j'hésiterai\", 'chaussent', 'bensimon', 'remisée', 'à-t-il', 'gentille', 'recoit', 'ultra-rapide', 'prives', 'cote', 'infiniment', 'ponctualité', 'ludique', 'prélèvements', 'abrite', 'techniques', 'fp', 'banquier', 'mettable', '28.09', 'fixation', 'presser', 'suivante', 'ups', '90e', 'beiges', 'chacune', 'ronde', '5c', 'raccrochent', 'rechercher', 'réclamé', 'affirmant', 'véhémente', 'insistante', 'dignité', 'vexatoire', '18/08', 'internes', 'paramétrages', 'hypothèse', 'prestataires', \"l'assumer\", 'imputé', 'rar', 'mediateur', 'fédération', \"l'amiable\", 'judiciaire', 'civil', 'nécessaires', 'dédommagements', 'moraux', 'loyauté', 'vexation', 'pénal', 'qualifiée', 'délits', 'conforté', 'témoignages', 'forum', 'situations', 'scrupuleuses', 'délictueuses', \"d'ores\", 'huitaine', 'info-conso.gouv', 'actions', 'urgentes', 'vigoureuses', 'diligentées', 'bugs', 'incohérences', 'm.mobile', 'disent-ils', 'équitable', 'loyal', ';)', 'directes', 'génère', 'altitudes', 'employés', 'génériques', 'respectueuses', 'vit', 'hypothétique', 'investisse', 'ternir', 'devra', 'équivaudra', 'guérir', 'douloureuse', '105euros', 'ressemblance', '18/09', 'bibi', 'lola', 'cruz', 'parlant', 'reprenait', 'spécifications', \"l'échelle\", 'tord', 'engagés', \"puisqu'ils\", 'forcé', 'subir', \"m'assurer\", 'désinstaller', 'lin', 'essayée', 'ctd', 'reconditionnée', 'bocaux', 'excelsa', 'trinacria', 'inégales', \"d'abonnement\", 'réduire', 'tr7s', 'stipulé', 'arti', 'efficacement', 'cosmoparis', 'alentours', '20/09', \"s'occupe\", 'châssis', 'croyez', 'tapez', 'pverrez', 'rajoutés', 'due.ces', \"n'existaient\", 'vôtre', 'budgets', 'legerement', 'fréquente', 'brade', \"m'intéressait\", 'approvisionnements', \"puisqu'au\", 'liliane', 'chaleb', '2é', \"n'ouvrez\", '140x190', '140x200', 'inadaptée', 'désinscrite', 'panne', 'm.obstine', 'showroomprivees', 'liserés', 'maintenue', 'aidant', \"s'améliorer\", 'armature', 'fonctionner', '2249007', '98', 'inciterait', 'aprés-vente', 'pénalise', 'peix', 'larticle', 'confiante', 'opératrice', 'poid', 'rédiger', 'qud', 'id', \"d'heure\", 'corrrectent', 'ressemblait', 'https://u21017604', 'n.avais', '21/09', 'contentement', \"d'orthographe\", 'loisirs', 'inférieurs', 'côt', 'effilochee', \"d'enseignes\", 'précisée', 'q', 'etaient', '16/09', 'scandinaves', '50,51', 'apprends', 'format', 'rouler', 'jonak', 'faisiez', 'inquiete', 'particuliement', 'stressée', 'dois-je', \"l'utilise\", 'peuvent-ils', 'invoquée', 'stock.sachant', 'infraction', 'législation', \"m'apercois\", 'défaire', 'machines', 'négocier', 'taris', 'transports', 'mystère', \"l'honnêteté\", 'attendrez', \"d'estimée\", 'agrèable', 'présumé', '4,99', 'sarenza', 'redoute', 'irai', 'concernés', 'vire', 'coûteuse', 'exiger', 'chauffe', 'arts', 'restaurant', 'auras', 'circonference', 'jonc', 'mi-août', 'agaçant', \"m'encombre\", '😟', 'freiné', 'incompetent', 'canada', \"m'entendre\", 'habitons', 'province', 'tour-opérateur', 'voyamar', 'mensuellement', 'battre', 'comptes', 'révoltant', 'machinalement', 'nife', 'tina', 'fatigué', '4j', 'imprécise', '0.7', 'x0', '7x20', 'pourriez', 'dégât', '2e49', 'factures', 'informatiquement', 'conviennes', 'excellence', 'envieux', 'gâte', \"n'existiez\", 'inventer', 'synonyme', 'emails', 'possibilite', 'interdit', 'punissable', 'surdimensionné', 'scier', '1cm', 'réussir', 'facto', 'eronnés', 'diligentée', '😒', 'usée', 'adjointes', 'asiatiques', 'logue', 'geul', 'teeshirte', 'calmer', 'irais', 'consentit', 'vitry', 'seine', '94', \"n'étais\", 'brides', 'raconté', 'bouger', \"l'envie\", '149', '639,99', 'agence', 'marne', 'vallée', 'foutisme', 'donnez', 'emballes', 'excepté', 'communiqués', 'dorothy', 'perkins', 'bermuda', '23h', 'champion', 'immettable', 'étroit', 'restants', 'notifié', '10h00', '18h', \"qu'est\", 'canette', '🍺', '1664', 'certe', 'alcool', 'causer', \"m'emporter\", 'aspi', 'invisible', 'lon', 'orocede', \"l'ecoute\", 'accident', 'harceler', 'cets', \"d'écrans\", 'cordialité', 'barres', 'convenables', 'chevet', 'réguler', 'gré', 'chauffeur', 'balancé', 'temp', 'remerciement', 'nick', 'tâchés', 'rouillés', \"s'écrit\", 'telles', 'commandent', 'cible', 'déçues', 'négativement', 'economique', 'gérées', 'lamentablement', 'env', 'cheminement', '08/09', 'pleurant', 'détresse', 'dormais', 'décliné', 'générosité', 'ventilateurs', 'généreux', 'grossières', '10km', 'deans', 'émets', \"d'ancien\", 'moitier', 'opticien', 'aviser', 'indulgence', 'piur', 'longe', 'remisés', 'excelent', 'appréciations', '3,5', 'tardives', 'deuxièmement', 'redondance', 'promenade', 'concertation', 'ergonomie', 'premium', 'infliger', \"d'octroi\", 'brandalley', 'nommer', 'mment', 'créés', 'références', 'introuvables', 'appartenant', 'intérimaires', 'adorables', 'dubitative', 'sorter', 'conseillères', 'apparaitre', '210', 'jetés', 'description.livraison', 'leftie', '2fois', 'rentrerait', 'sécurisation', 'renfort', 'light', 'satisfaitede', 'tros', 'close', 'mayenne', 'yes', 'chowroomprive', 'chowroom', 'ternies', 'degrés', 'parties', 'sorties', '75e', '27e', 'arbre', 'figure', 'arvenue', 'copines', 'réexpédier', 'ennuyeuse', 'flash-code', 'sauvé', 'marie', 'véhiculée', 'voie', 'autocollants', 'relief', 'nager', 'affichait', 'u0954l1', \"l'utilisation\", '15h', \"m'indiquer\", 'raccroche', \"m'appelle\", 'armatures', 'patron', 'point-relais', 'réceptions', 'fontaines', 'boissons', 'préférable', 'laissiez', \"d'imposer\", 'classes', 'abstenir', 'shoxroomprive', \"d'intervalles\", 'vexant', \"m'étais\", 'manifestée', 'privee', '3x', 'blazer', 'archaïque', 'intuitif', 'recomande', 'coulissante', \"l'armoire\", 'favorites', 'repères', 'équipes', '7.99', '6.99', '6.49', 'parlons', '3,50', '6,49', '5,50', 'privilège', 'á', 'thermos', \"l'aurais\", ';d', 'bourses.si', 'développer', 'intégrer', 'leger', 'showromprivé', 'ayez', 'fossil', 'showroimprive', 'vans', 'laborieuse', 'standards', 'évoluer', \"n'achèterai\", 'ddp', \"s'occuper\", 'nihad', 'modulable', '1/5', 'avérées', 'catastrophiques', 'cap', 'agediss', 'occupés', 'focalisez', 'diversifiées', 'vogue', 'escessifs', '16,95', 'créez', \"l'inégalité\", 'vaisselles', 'vien', 'traitements', 'auchan', 'dardilly', \"d'eux\", 'espérons', 'failles', 'repaye', 'fixant', 'apparaissait', \"l'hôtesse\", 'sont-ils', 'loupés', 'rapiécées', 'ajout', 'confiture', 'constatez', 'sweats', 'pelucheuse', 'gonfler', 'loupées', \"d'indication\", 'manequin', 'acheteurs', 'élévés', '8,50', 'placard', 'attire', 'chèque', 'dirais', 'apparaissent', 'tempq', 'fret', 'polynésie', 'ajoutée', 'éprouvée', 'trainer', 'hésitez', 'insatisfaisante', 'rectification', 'revenu', 'adaptée', 'accorde', \"m'empêche\", 'internautes', '2300', 'activités', 'louper', 'visite', 'studios', 'concert', 'iberia', 'croisière', 'tamise', \"l'aéroport\", \"d'arrivée\", \"m'assure\", \"m'assurent\", \"l'accès\", 'agences', 'leçon', \"l'oublier\", 'ci-dessous', \"d'exception\", 'irresponsable', '730', 'cannelure', 'film', 'semi-transparent', 'therme', 'amène', 'maillots', 'violet', 'contions', '01/08', '24/08', '25/08', 'rembousement', 'phrases', \"j'appelais\", '2648110', 'suivit', 'error', 'revoyer', '01.85', '76.00', '00', 'lavenu', 'maryse', \"n'éclairent\", 'chuté', 'oliviers', 'fesses', 'osagbovo', 'renouvelées', 'entrain', 'arriverai', 'veepee.merci', 'favorite', 'regarderais', 'courses', 'indiquiez', \"l'ancien\", 'chaumeron', 'défiants', '💗', 'variable', 'respecé', 'desagreablement', \"l'option\", 'affranchissement', 'défalquez', 'certaine.somme', 'bont', 'favori', 'collaborons', \"l'original\", 'surpris', 'continuons', 'delicat', 'colis.quand', 'disproportionné', 'evaluation', 'fête', 'mères', 'déchèterie', 'logement', 'posent', \"d'imprimante\", \"d'avancevec\", \"n'apporte\", 'démunie', '3wc', '900', 'jambes', 'satesfait', 'ory', 'commnde', 'showcomprive', \"d'insatisfaction\", 'manifesté', '19/5', 'révèle', 'défectuosité', '28/6', 'domage', 'streetfly', 'ras-le-bol', '😫', 'emblèe', 'reductions', \"l'ex\", 'renseigné', 'arena', 'intensif', 'décu', 'rein', 'rubi', 'domicile.les', 'gratuite.et', 'colis.au', 'désillusions', 'déposait', \"d'appareils\", 'menagers', 'subis', 'surement', 'prepare', 'abimes', \"d'insistence\", 'percer', 'caddy', 'entretiens', 'inscrits', 'rapporte', '12e', 'dons', 'ourtel', 'cuillères', 'mi-juin', 'rélais', 'etant', 'satisfaires', \"t'envoie\", 'lieux', 'inversions', 'relationnel', 'exceptionnels', 'rapidement.je', 'encourager', 'site.je', 'vacance', 'biaie', \"l'existence\", 'euphrasie', 'deterioree', 'attentive', 'maerci', 'amortis', 'incrimine', 'supportés', 'incalculable', 'renvoyais', 'simultanément', 'impatiente', 'déroulent', 'opéré', 'faillit', 'inquiète', 'inquiétude', 'marseille', '3h', 'routes', 'pomme', 'montpellier', 'redescendre', '62', '$', '7h', 'rangs', 'prépare', 'reconstituée', 'restes', 'reflétait', 'spécialisés', 'établissement', 'digne', 'cantine', 'étage', 'délivraient', 'proleme', 'vacances.on', 'receptionner', 'compliments', 'gardienne', 'développé', 'nouveautés', 'site.merci', 'chausurrs', 'fitfloop', 'abimée', 'justifient', 'degrade', 'récompensée', 'parrainages', 'individuels', 'bienvenus', 'filtrer', 'mules', 'fitfop', 'malgrés', 'temps.je', 'etje', 'aveuglément', 'répétitive', 'formalités', 'tirer', 'showroomromprive', 'correct.mais', 'gueule', 'soumis', 'contraintes', 'pays', 'détestable', 'maisons', 'formulaires', 'mettiez', 'grouper', 'froisser', 'froissent', 'froisse', 'mignons', 'perde', '2615199', 'abonne', 'eue', 'commise', 'pousserait', 'lb', 'jms', 'complets', '1m75', 'extraordinaire', 'voishowroomprivé', 'ponctalité', 'vaste', 'maintes', 'arrivaient', 'semblez', 'serrées', 'désirais', 'anniversaires', 'marques.prix', \"d'an\", 'comée', 'loquet', 'plaint', \"n'hésite\", 'déçois', 'partage', 'efforcé', 'souhaitée', \"l'avoue\", 'desuite', \"s'améliore\", 'catégorie', 'shorty', 'mémère', 'hardyregine', 'cobtinurai', 'soulèverais', 'maus', 'référer', 'évoluée', 'deplore', 'doms', 'voyons', 'assurés', '19e', 'sest', 'soulignerais', 'éloignés', 'languis', 'bien.ras', '🌟', '✨', 'unes', 'prudente', 'jocelyne', 'indice', 'manip', '👪', 'modes', \"d'emplois\", 'ose', 'shwroomprive', 'étrangement', \"l'anti\", \"j'essaye\", \"d'acheterl\", 'super.tres', 'revlon', 'récurrence', 'messagerie', 'entre-autre', 'commdé', 'christine', 'décourage', 'desbons', 'quand-même', 'confinement', 'plaisirs', 'dom-tom', 'restreint', 'récompenses', 'prochains', 'paniers', '2/08', 'le30', \"n'ayez\", 'recus', 'conseillerais', 'poserait', 'controle', 'entent', '3en1', 'croque', 'gaufres', 'profesionales', 'importantes', 'indispensable', \"m'étaient\", '1ére', '2éme', 'dechiré', 'poches', 'intérieurs', \"n'achète\", 'présentés', 'showroomprive.fr', '32articles', \"l'equipe\", 'univers', 'succes', 'genialissim', \"l'aller\", 'emmanuel', 'arriveront', 'perfection', 'satisfaite.jamais', 'modernes', 'désole', 'tolérant', 'incompréhensif', \"n'offrez\", 'quémander', 'efface', 'positifs', 'majoritairement', 'remboursées', \"l'outre\", 'tacchini', 'fractionner', '🔥', 'jure', 'chausson', 'lapin', 'di', 'longues.mais', 'révélée', 'expédiion', 'exposé', 'déduction', 'réemballer', 'fidéliser', 'géniaux', 'moyennant', 'annuel', 'disposé', \"n'aboutissait\", 'vidait', 'cinrente', 'étoilles', 'remarquer', 'pépites', 'organisation', '1876', '673', 'prolonge', 'infinité', 'exigence', 'congés', 'nanou', 'envies', 'foudres.tres', 'site.un', 'still', 'désolation', 'antilles', 'gagner', 'ppur', 'ressemblantes', 'incité', 'est-il', 'méritez', 'attribué', 'carole', 'lavable', 'porte-manteau', 'mdf', 'fendu', 'apparentes', 'disgracieuses', 'suffisantes', 'tabouret', 'pliable', \"n'empêchera\", 'wahou', \"s'offrir\", 'craquer', 'largeur', 'prélevés', 'dirige', 'shoromprive', 'aperçus', 'biais', 'flêche', 'freinent', 'lights', 'pendentifs', 'representative', 'affichées', 'équivalences', 'finales', 'rageant', 'vouliez', 'latitude', 'affaites', 'qu.il', 'recontacte', 'relivrée', 'corresponds', 'énnoncé', 'éxagéré', \"l'alignement\", 'zones', 'abc', 'covid', 'sc', 'pépin', 'concept', \"j'suis\", 'tacher', 'appey', 'satisfaisait', 'téléphonez', 'rapidement.il', 'bp', 'parfait.service', 'excellrnt', 'indiquera', 'commendes', 'fréquentes', 'incomplêtes', 'suivantes', 'plaisaient', 'hallucinantes', 'fe', 'retournant', '💛', '🧡', 'réjouit', 'formidables', 'facilitées', 'eventuel', \"d'actualités\", 'eues', 'nouveauté', 'arrangeantes', 'platforme', 'âges', '2634243', '87', 'miles', 'stoppé', 'dise', 'polyvalence', 'nécessite', 'regardées', 'cop.copine', 'retirées', 'pointv', 'espérances', 'variables', 'aventures', 'merveilleux', 'succomber', 'souhaitons', 'herman', 'kikikickz', 'urgence', 'honereux', 'livvraison', 'froissée', 'adéquat', 'ami', 'cracher', 'détour', 'lonnnnggg', 'good', 'lingeries', \"d'étaler\", 'conquise', 'continuera', 'excessive', 'honorées', 'énoncée', 'réalistes', 'ringards', 'vitrine', \"n'echangez\", 'concurants', 'secondes', 'étudiés', \"d'éditer\", '7/10', '14ans', \"d'emblée\", 'inventé', 'quasi-immédiatement', 'causés', 'choqué', 'déclarer', 'impropre', 'outré', 'jour-même', 'courriel', 'réexpédiée', 'complètes', 'inconnu', \"l'actualisation\", 'rappellerait', \"d'ici\", 'émanant', 'substance', 'mènera', 'salariés', 'tenues', 'fournit', \"qu'eux\", 'prenait', 'sélectionnés', 'intention', 'bienvenues', 'regroupés', 'attrayants', 'taillées', 'officielles', '30/06', '9928145439', 'décédée', \"n'avions\", \"d'assurance\", 'pensions', 'produire', 'affecte', 'soyons', 'pénalisés', \"d'heures\", 'malmenés', 'renverrai', 'déçoit', 'aln', 'lof', 'inégale', 'médiocres', 'inexistantes', \"d'hygiène\", 'régaler', 'showrooprivme', 'fous', 'convaincant', '1m80', 'toit', 'merciiii', 'shrowroomprive', 'banques', 'pénalisé', \"l'attends\", 'illimité', 'annualisés', 'poussent', 'prioritairement', 'retenus', 'inverse', 'tronquée', 'tankini', 'épuisée', 'pois', 'posais', 'hérité', 'embêter', 'souvient', 'bustier', 'souligner', 'lait', 'corp', 'clinic', 'reparer', 'modeles', 'diversification', 'imposible', 'sint', 'pieces', 'video', 'piece', 'ressemblent', 'énerve', 'obtiens', 'récompenser', 'ressemblant', 'refroidi', 'importable', 'variees', 'proff', 'outs', 'transation', 'chèques', 'attiré', 'escomptée', \"d'annonce\", 'habitant', 'droits', 'çela', 'incombent', 'verrez', 'impact', 'représentera', 'sentirez', 'récapitulatif', '👎🏻', 'souscris', 'intéresséssant', 'disparaissent', 'brosses', '229,00', 'dap', 'versés', 'bâclés', 'durance', 'imperméabilisé', \"l'automne\", 'variante', 'supportera', \"d'objet\", 'incertain', \"d'obscures\", 'classique', 'regardent', 'aveuglement', 'maille', 'tirée', 'mentionnées', 'sentiments', \"l'ouvre\", 'habimee', 'livrables', 'peut-on', 'diviser', 'bénéficieront', 'hexagone', 'senséo', 'cafouillée', 'mente', 'dédouanement', 'prodier', 'ble', 'hybride', '15/08', '23/08', 'compressé', \"s'aérer\", 'tenus', 'toreilles', 'idiote', 'prétendu', 'mettais', 'jurer', 'prêtent', 'élastiques', 'lâchent', 'internet.je', '20euros.pas', 'content.il', 'estivale', 'stagiaires', 'farmer', 'gruger', 'piteux', 'pbms', 'futurs', 'dangereusement', 'with', 'pauvres', 'campings', 'residences', '45min', 'repart', 'chic', 'dégoter', 'originaux', 'remb', 'sérieuses', 'applicable', 'retirent', 'navrée', 'traitées', 'nvlles', 'longtaine', 'décollée', 'noirci', 'cordialzment', 'inoxydables', \"l'usure\", 'canons', 'salarié', 'commendais', 'retrouner', 'presentation', 'négociation', 'avantager', 'essayent', 'outlets', 'proportionnellement', 'mètres', 'occasionne', 'transmettrai', 'shoroowmprié', 'fractionné', '29.50', 'sacs.pourquoi', 'fractionne', 'fiez', 'détaillées', 'réfléchissez', 'trompée', 'émissions', '08/08', '12/08', 'marchait', 'shorwroomprivé', 'interrompu', 'embêtante', 'i.decision', 'roues', 'tournent', 'désagrège', 'cassent', 'pâté', 'assument', 'rentable', 'trompent', 'preparer', 'persiste', 'posesion', 'conséquences', \"j'allais\", 'articlé', 'mépris', 'proposait', 'reduction', 'mepris', 'passait', 'gogos', \"s'autres\", 'principaux', 'billetterie', 'barré', \"l'internet\", 'entrées', 'caution', 'rentrés', 'oubliez', 'passa', 'sit', 'bour', 'respecteux', 'isolés', 'swiffer', 'nettoyant', 'ménager', 'plie', 'récentes', 'spéciale', \"d'anciennes\", 'respectee', \"qu'aucune\", \"m'ai\", 'oubliés', 'assortir', 'hut', 'surestime', '1-2-', \"don't\", 'ciseaux', \"l'occurrence\", 'suggestion', 'surévaluez', 'contenants', 'automne', 'extérieur', 'conformités', 'haribo', 'belges', 'iban', '2623986']\n"
     ]
    }
   ],
   "source": [
    "print(mots_tries)"
   ]
  }
 ],
 "metadata": {
  "kernelspec": {
   "display_name": "Python 3 (ipykernel)",
   "language": "python",
   "name": "python3"
  },
  "language_info": {
   "codemirror_mode": {
    "name": "ipython",
    "version": 3
   },
   "file_extension": ".py",
   "mimetype": "text/x-python",
   "name": "python",
   "nbconvert_exporter": "python",
   "pygments_lexer": "ipython3",
   "version": "3.7.9"
  }
 },
 "nbformat": 4,
 "nbformat_minor": 5
}
