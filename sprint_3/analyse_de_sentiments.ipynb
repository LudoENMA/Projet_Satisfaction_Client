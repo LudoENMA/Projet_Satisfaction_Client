{
 "cells": [
  {
   "cell_type": "code",
   "execution_count": 89,
   "id": "07c45b9f",
   "metadata": {},
   "outputs": [
    {
     "name": "stdout",
     "output_type": "stream",
     "text": [
      "3093\n"
     ]
    },
    {
     "data": {
      "text/html": [
       "<div>\n",
       "<style scoped>\n",
       "    .dataframe tbody tr th:only-of-type {\n",
       "        vertical-align: middle;\n",
       "    }\n",
       "\n",
       "    .dataframe tbody tr th {\n",
       "        vertical-align: top;\n",
       "    }\n",
       "\n",
       "    .dataframe thead th {\n",
       "        text-align: right;\n",
       "    }\n",
       "</style>\n",
       "<table border=\"1\" class=\"dataframe\">\n",
       "  <thead>\n",
       "    <tr style=\"text-align: right;\">\n",
       "      <th></th>\n",
       "      <th>Unnamed: 0</th>\n",
       "      <th>Titre comment</th>\n",
       "      <th>Date de réponse</th>\n",
       "      <th>Reponse ou non</th>\n",
       "      <th>Liste peronnes</th>\n",
       "      <th>Nombre d'étoile</th>\n",
       "    </tr>\n",
       "  </thead>\n",
       "  <tbody>\n",
       "    <tr>\n",
       "      <th>0</th>\n",
       "      <td>0</td>\n",
       "      <td>2 mois de delai avant livraison et le…</td>\n",
       "      <td>05 mars 2023</td>\n",
       "      <td>True</td>\n",
       "      <td>Showroomprive.com</td>\n",
       "      <td>1</td>\n",
       "    </tr>\n",
       "    <tr>\n",
       "      <th>1</th>\n",
       "      <td>1</td>\n",
       "      <td>Je n'ai pas reçu le bon d'achat de…</td>\n",
       "      <td>05 mars 2023</td>\n",
       "      <td>True</td>\n",
       "      <td>Showroomprive.com</td>\n",
       "      <td>1</td>\n",
       "    </tr>\n",
       "    <tr>\n",
       "      <th>2</th>\n",
       "      <td>2</td>\n",
       "      <td>Je n est pas encore récupéré ma commande elle ...</td>\n",
       "      <td>04 mars 2023</td>\n",
       "      <td>True</td>\n",
       "      <td>Showroomprive.com</td>\n",
       "      <td>1</td>\n",
       "    </tr>\n",
       "    <tr>\n",
       "      <th>3</th>\n",
       "      <td>3</td>\n",
       "      <td>Ma commande est confirmé et tout…</td>\n",
       "      <td>04 mars 2023</td>\n",
       "      <td>True</td>\n",
       "      <td>Showroomprive.com</td>\n",
       "      <td>2</td>\n",
       "    </tr>\n",
       "    <tr>\n",
       "      <th>4</th>\n",
       "      <td>4</td>\n",
       "      <td>Réponse du service client tard et mauvaise</td>\n",
       "      <td>04 mars 2023</td>\n",
       "      <td>True</td>\n",
       "      <td>Showroomprive.com</td>\n",
       "      <td>1</td>\n",
       "    </tr>\n",
       "  </tbody>\n",
       "</table>\n",
       "</div>"
      ],
      "text/plain": [
       "   Unnamed: 0                                      Titre comment  \\\n",
       "0           0             2 mois de delai avant livraison et le…   \n",
       "1           1                Je n'ai pas reçu le bon d'achat de…   \n",
       "2           2  Je n est pas encore récupéré ma commande elle ...   \n",
       "3           3                  Ma commande est confirmé et tout…   \n",
       "4           4         Réponse du service client tard et mauvaise   \n",
       "\n",
       "  Date de réponse  Reponse ou non     Liste peronnes  Nombre d'étoile  \n",
       "0    05 mars 2023            True  Showroomprive.com                1  \n",
       "1    05 mars 2023            True  Showroomprive.com                1  \n",
       "2    04 mars 2023            True  Showroomprive.com                1  \n",
       "3    04 mars 2023            True  Showroomprive.com                2  \n",
       "4    04 mars 2023            True  Showroomprive.com                1  "
      ]
     },
     "execution_count": 89,
     "metadata": {},
     "output_type": "execute_result"
    }
   ],
   "source": [
    "import pandas as pd\n",
    "import numpy as np\n",
    "import matplotlib.pyplot as plt\n",
    "import pandas as pd\n",
    "import numpy as np\n",
    "import warnings\n",
    "warnings.filterwarnings('ignore')\n",
    "from sklearn.model_selection import train_test_split\n",
    "from sklearn.preprocessing import StandardScaler\n",
    "from sklearn.preprocessing import LabelEncoder\n",
    "from sklearn.metrics import f1_score\n",
    "from sklearn.compose import ColumnTransformer\n",
    "from sklearn.pipeline import Pipeline\n",
    "import matplotlib.pyplot as plt\n",
    "%matplotlib inline\n",
    "\n",
    "# %matplotlib inline # ligne pour jupyter seulement \n",
    "\n",
    "import json\n",
    "import networkx as nx\n",
    "from nltk.tokenize import TweetTokenizer\n",
    "\n",
    "\n",
    "df = pd.read_csv('PART2_Infos_generales_Commentaire.csv', sep = ',')\n",
    "\n",
    "print(len(df))\n",
    "\n",
    "df.head()\n"
   ]
  },
  {
   "cell_type": "code",
   "execution_count": 90,
   "id": "6afcf1fc",
   "metadata": {},
   "outputs": [
    {
     "data": {
      "text/html": [
       "<div>\n",
       "<style scoped>\n",
       "    .dataframe tbody tr th:only-of-type {\n",
       "        vertical-align: middle;\n",
       "    }\n",
       "\n",
       "    .dataframe tbody tr th {\n",
       "        vertical-align: top;\n",
       "    }\n",
       "\n",
       "    .dataframe thead th {\n",
       "        text-align: right;\n",
       "    }\n",
       "</style>\n",
       "<table border=\"1\" class=\"dataframe\">\n",
       "  <thead>\n",
       "    <tr style=\"text-align: right;\">\n",
       "      <th></th>\n",
       "      <th>Titre comment</th>\n",
       "      <th>Date de réponse</th>\n",
       "      <th>Reponse ou non</th>\n",
       "      <th>Liste peronnes</th>\n",
       "      <th>Nombre d'étoile</th>\n",
       "    </tr>\n",
       "  </thead>\n",
       "  <tbody>\n",
       "    <tr>\n",
       "      <th>0</th>\n",
       "      <td>2 mois de delai avant livraison et le…</td>\n",
       "      <td>05 mars 2023</td>\n",
       "      <td>True</td>\n",
       "      <td>Showroomprive.com</td>\n",
       "      <td>1</td>\n",
       "    </tr>\n",
       "    <tr>\n",
       "      <th>1</th>\n",
       "      <td>Je n'ai pas reçu le bon d'achat de…</td>\n",
       "      <td>05 mars 2023</td>\n",
       "      <td>True</td>\n",
       "      <td>Showroomprive.com</td>\n",
       "      <td>1</td>\n",
       "    </tr>\n",
       "    <tr>\n",
       "      <th>2</th>\n",
       "      <td>Je n est pas encore récupéré ma commande elle ...</td>\n",
       "      <td>04 mars 2023</td>\n",
       "      <td>True</td>\n",
       "      <td>Showroomprive.com</td>\n",
       "      <td>1</td>\n",
       "    </tr>\n",
       "    <tr>\n",
       "      <th>3</th>\n",
       "      <td>Ma commande est confirmé et tout…</td>\n",
       "      <td>04 mars 2023</td>\n",
       "      <td>True</td>\n",
       "      <td>Showroomprive.com</td>\n",
       "      <td>2</td>\n",
       "    </tr>\n",
       "    <tr>\n",
       "      <th>4</th>\n",
       "      <td>Réponse du service client tard et mauvaise</td>\n",
       "      <td>04 mars 2023</td>\n",
       "      <td>True</td>\n",
       "      <td>Showroomprive.com</td>\n",
       "      <td>1</td>\n",
       "    </tr>\n",
       "    <tr>\n",
       "      <th>...</th>\n",
       "      <td>...</td>\n",
       "      <td>...</td>\n",
       "      <td>...</td>\n",
       "      <td>...</td>\n",
       "      <td>...</td>\n",
       "    </tr>\n",
       "    <tr>\n",
       "      <th>3088</th>\n",
       "      <td>Cher, décevant et malhonnête, à fuir.</td>\n",
       "      <td>02 janvier 2021</td>\n",
       "      <td>True</td>\n",
       "      <td>Showroomprive.com</td>\n",
       "      <td>2</td>\n",
       "    </tr>\n",
       "    <tr>\n",
       "      <th>3089</th>\n",
       "      <td>Lamentable..</td>\n",
       "      <td>02 janvier 2021</td>\n",
       "      <td>True</td>\n",
       "      <td>Showroomprive.com</td>\n",
       "      <td>1</td>\n",
       "    </tr>\n",
       "    <tr>\n",
       "      <th>3090</th>\n",
       "      <td>Site à ne pas recommander</td>\n",
       "      <td>01 janvier 2021</td>\n",
       "      <td>True</td>\n",
       "      <td>Showroomprive.com</td>\n",
       "      <td>1</td>\n",
       "    </tr>\n",
       "    <tr>\n",
       "      <th>3091</th>\n",
       "      <td>Achat de 8 chaises le 09/12/2020</td>\n",
       "      <td>09 décembre 2020</td>\n",
       "      <td>True</td>\n",
       "      <td>Showroomprive.com</td>\n",
       "      <td>1</td>\n",
       "    </tr>\n",
       "    <tr>\n",
       "      <th>3092</th>\n",
       "      <td>Jamais plus</td>\n",
       "      <td>01 janvier 2021</td>\n",
       "      <td>True</td>\n",
       "      <td>Showroomprive.com</td>\n",
       "      <td>1</td>\n",
       "    </tr>\n",
       "  </tbody>\n",
       "</table>\n",
       "<p>3093 rows × 5 columns</p>\n",
       "</div>"
      ],
      "text/plain": [
       "                                          Titre comment   Date de réponse  \\\n",
       "0                2 mois de delai avant livraison et le…      05 mars 2023   \n",
       "1                   Je n'ai pas reçu le bon d'achat de…      05 mars 2023   \n",
       "2     Je n est pas encore récupéré ma commande elle ...      04 mars 2023   \n",
       "3                     Ma commande est confirmé et tout…      04 mars 2023   \n",
       "4            Réponse du service client tard et mauvaise      04 mars 2023   \n",
       "...                                                 ...               ...   \n",
       "3088              Cher, décevant et malhonnête, à fuir.   02 janvier 2021   \n",
       "3089                                       Lamentable..   02 janvier 2021   \n",
       "3090                          Site à ne pas recommander   01 janvier 2021   \n",
       "3091                   Achat de 8 chaises le 09/12/2020  09 décembre 2020   \n",
       "3092                                        Jamais plus   01 janvier 2021   \n",
       "\n",
       "      Reponse ou non     Liste peronnes  Nombre d'étoile  \n",
       "0               True  Showroomprive.com                1  \n",
       "1               True  Showroomprive.com                1  \n",
       "2               True  Showroomprive.com                1  \n",
       "3               True  Showroomprive.com                2  \n",
       "4               True  Showroomprive.com                1  \n",
       "...              ...                ...              ...  \n",
       "3088            True  Showroomprive.com                2  \n",
       "3089            True  Showroomprive.com                1  \n",
       "3090            True  Showroomprive.com                1  \n",
       "3091            True  Showroomprive.com                1  \n",
       "3092            True  Showroomprive.com                1  \n",
       "\n",
       "[3093 rows x 5 columns]"
      ]
     },
     "execution_count": 90,
     "metadata": {},
     "output_type": "execute_result"
    }
   ],
   "source": [
    "# Suppression de Unamed\n",
    "\n",
    "df.drop('Unnamed: 0', axis = 1)"
   ]
  },
  {
   "cell_type": "code",
   "execution_count": 91,
   "id": "b9b09c09",
   "metadata": {},
   "outputs": [
    {
     "name": "stdout",
     "output_type": "stream",
     "text": [
      "Unnamed: 0         0\n",
      "Titre comment      0\n",
      "Date de réponse    0\n",
      "Reponse ou non     0\n",
      "Liste peronnes     4\n",
      "Nombre d'étoile    0\n",
      "dtype: int64\n"
     ]
    }
   ],
   "source": [
    "missing_values = df.isna().sum()\n",
    "print(missing_values)"
   ]
  },
  {
   "cell_type": "code",
   "execution_count": 92,
   "id": "ab5164e1",
   "metadata": {},
   "outputs": [
    {
     "name": "stdout",
     "output_type": "stream",
     "text": [
      "Unnamed: 0         0\n",
      "Titre comment      0\n",
      "Date de réponse    0\n",
      "Reponse ou non     0\n",
      "Liste peronnes     4\n",
      "Nombre d'étoile    0\n",
      "dtype: int64\n"
     ]
    }
   ],
   "source": [
    "df.dropna()\n",
    "missing_values2 = df.isna().sum()\n",
    "print(missing_values2)"
   ]
  },
  {
   "cell_type": "code",
   "execution_count": 93,
   "id": "6969df65",
   "metadata": {},
   "outputs": [
    {
     "name": "stdout",
     "output_type": "stream",
     "text": [
      "(3093,)\n",
      "<class 'pandas.core.series.Series'>\n"
     ]
    },
    {
     "data": {
      "text/html": [
       "<div>\n",
       "<style scoped>\n",
       "    .dataframe tbody tr th:only-of-type {\n",
       "        vertical-align: middle;\n",
       "    }\n",
       "\n",
       "    .dataframe tbody tr th {\n",
       "        vertical-align: top;\n",
       "    }\n",
       "\n",
       "    .dataframe thead th {\n",
       "        text-align: right;\n",
       "    }\n",
       "</style>\n",
       "<table border=\"1\" class=\"dataframe\">\n",
       "  <thead>\n",
       "    <tr style=\"text-align: right;\">\n",
       "      <th></th>\n",
       "      <th>Titre comment</th>\n",
       "    </tr>\n",
       "  </thead>\n",
       "  <tbody>\n",
       "    <tr>\n",
       "      <th>0</th>\n",
       "      <td>0.0000</td>\n",
       "    </tr>\n",
       "    <tr>\n",
       "      <th>1</th>\n",
       "      <td>-0.2924</td>\n",
       "    </tr>\n",
       "    <tr>\n",
       "      <th>2</th>\n",
       "      <td>-0.6599</td>\n",
       "    </tr>\n",
       "    <tr>\n",
       "      <th>3</th>\n",
       "      <td>0.0000</td>\n",
       "    </tr>\n",
       "    <tr>\n",
       "      <th>4</th>\n",
       "      <td>-0.5574</td>\n",
       "    </tr>\n",
       "    <tr>\n",
       "      <th>...</th>\n",
       "      <td>...</td>\n",
       "    </tr>\n",
       "    <tr>\n",
       "      <th>3088</th>\n",
       "      <td>-0.5994</td>\n",
       "    </tr>\n",
       "    <tr>\n",
       "      <th>3089</th>\n",
       "      <td>-0.4039</td>\n",
       "    </tr>\n",
       "    <tr>\n",
       "      <th>3090</th>\n",
       "      <td>-0.2755</td>\n",
       "    </tr>\n",
       "    <tr>\n",
       "      <th>3091</th>\n",
       "      <td>0.0000</td>\n",
       "    </tr>\n",
       "    <tr>\n",
       "      <th>3092</th>\n",
       "      <td>0.0000</td>\n",
       "    </tr>\n",
       "  </tbody>\n",
       "</table>\n",
       "<p>3093 rows × 1 columns</p>\n",
       "</div>"
      ],
      "text/plain": [
       "      Titre comment\n",
       "0            0.0000\n",
       "1           -0.2924\n",
       "2           -0.6599\n",
       "3            0.0000\n",
       "4           -0.5574\n",
       "...             ...\n",
       "3088        -0.5994\n",
       "3089        -0.4039\n",
       "3090        -0.2755\n",
       "3091         0.0000\n",
       "3092         0.0000\n",
       "\n",
       "[3093 rows x 1 columns]"
      ]
     },
     "execution_count": 93,
     "metadata": {},
     "output_type": "execute_result"
    }
   ],
   "source": [
    "commentaires = df['Titre comment']\n",
    "\n",
    "\n",
    "from vaderSentiment_fr.vaderSentiment import SentimentIntensityAnalyzer\n",
    "\n",
    "sentiment_intensity_analyzer = SentimentIntensityAnalyzer()\n",
    "\n",
    "score = commentaires.apply(lambda x: sentiment_intensity_analyzer.polarity_scores(x))\n",
    "scores = commentaires.apply(lambda x: sentiment_intensity_analyzer.polarity_scores(x)['compound'])\n",
    "\n",
    "print(scores.shape)\n",
    "print(type(scores))\n",
    "# print(scores)\n",
    "scores.describe()\n",
    "\n",
    "df_score = scores.to_frame()\n",
    "\n",
    "df_score"
   ]
  },
  {
   "cell_type": "code",
   "execution_count": 94,
   "id": "33d3bc9c",
   "metadata": {},
   "outputs": [
    {
     "name": "stdout",
     "output_type": "stream",
     "text": [
      "0\n"
     ]
    }
   ],
   "source": [
    "print(\"0\")"
   ]
  },
  {
   "cell_type": "code",
   "execution_count": 95,
   "id": "e3689935",
   "metadata": {},
   "outputs": [
    {
     "data": {
      "text/html": [
       "<div>\n",
       "<style scoped>\n",
       "    .dataframe tbody tr th:only-of-type {\n",
       "        vertical-align: middle;\n",
       "    }\n",
       "\n",
       "    .dataframe tbody tr th {\n",
       "        vertical-align: top;\n",
       "    }\n",
       "\n",
       "    .dataframe thead th {\n",
       "        text-align: right;\n",
       "    }\n",
       "</style>\n",
       "<table border=\"1\" class=\"dataframe\">\n",
       "  <thead>\n",
       "    <tr style=\"text-align: right;\">\n",
       "      <th></th>\n",
       "      <th>Reponse ou non</th>\n",
       "      <th>Liste peronnes</th>\n",
       "    </tr>\n",
       "  </thead>\n",
       "  <tbody>\n",
       "    <tr>\n",
       "      <th>0</th>\n",
       "      <td>True</td>\n",
       "      <td>Showroomprive.com</td>\n",
       "    </tr>\n",
       "    <tr>\n",
       "      <th>1</th>\n",
       "      <td>True</td>\n",
       "      <td>Showroomprive.com</td>\n",
       "    </tr>\n",
       "    <tr>\n",
       "      <th>2</th>\n",
       "      <td>True</td>\n",
       "      <td>Showroomprive.com</td>\n",
       "    </tr>\n",
       "    <tr>\n",
       "      <th>3</th>\n",
       "      <td>True</td>\n",
       "      <td>Showroomprive.com</td>\n",
       "    </tr>\n",
       "    <tr>\n",
       "      <th>4</th>\n",
       "      <td>True</td>\n",
       "      <td>Showroomprive.com</td>\n",
       "    </tr>\n",
       "  </tbody>\n",
       "</table>\n",
       "</div>"
      ],
      "text/plain": [
       "   Reponse ou non     Liste peronnes\n",
       "0            True  Showroomprive.com\n",
       "1            True  Showroomprive.com\n",
       "2            True  Showroomprive.com\n",
       "3            True  Showroomprive.com\n",
       "4            True  Showroomprive.com"
      ]
     },
     "execution_count": 95,
     "metadata": {},
     "output_type": "execute_result"
    }
   ],
   "source": [
    "#Définition des variables expplicatives et cibles\n",
    "\n",
    "feats_int = df.drop(['Titre comment','Unnamed: 0', 'Date de réponse' ,\"Nombre d'étoile\"], axis=1)\n",
    "feats_int.shape\n",
    "\n",
    "feats_int.head()"
   ]
  },
  {
   "cell_type": "code",
   "execution_count": null,
   "id": "3d666565",
   "metadata": {},
   "outputs": [],
   "source": []
  },
  {
   "cell_type": "code",
   "execution_count": 96,
   "id": "58526716",
   "metadata": {},
   "outputs": [
    {
     "name": "stdout",
     "output_type": "stream",
     "text": [
      "[[True 'Showroomprive.com' 0.0]\n",
      " [True 'Showroomprive.com' -0.2924]\n",
      " [True 'Showroomprive.com' -0.6599]\n",
      " ...\n",
      " [True 'Showroomprive.com' -0.2755]\n",
      " [True 'Showroomprive.com' 0.0]\n",
      " [True 'Showroomprive.com' 0.0]]\n"
     ]
    }
   ],
   "source": [
    "array_feats = np.concatenate((feats_int, df_score), axis = 1)\n",
    "\n",
    "\n",
    "print(array_feats) #.head()"
   ]
  },
  {
   "cell_type": "code",
   "execution_count": 97,
   "id": "acef3529",
   "metadata": {},
   "outputs": [
    {
     "data": {
      "text/html": [
       "<div>\n",
       "<style scoped>\n",
       "    .dataframe tbody tr th:only-of-type {\n",
       "        vertical-align: middle;\n",
       "    }\n",
       "\n",
       "    .dataframe tbody tr th {\n",
       "        vertical-align: top;\n",
       "    }\n",
       "\n",
       "    .dataframe thead th {\n",
       "        text-align: right;\n",
       "    }\n",
       "</style>\n",
       "<table border=\"1\" class=\"dataframe\">\n",
       "  <thead>\n",
       "    <tr style=\"text-align: right;\">\n",
       "      <th></th>\n",
       "      <th>Reponse ou non</th>\n",
       "      <th>Liste peronnes</th>\n",
       "      <th>score</th>\n",
       "    </tr>\n",
       "  </thead>\n",
       "  <tbody>\n",
       "    <tr>\n",
       "      <th>0</th>\n",
       "      <td>True</td>\n",
       "      <td>Showroomprive.com</td>\n",
       "      <td>0.0</td>\n",
       "    </tr>\n",
       "    <tr>\n",
       "      <th>1</th>\n",
       "      <td>True</td>\n",
       "      <td>Showroomprive.com</td>\n",
       "      <td>-0.2924</td>\n",
       "    </tr>\n",
       "    <tr>\n",
       "      <th>2</th>\n",
       "      <td>True</td>\n",
       "      <td>Showroomprive.com</td>\n",
       "      <td>-0.6599</td>\n",
       "    </tr>\n",
       "    <tr>\n",
       "      <th>3</th>\n",
       "      <td>True</td>\n",
       "      <td>Showroomprive.com</td>\n",
       "      <td>0.0</td>\n",
       "    </tr>\n",
       "    <tr>\n",
       "      <th>4</th>\n",
       "      <td>True</td>\n",
       "      <td>Showroomprive.com</td>\n",
       "      <td>-0.5574</td>\n",
       "    </tr>\n",
       "  </tbody>\n",
       "</table>\n",
       "</div>"
      ],
      "text/plain": [
       "  Reponse ou non     Liste peronnes   score\n",
       "0           True  Showroomprive.com     0.0\n",
       "1           True  Showroomprive.com -0.2924\n",
       "2           True  Showroomprive.com -0.6599\n",
       "3           True  Showroomprive.com     0.0\n",
       "4           True  Showroomprive.com -0.5574"
      ]
     },
     "execution_count": 97,
     "metadata": {},
     "output_type": "execute_result"
    }
   ],
   "source": [
    "# Convertir feats en DataFrame\n",
    "feats = pd.DataFrame(array_feats, columns=list(feats_int.columns) + [\"score\"])\n",
    "\n",
    "# Afficher le DataFrame\n",
    "\n",
    "#feats.drop(\"Unnamed: 0\", axis=1)\n",
    "feats.head()"
   ]
  },
  {
   "cell_type": "code",
   "execution_count": 86,
   "id": "1892671a",
   "metadata": {},
   "outputs": [
    {
     "data": {
      "text/plain": [
       "pandas.core.frame.DataFrame"
      ]
     },
     "execution_count": 86,
     "metadata": {},
     "output_type": "execute_result"
    }
   ],
   "source": []
  },
  {
   "cell_type": "code",
   "execution_count": 99,
   "id": "c75d67ce",
   "metadata": {},
   "outputs": [
    {
     "name": "stdout",
     "output_type": "stream",
     "text": [
      "0\n"
     ]
    }
   ],
   "source": [
    "print(0)"
   ]
  },
  {
   "cell_type": "code",
   "execution_count": 100,
   "id": "0f329ed8",
   "metadata": {},
   "outputs": [
    {
     "data": {
      "text/plain": [
       "0    1\n",
       "1    1\n",
       "2    1\n",
       "3    2\n",
       "4    1\n",
       "Name: Nombre d'étoile, dtype: int64"
      ]
     },
     "execution_count": 100,
     "metadata": {},
     "output_type": "execute_result"
    }
   ],
   "source": [
    "target = df[\"Nombre d'étoile\"]\n",
    "target.head()"
   ]
  },
  {
   "cell_type": "code",
   "execution_count": 101,
   "id": "6ef6106a",
   "metadata": {},
   "outputs": [],
   "source": [
    "#Séparation des variables en test et en entrainement\n",
    "\n",
    "X_train, X_test, y_train, y_test = train_test_split(feats, target, test_size=0.25, random_state = 42)\n",
    "\n",
    "\n"
   ]
  },
  {
   "cell_type": "code",
   "execution_count": 102,
   "id": "2ffe3c4e",
   "metadata": {},
   "outputs": [
    {
     "data": {
      "text/html": [
       "<div>\n",
       "<style scoped>\n",
       "    .dataframe tbody tr th:only-of-type {\n",
       "        vertical-align: middle;\n",
       "    }\n",
       "\n",
       "    .dataframe tbody tr th {\n",
       "        vertical-align: top;\n",
       "    }\n",
       "\n",
       "    .dataframe thead th {\n",
       "        text-align: right;\n",
       "    }\n",
       "</style>\n",
       "<table border=\"1\" class=\"dataframe\">\n",
       "  <thead>\n",
       "    <tr style=\"text-align: right;\">\n",
       "      <th></th>\n",
       "      <th>Reponse ou non</th>\n",
       "      <th>Liste peronnes</th>\n",
       "      <th>score</th>\n",
       "    </tr>\n",
       "  </thead>\n",
       "  <tbody>\n",
       "    <tr>\n",
       "      <th>2441</th>\n",
       "      <td>1.0</td>\n",
       "      <td>0.0</td>\n",
       "      <td>-0.4003</td>\n",
       "    </tr>\n",
       "    <tr>\n",
       "      <th>2218</th>\n",
       "      <td>1.0</td>\n",
       "      <td>0.0</td>\n",
       "      <td>-0.5743</td>\n",
       "    </tr>\n",
       "    <tr>\n",
       "      <th>2245</th>\n",
       "      <td>1.0</td>\n",
       "      <td>0.0</td>\n",
       "      <td>-0.3612</td>\n",
       "    </tr>\n",
       "    <tr>\n",
       "      <th>2624</th>\n",
       "      <td>1.0</td>\n",
       "      <td>0.0</td>\n",
       "      <td>-0.2484</td>\n",
       "    </tr>\n",
       "    <tr>\n",
       "      <th>2637</th>\n",
       "      <td>1.0</td>\n",
       "      <td>0.0</td>\n",
       "      <td>0.0</td>\n",
       "    </tr>\n",
       "  </tbody>\n",
       "</table>\n",
       "</div>"
      ],
      "text/plain": [
       "     Reponse ou non Liste peronnes   score\n",
       "2441            1.0            0.0 -0.4003\n",
       "2218            1.0            0.0 -0.5743\n",
       "2245            1.0            0.0 -0.3612\n",
       "2624            1.0            0.0 -0.2484\n",
       "2637            1.0            0.0     0.0"
      ]
     },
     "execution_count": 102,
     "metadata": {},
     "output_type": "execute_result"
    }
   ],
   "source": [
    "# Insérez votre code ici \n",
    "from sklearn.preprocessing import OneHotEncoder\n",
    "\n",
    "# Le paramètre drop permet d'éviter le problème de multicolinéarité\n",
    "ohe = OneHotEncoder( drop=\"first\", sparse=False)\n",
    "\n",
    "X_train.loc[:,['Reponse ou non', 'Liste peronnes']] = ohe.fit_transform(X_train[['Reponse ou non', 'Liste peronnes']])\n",
    "\n",
    "X_test.loc[:,['Reponse ou non', 'Liste peronnes']] = ohe.transform(X_test[['Reponse ou non', 'Liste peronnes']])\n",
    "\n",
    "X_test.head()"
   ]
  },
  {
   "cell_type": "code",
   "execution_count": 105,
   "id": "f4ab2423",
   "metadata": {},
   "outputs": [
    {
     "name": "stdout",
     "output_type": "stream",
     "text": [
      "score d'entrainement : 0.8180250107805088 //// score de test : 0.7790697674418605\n"
     ]
    }
   ],
   "source": [
    "# Insérez votre code ici\n",
    "from sklearn.tree import DecisionTreeClassifier\n",
    "\n",
    "clf = DecisionTreeClassifier()\n",
    "\n",
    "clf.fit(X_train, y_train)\n",
    "\n",
    "score_train = clf.score(X_train, y_train)\n",
    "score_test = clf.score(X_test, y_test)\n",
    "\n",
    "print(\"score d'entrainement :\", score_train, \"////\", \"score de test :\", score_test)\n"
   ]
  },
  {
   "cell_type": "code",
   "execution_count": 108,
   "id": "a82890a0",
   "metadata": {},
   "outputs": [
    {
     "name": "stdout",
     "output_type": "stream",
     "text": [
      "col_0              1   2\n",
      "Nombre d'étoile         \n",
      "1                598  14\n",
      "2                157   5\n",
      "              precision    recall  f1-score   support\n",
      "\n",
      "           1       0.79      0.98      0.87       612\n",
      "           2       0.26      0.03      0.06       162\n",
      "\n",
      "    accuracy                           0.78       774\n",
      "   macro avg       0.53      0.50      0.47       774\n",
      "weighted avg       0.68      0.78      0.70       774\n",
      "\n"
     ]
    }
   ],
   "source": [
    "from sklearn.metrics import classification_report\n",
    "\n",
    "y_pred = clf.predict(X_test)\n",
    "\n",
    "print(pd.crosstab(y_test,y_pred))\n",
    "print(classification_report(y_test, y_pred))"
   ]
  },
  {
   "cell_type": "code",
   "execution_count": 6,
   "id": "b35425c6",
   "metadata": {},
   "outputs": [
    {
     "name": "stdout",
     "output_type": "stream",
     "text": [
      "17894\n"
     ]
    }
   ],
   "source": [
    "tokenizer = TweetTokenizer()\n",
    "texte = ' '.join(commentaires)\n",
    "mots = tokenizer.tokenize(texte)\n",
    "print(len(mots))\n",
    "\n",
    "from collections import Counter\n",
    "\n",
    "word_count = Counter([m.lower() for m in mots])\n",
    "\n",
    "mots_tries = sorted(word_count, key=lambda x: word_count.get(x), reverse=True)"
   ]
  },
  {
   "cell_type": "code",
   "execution_count": 109,
   "id": "a386c13d",
   "metadata": {},
   "outputs": [
    {
     "name": "stdout",
     "output_type": "stream",
     "text": [
      "['…', 'de', '!', 'commande', 'pas', 'je', 'la', 'et', 'un', 'une', '’', 'le', 'très', 'à', 'des', 'ai', 'a', 'ne', 'livraison', 'reçu', 'colis', \"j'ai\", 'j', 'en', 'service', 'déçue', 'sur', 'les', 'site', 'est', 'non', 'commandé', 'ma', 'du', '.', 'article', 'pour', 'client', ',', 'produit', 'n', 'que', 'déçu', '2', 'fuir', 'ce', 'mon', 'mauvaise', 'plus', 'suis', 'articles', 'qualité', 'jamais', 'showroom', 'retour', 'trop', 'bonjour', 'd', 'dans', '...', 'arnaque', 'produits', 'par', 'au', 'qui', 'commandes', 'avec', 'vente', 'il', 'été', 'mais', 'frais', 'achat', 'tout', 'acheté', 'expérience', 'mauvais', 'fois', 'conforme', 'nul', 'taille', 'l', 'showroomprive', 'sont', 'sav', 'chez', 'depuis', 'erreur', 'deux', 'après', 'attention', \"n'ai\", '1', 'déception', '3', 'car', 'arrivé', 'toujours', 'cliente', 'mois', 'montre', 'déplorable', 'commander', 'problème', 'dernière', 'sans', 'remboursement', 'fuyez', 'bon', \"n'est\", 'catastrophique', 'décevant', '€', 'prix', 'c', 'suite', 'mes', 'relais', 'meuble', 'manque', 'reçue', '(', 'me', 'vous', 'showroomprivé', 'point', 'était', 'sac', 'même', 'fait', 'on', 'incomplète', 'délai', 'long', 'cassé', 'plusieurs', 'faire', 'livrée', '..', 'passé', 'livré', 'étoile', \"d'un\", 'vraiment', 'voleurs', 'honte', \"c'est\", 'clients', 'première', '?', 'mettre', 'annulée', 'correspond', 'défectueux', 'satisfaite', 'retard', 'mal', 'se', '4', '/', 'aucune', 'y', 'moitié', 'perdu', 'si', '-', 'encore', 'impossible', 'privé', '0', 'bien', 'manquant', 'aucun', 'délais', 'éviter', 'pire', 'inexistant', 'honteux', 'lamentable', 'beaucoup', 'avoir', 'votre', 'bijoux', 'comme', 'catastrophe', 'avis', ':', 'port', 'extrêmement', 'médiocre', 'jours', \"d'une\", 'arrivée', ')', 'sérieux', 'paire', 'aux', 'temps', 'recevoir', 'mécontente', 'passée', 'quand', 'endommagé', 'vêtements', 'rien', 'voyage', 'dommage', \"l'article\", 'garantie', 'partie', 'peu', 'date', 'cette', 'table', 'reconditionné', 'avais', 'm', 'commandés', 'souvent', 'manquait', 'décevante', 'couleur', 'rapport', 'bougies', 'envoi', 'déconseille', 'être', 'cassée', 'vaisselle', 'eu', 'ça', 'bracelet', 'abîmé', 'refus', 'ou', 'iphone', 'lors', 'tres', 'incompétent', 'recommande', 'canapé', '\"', 'grosse', 'partiellement', 'longue', 'photo', 'scandaleux', 'malhonnête', 'bonne', 'cela', 'valise', '6', 'fausse', 'attente', 'viens', 'annulation', 'moi', 'déjà', 'tous', 'fiable', 'contrefaçon', 'reçus', 'absolument', 'avant', 'marque', 'lieu', 'boîte', 'emballage', 'réclamation', 'jardin', 'leur', 'années', 'couette', 'envoyé', 'cher', 'ils', 'livrés', 'argent', 'moins', 'effectuée', 'téléphone', 'pull', 'eux', 'incompétence', 'réponse', 'chaises', 'erreurs', 'réceptionné', 'défauts', 'problèmes', 'incomplet', '8', 'description', 'photos', 'va', 'inadmissible', 'boucles', 'devait', 'dont', 'chaussures', 'cuir', 'décembre', 'quelle', 'petit', 'état', 'totale', 'réception', 'peut', 'qu', 'bague', 'voleur', 'vol', 'part', 'nous', 'respectée', 'malheureusement', 'marchandise', 'ouvert', '2022', 'infinity', 'contente', 'chaque', 'basse', 'lit', 'robe', 'ni', 'fin', 'retours', 'tromperie', 'mensongère', 'tailles', 'nulle', 'effectué', 'commandez', 'charge', 'arrivées', 'acheter', 'jour', '️', 'ont', 'incompétents', '5', 'déceptions', 'remboursé', 'changement', 'recu', 'mets', 'disant', 'dernier', 'séjour', 'semaine', 'passer', 'belle', 'zéro', '°', 'escrocs', 'personne', 'deuxième', 's', 'horrible', 'hors', 'prévue', 'descriptif', 'escroquerie', 'celui', 'compte', 'ventes', 'incomplete', 'matelas', 'autre', 'satisfait', 'attends', 'alors', 'après-vente', 'honorée', \"j'attends\", 'notre', 'mécontent', 'avait', \"'\", 'cassées', 'nouvelle', 'étaient', 'antivol', 'mieux', 'application', 'noël', 'totalement', 'demande', 'lampe', 'payer', '12', 'respect', 'niveau', 'carton', 'bas', 'soit', 'via', 'livraisons', '21', 'commandée', 'passées', '⚠', '1ere', 'incomplètes', 'remboursée', 'respecte', 'deçu', 'vos', '+', \"d'achat\", 'où', 'fini', 'joli', 'pantalon', 'commanderai', 'trois', 'son', 'toutes', 'raison', 'jai', 'emma', 'respecté', 'veste', 'cassés', 'reçois', \"m'a\", 'grand', \"j'avais\", 'objet', 'main', 'avez', 'désastreux', 'ligne', 'pouvais', 'experience', 'mécontentement', 'promotion', 'trompeuses', \"qu'il\", 'demandé', 'mauvaises', 'malgré', 'minable', 'revoir', 'derniers', 'totalité', 'donc', 'faite', 'prévu', 'retourné', 'content', 'apple', 'livre', 'paiement', 'vendeur', 'entreprise', 'pourtant', '17', '15', 'housse', 'deplorable', 'bonsoir', 'doudoune', 'modèle', 'moque', 'pu', 'franchement', 'petite', 'tv', 'peux', 'reçues', 'nouvelles', 'ans', 'conformes', 'étiquette', 'seulement', 'moment', 'trouve', 'complète', 'dois', 'payant', 'manquants', 'gros', 'privée', 'conformité', 'bout', 'gamme', 'défaut', 'euros', 'nombreuses', 'expédiée', 'chaussure', \"n'a\", '19', 'juin', 'élevé', \"n'ont\", 'gestion', 'fuire', 'annuler', \"aujourd'hui\", 'guess', 'blague', \"j'en\", 'sous', 'répond', 'or', 'renvoyé', 'récemment', 'rembourser', 'surtout', 'possible', 'fidèle', 'ses', 'désagréable', 'vend', \"l'achat\", 'arnaqueurs', 'zero', 'mérite', 'désastreuse', 'covid', 'lacoste', 'eviter', 'récupéré', 'elle', '😠', 'dire', 'quoi', 'sa', 'annule', 'dirait', 'colissimo', 't', 'shirt', 'passe', 'correspondait', 'envers', 'fantôme', 'fonctionne', 'linge', 'bons', 'achats', 'société', 'juste', 'aurait', 'dû', 'arriver', 'désirer', 'annulé', 'toute', 'hs', 'ok', \"d'arnaque\", 'valises', '50', '%', \"qu'un\", 'retrait', 'doute', 'vendu', 'qualités', 'protection', 'partielle', 'bougie', 'contre', 'livreur', 'validée', 'fortement', 'tenue', 'indisponible', 'voulais', 'cadeau', 'surprise', 'watch', 'comment', 'appareil', 'tapis', 'petites', 'tu', 'compliqué', 'apres', 'foi', 'envoyer', 'déposé', 'perte', 'piètre', 'paquet', 'incapables', 'plantes', 'decue', \"s'est\", '22', 'plutôt', 'faux', 'insatisfait', 'etoile', \"d'article\", 'voyages', 'nike', 'offrir', 'montres', 'noel', 'baskets', 'oreilles', 'dit', 'rideaux', 'transporteur', 'payé', 'rapide', 'prise', 'semaines', 'vue', \"d'habitude\", 'souci', 'bagues', 'robes', 'tellement', 'changé', '=', 'chocolat', 'intégralement', 'contenu', 'différentes', 'réduction', 'colère', 'doit', \"d'articles\", 'rupture', 'annulées', 'moyenne', 'insatisfaction', 'pure', 'remboursements', 'meubles', 'annoncé', 'lunettes', 'decu', 'habitude', 'déçus', 'presque', 'oublié', 'nullissime', 'livrer', 'choquée', 'chers', 'longtemps', 'manteau', '14', 'hauteur', 'prestataire', 'trompeur', 'commanderais', 'chere', 'laguiole', 'correspondent', 'pièce', '10', 'traitement', 'répétition', 'trés', 'housses', 'abîmés', 'coffre', 'pub', 'avons', 'effectuer', 'électrique', 'coupons', 'connectée', 'mot', 'pratiques', 'expériences', 'rembourse', 'bol', 'ultra', 'vacances', 'double', 'showroomprivee', 'bande', 'confiance', 'ayoub', 'perdre', '*', 'baisse', \"c'était\", '6,50', 'portable', 'janvier', 'voila', 'ipad', 'devient', 'sois', 'allez', 'veepee', 'bobochic', 'aussi', 'sens', 'cas', 'achetée', 'pendant', 'sais', 'capable', 'achete', 'stock', 'bijou', 'troué', 'septembre', 'calvin', 'klein', 'livres', 'coli', 'lot', 'absence', 'confirmation', 'bouton', 'travaille', 'bois', 'points', 'paye', 'laissant', 'failli', 'bed', 'ressemble', 'gris', 'près', 'verre', '42', 'sites', 'show', 'club', 'façon', 'cours', 'couteau', 'mails', 'sèche', 'rapidement', 'emballé', 'litige', 'culotte', '2eme', 'explication', 'blouson', 'incomplets', '30', 'laisse', 'attentes', 'com', 'retiré', 'stocks', 'pyjama', 'promise', 'ouverts', '13', 'boucle', 'oreille', 'sejour', 'soucis', 'télé', \"l'arnaque\", 'vendent', 'prévenu', 'grâce', '😡', 'honnête', 'coffret', 'vigilance', 'insatisfaite', 'ces', 'réservation', 'pitoyable', 'quelque', 'devais', 'sécurisé', 'trouver', 'reçut', \"l'envoi\", 'disponible', \"qu'elle\", 'codes', 'petits', 'vélo', 'suivre', 'showrooprivé', 'devrait', 'régulièrement', 'tâché', 'surévalué', 'numéro', 'mensongères', 'cool', 'enseigne', 'tjs', 'mi', 'loin', 'boxer', \"n'était\", 'complet', 'appli', \"d'origine\", 'bottines', 'transport', 'défectueuse', \"l'expédition\", 'ancienne', 'novembre', 'année', \"j'étais\", 'énormément', 'désolant', '90', 'reparti', 'octobre', 'connecté', 'matière', 'chaussettes', '25', 'fais', 'longs', 'vrais', 'suivie', 'attend', 'hyper', 'voler', 'directement', 'expédié', 'concernant', 'ski', '6.50', 'grande', '😞', 'lampadaire', 'soin', 'emballés', 'deception', 'taillent', '3ème', 'ayant', 'dropshipping', 'voir', 'abonnement', 'publicité', 'inadapté', 'cata', 'malhonnêteté', 'sacs', 'soyez', 'pressés', 'arrivent', 'facture', 'obsolète', 'différent', 'message', 'horreur', 'prenez', 'services', 'perles', '0/5', 'négative', 'considération', 'dernièrement', 'made', 'in', 'étais', 'shoorom', 'arrive', 'foutage', 'terminé', 'parfait', 'rodier', 'nom', '27', 'général', 'marques', 'cet', 'vu', \"l'abonnement\", 'nombreux', 'effectués', 'juillet', 'trouée', '😊', 'conditions', 'billet', \"d'avion\", 'élevés', 'lots', 'savoir', 'scandale', 'commandais', 'attractifs', 'gratuit', 'résolu', 'attendu', \"jusqu'à\", 'reprise', 'derniere', 'total', \"d'arnaques\", 'enfer', 'promo', '№', 'écoute', 'location', 'troisième', 'excessifs', 'four', 'décrit', 'douteuses', 'sommier', 'ras', 'maillot', 'chaise', 'showroomprive.com', \"m'envoie\", 'chose', 'personnel', 'vie', 'supprimer', 'probleme', 'autres', 'achetés', 'noir', 'définitivement', 'âpres', 'mensonge', 'bain', 'débité', 'poulailler', 'bloqué', 'impression', 'paris', 'pratique', 'irl', 'retourner', 'tanneur', 'anniversaire', 'partage', 'hier', 'hallucinant', 'logistique', 'méfier', 'pouvoir', 'raccroche', 'nez', 'ensembles', 'cde', 'met', 'utilisé', 'incroyable', 'vrai', 'défavorable', 'énorme', '2021', 'gonflés', 'faites', 'communication', 'prudence', '1er', 'inutile', 'lits', 'réservé', 'incapable', 'voulu', 'doutes', 'négatif', '7', 'arnaquer', 'as', '18', 'store', 'banne', 'mensonger', '100', 'limite', 'meme', 'mars', 'composition', 'passez', 'chemin', 'malhonnetes', 'dégradé', 'vais', 'quelques', 'menteurs', 'contrefacon', 'collection', 'pires', 'robot', 'complice', 'bye', '2020', 'delai', 'transit', 'confirmé', 'tard', 'connecter', 'do', 'not', 'buy', 'jewellery', 'escoqueries', 'taxé', \"n'importe\", 'gabriella', 'bemvi', \"qu'on\", 'puisse', 'fourni', 'contrefaçons', 'agit', 'bjr', 'st', 'regrets', 'déconseillée', 'affiché', 'accusation', 'colliers', 'dernières', 'caleçons', 'abus', 'trésorerie', 'purement', 'modifié', 'entretien', 'nº278345447', 'annulee', \"d'adresse\", 'cadres', 'manteaux', 'emballées', 'vrac', 'notice', 'turc', 'senteur', 'jeans', 'reception', 'imprimé', 'coton', 'recue', 'éléments', 'mouchoirs', 'bonnet', 'mango', 'morceau', 'augmentation', 'correct', 'volumineux', \"qu'une\", 'bold', 'giovale', 'taies', \"d'oreillers\", 'complément', 'inférieur', \"d'allumettes\", 'deplorer', 'minoi', 'design', 'corner', 'alizea', 'fournisseur', 'débarrassé', \"l'origine\", 'pack', 'geberit', 'celle', 'plats', 'adidas', 'rapidité', 'basket', 'deçue', 'accessoires', \"d'autres\", 'jaune', 'défaillante', 'solides', 'cru', 'affaire', 'haircare', 'tassé', 'disparue', 'relai', 'appelé', 'sonner', 'lettres', 'enquête', 'fil', 'réaction', 'règle', 'adressé', 'disponibles', 'promesse', \"l'état\", 'minuscule', 'étiquetage', 'tee', 'diffuseur', 'cheveux', 'universel', 'bo', '17/1', \"d'oreille\", 'contractuelle', 'daim', 'cosmétique', 'retenue', 'ete', 'modifiee', 'légère', \"n'arrive\", \"d'envoi\", 'conseillers', 'font', 'finitions', 'deceptions', 'amélioration', 'retourne', 'abri', 'pile', 'images', 'vécu', 'dimensions', '220', 'x240', 'finition', 'rendu', \"j'achète\", 'considéré', 'aide', 'pouvez', 'confirmer', 'annonce', 'écouteurs', 'écu', 'bienvenue', 'abdurdistan', 'indiquer', \"d'erreur\", 'ta', 'e', \"l'expediteur\", '300km', 'bidon', 'liquide', 'hésite', 'mari', 'offert', 'ceinture', 'unique', 'comparaison', 'plancha', 'déporable', 'désabonne', '2009', 'vis', 'puvert', 'mener', 'tâches', 'tjrs', 'restent', 'maroquinerie', 'sport', 'shoroomprivée', 'tissu', 'sculpture', 'pop', 'art', 'couler', 'joyeux', '17/12', 'gérer', 'retardée', 'curver', 'retounée', 'canadian', 'peak', 'laissé', 'lequel', 'zone', '24', 'cordon', 'prélevée', 'aboutie', 'entièrement', 'lorsque', 'chercher', 'soleil', 'ocre', '☹', 'center', 'parc', 'fermeture', 'zip', 'fallu', 'accesoire', 'allure', 'residence', 'sowell', 'trouville', 'mer', 'arrivee', 'fille', 'merite', 'intacts', 'mauboussin', 'arganicare', 'berger', 'incompletes', \"l'intégralité\", 'room', 'strass', 'accéder', 'dénoncer', 'forfait', '28', 'coupé', 'fêtes', \"n'existe\", 'protégé', 'sensible', 'fragile', 'vols', 'avion', 'crepière', 'precision', 'œil', 'aranque', 'christian', 'pa', 'matériel', 'abusifs', 'auparavant', 'tables', 'abîmées', 'fuit', 'arrivés', 'états', 'rouille', 'neufs', 'authenticité', 'douteuse', 'mecontenteen', 'black', 'friday', 'teeshirt', 'changer', 'bombes', 'allait', 'pubs', 'mensongere', 'retardé', 'rdv', 'garanti', 'horrifiée', 'confirmée', 'forcément', 'idée', 'coller', 'accusée', 'motif', 'consécutives', 'plat', 'fondue', 'catastrophes', 'manoukian', 'georgettes', 'contacte', 'correspondaient', 'boite', 'abimer', 'bracelets', 'spiderman', 'auprès', 'pergolas', 'tramonto', 'karl', 'déchiquetés', 'dégradation', 'énormes', 'mentionné', 'anarque', 'pourrait', 'téléphoné', \"l'image\", 'indicatif', 'largement', 'contenant', 'chaussons', 'chauds', '25/11', 'boules', 'pétanques', 'blister', 'figurine', 'cabossé', '268', '927', '909', 'décue', 'demander', 'correctement', 'indiqué', 'quesi', \"l'on\", 'sachet', 'détériorer', 'foufou', 'changent', 'bénéfice', 'annulations', 'repetition', 'grade', '04/11', 'niveaux', 'technique', 'shampoing', 'oréal', '1l', 'bof', 'entier', 'courir', 'biotyfullbox', 'jeter', 'nuxe', 'simplement', 'déchire', \"qu'ils\", \"n'en\", 'emballer', 'paquets', 'ainsi', 'basique', 'aléatoires', 'soigné', 'regrette', 'concernée', 'helvetica', 'tablettes', 'batterie', 'sure', 'retouchées', 'tele', 'carnets', 'shoowprivée', 'importe', 'pièces', 'travers', '23/11', 'abîmée', 'lent', 'defectueux', 'place', 'donne', 'serait', 'bizaare', 'plateforme', 'préparation', 'survetement', 'jolie', 'prevu', 'monter', 'ustensiles', '110', 'thé', 'palais', 'bottine', 'coups', \"n'y\", 'écrasés', 'os', 'différences', 'tineco', 'achète', 'coulais', '29', 'oct', 'côme', 'fonds', 'teint', 'explosés', 'moyennement', 'réactif', 'brique', 'chaud', 'vide', 'eventré', 'soupçons', 'mitigé', 'demi', \"d'attente\", 'polo', 'puma', 'cartons', 'déchirer', 'aucunes', 'intact', 'payants', 'casques', 'bollé', '29.10', 'moyen', 'manquent', 'grossièrement', '39', 'instructions', 'anglais', 'introuvable', 'averti', 'second', 'choix', 'decevant', 'ko', 'rediv', 'botte', \"l'une\", 'pas.mon', '2nde', 'voire', '2684741', '16', 'plastique', 'consultés', 'avt', 'super', 'lustre', 'dim', 'cest', 'clair', 'commandées', 'chemisier', 'atelier', 'miu', 'informée', 'préviens', 'sweat', 'anapurna', 'fdp', 'fréquent', 'furax', 'mathilde', 'pratiquement', 'homme', 'femme', 'réservez', 'possibilité', \"d'expédition\", 'étonnée', 'corresponde', 'tiers', 'uvert', 'normes', 'électriques', 'européennes', 'encaissé', 'caddie', 'handicapé', 'abstenez', 'terrible', \"n'allait\", 'résolution', 'armani', 'banir', 'tenais', 'comportement', 'dangereux', 'vont', 'utilisation', \"l'aspirateur\", 'svp', 'dépensez', 'ailleurs', 'deception.commande', 'probléme', 'costume', 'déchiré', \"l'attend\", 'imbéciles', 'stefanel', 'marqué', 'vomir', \"l'un\", 'alternative', 'offerte', 'déformées', 'poubelle', 'métal', 'écrasée', 'fantaisie', 'reducpriv.com', 'comprend', 'correspondante', 'désinformation', 'paires', 'timberland', 'immense', 'abimé', '03/09', 'fréquente', 'panoramique', 'pointure', 'annulés', 'qualite', 'solide', 'china', \"l'art\", 'prendre', 'gens', '179', 'cause', 'maîtresse', 'indiquée', 'reste', 'ravie', 'incompetent', '3/4', 'manquaient', 'commerçant', 'logue', 'trendyol', 'protégée', 'no', 'retournée', 'maillons', 'tj', 'déconseiller', 'déposer', 'plainte', 'sergent', 'major', 'initial', 'tenu', 'tâchés', 'précédente', '48h', 'langue', 'française', 'insuffisant', 'attendre', 'prends', 'dindons', 'paraît', 'sécurisation', 'parures', 'couettes', 'fermé', '20', 'decevante', 'tefal', 'wokisme', \"l'écriture\", 'inclusive', 'août', 'armoire', 'porte', 'cop', 'copine', 'transaction', 'sous-vêtement', 'escessifs', \"m'avertir\", 'vendus', 'sont-ils', 'loupés', 'livrées', 'demandée', 'domicile', 'therme', 'professionnalisme', 'représentent', 'arbustes', 'flacon', 'goa', 'renouvelé', 'manquante', 'redire', 'attrayant', 'gâché', 'relatif', 'hôtel', 'fila', \"j'utilise\", '2x6', 'conteste', 'taxe', 'compliquées', 'relances', 'honorer', \"qu'avant\", \"l'endroit\", 'quatre', 'comportant', 'gls', 'rappeler', '2019', 'évité', 'remarqué', 'certains', 'es', 'présentation', 'contrairement', 'utilisées', 'décevantes', \"l'attente\", 'supposée', 'exorbitants', 'intéressant', 'discussion', '44', 'invendables', 'base', 'décrite', 'blanche', 'écru', 'concerne', 'endommagés', 'comlande', 'lumisky', 'attendais', '15jours', 'déplore', 'choses', 'tronquée', 'set', 'incertain', 'sertin', 'naturé', 'quitté', 'duré', 'généralement', 'saison', 'longues', 'aperçu', 'adresse', 'inconnue', '2627258', '93', 'ebike', '26', 'moma', 'bike', 'particulièrement', 'jetable', '80', 'articlé', 'mépris', 'partez', 'luminaires', 'défaillant', 'code', 'prélevez', 'réinitialiser', 'essais', 'pense', 'signalez', 'lacroix', '27juillet', '-1244048-1-', 'purline', 'firstline', 'europa', '-1278794-1-', 'calicosy', 'canapés', 'onereux', 'dépassé', 'nouveauté', 'chats', 'conditionnement', 'fausses', 'bonnes', 'sneakers', 'éventré', 'micro', 'ondes', 'plafonnier', 'odeur', 'forte', 'auvergne', 'e-commerce', 'solaire', 'avaot', \"l'emballage\", 'régulière', 'eut', 'ratées', 'garantis', 'disparition', 'soldes', 'économie', 'livrez', 'rarement', 'fois-ci', 'chicco', 'aprés', 'ouverture', 'emballages', 'alimentaires', 'degré', 'satisfaction', 'camaïeu', 'prépayé', 'livréé', 'jouet', 'interactions', 'espagnol', 'supprimé', 'puisque', 'pareil', 'ridicule', 'retards', '59', 'empêchés', 'gratos', 'entre', 'v', 'irrespectueux', 'début', 'juillt', 'caractérisé', 'abaco', 'maku', 'u.bottles', 'organisée', 'frustré', 'tableau', 'lier', 'etat', 'aller', 'détruite', 'techwood', 'repassée', 'eastpack', 'tee-shirt', 'court', 'injoignable', 'lutte', 'filmé', 'améliorer', 'diesel', 'mr', '11', '255', 'diamant', 'forcée', 'mérité', 'simple', 'passés', 'salon', 'fauteuils', '18/06', 'alerte', 'melange', 'pseudo', 'leuir', 'abérration', 'vois', 'arnaquée', 'volée', 'recommanderai', 'mia', 'tomazzi', 'abanico', 'plein', 'mésaventure', 'fuirrrr', 'commercant', \"d'attribuer\", '150', 'salle', 'montant', '04/03', '02/06', 'disneyland', 'pourrie', 'promesses', 'expédiés', 'propose', 'reponse', 'datee', '19.5', 'sucre', 'orge', 'préféré', 'torrente', 'dépareillé', 'scandalisée', 'hybrides', 'tommy', 'hilfiger', 'ice', 'night', 'kitchenaid', 'variables', 'pouvant', 'pouvait', 'fouillez', 'provocatrices', 'escaprins', \"m'y\", 'reprendra', 'commence', 'catimini', \"qu'ont\", 'également', 'geox', 'vient', 'annoncer', 'aimerai', 'dégrade', 'coordonnées', 'bancaires', '679', 'mensongeres', 'réductions', 'lalalab', 'fossil', 'samsung', 'tombe', 'lamarthe', 'puissance', 'pendule', 'achetez', '2525948', 'manger', 'veille', 'remboursee', 'debut', 'fevrier', 'em', 'frauduleuse', 'prennent', 'vraiement', 'consommateurs', 'modifiée', 'siècle', 'repris', 'réservations', 'tarde', 'chaotique', 'perdus', 'diable', 'détails', 'livraison.faites', 'perfect', 'defaut', \"d'aspect\", 'envois', 'r', 'nos', 'ya', 'autrement', 'slips', 'drap', 'apparence', 'prolongation', '2365608', '85', 'casseroles', 'arthur', 'sic', 'bug', 'fiche', 'fantomes', 'derrière', 'vills', 'interiors', 'soupconne', 'balai', 'triste', 'mauvaix', 'parure', 'coiffeuse', 'contrôle', 'mis', 'censé', 'turquoise', 'clientèle', 'marchand', 'nuit', 'fiabilité', '850', '10/12', 'valrhona', 'fantome', 'désastre', 'demain', 'réveillon', '13/12', '1ère', 'sûrement', 'réalisé', 'conséquente', 'commerciale', 'enormes', 'difficultes', '70', '+6,50', '20/11', 'recois', 'delais', 'croire', 'arnaqueur', 'urgences', 'vraie', 'vaut', 'victor', 'hugo', 'brume', 'victoria', \"secret's\", 'bcp', 'madame', 'apelle', 'dubai', 'nuuuuuuullllllllllllll', 'exaspérante', 'air', 'oublient', 'pensé', 'liste', 'groupe', 'gentil', 'réponses', 'inadaptées', 'fidélité', 'ébénes', 'surréalistes', 'forts', 'mecontente', '«', '»', 'volé', 'normalement', 'commerciales', 'frauduleuses', 'charm', 'thomas', 'sabo', 'rage', 'ici', 'cap', \"d'adge\", 'azureva', 'résumé', \"j'aurais\", 'regarder', 'nullard', '94,29', 'problemes', 'devant', 'contenir', 'fauteuil', 'prélèvement', 'vaste', 'action', 'justice', 'afin', 'cesse', 'portes', 'parrure', '06/10', 'écœurée', 'rappel', 'peut-être', 'toxique', 'fournisseurs', 'baléares', '20mn', 'comptes', 'procédé', 'contraindre', 'radins', 'injustes', 'voulez', 'équerre', 'ème', 'requêtes', 'g', 'négatifs', 'fuyer', 'zalando', 'expédiées', 'exprimé', \"j'aimerai\", 'trace', '2ème', 'échec', 'leçon', 'couté', '2621,49', \"n'arrivent\", 'cabine', 'connaissent', 'bannir', 'extremement', 'catasteophique', 'aujourd', 'hui', 'erroné', 'cendrillon', 'cheerz', 'mettrai', 'info', 'indiquées', 'offre', 'alléchante', 'vérification', 'consécutive', 'äne', 'annulable', 'lingerie', 'reconditione', 'serviette', 'balmain', 'habituée', 'étant', 'porté', 'defacto', 'judo', '119e', \"n'achèterai\", 'obligé', 'décourageant', 'guitare', 'classique', 'nuls', 'vacance', 'discrimination', 'handicap', 'infecte', 'envoyée', 'dossier', 'assez', 'puis', 'panneaux', 'acier', 'pots', 'inversée', '1re', 'poufs', 'incompétant', 'tentative', \"n'ais\", 'parfum', 'décès', 'vivement', 'experiences', 'shoroom', 'refusé', 'lin', 'polyester', \"d'année\", 'manipulateurs', 'doublon', 'pointé', 'deja', 'pensant', 'annulees', 'lagoona', 'salut', 'dégradée', 'an', 'showroomprivée', 'sacrée', 'outlet', 'transparent', '2338076', '31', 'reprises', 'effectivement', 'différents', \"l'humour\", 'macbook', 'pro', 'indigne', 'condamnée', 'désir', \"d'informer\", 'honore', 'consideration', 'incomptence', '40', ':p', 'collier', 'reservez', 'déboires', 'encaissée', 'arnaques', 'rembousement', 'renseignements', 'désagréables', 'show-room', 'expédition', 'sirène', 'raz', \"d'attendre\", 'sourde', 'réclamations', 'débitées', 'présentée', 'présentant', 'lunette', 'chine', 'définition', \"l'incompétence\", 'contrefacons', 'assume', 'responsabilités', 'honteuse', 'défectueuses', 'pergola', 'shorom', 'épouvantable', '>', 'partielles', 'meilleurs', 'proposés', 'eastpak', 'manifeste', 'suivi', 'nouveau', 'maison', 'aubertin', 'conséquent', 'déplacé', 'contact', 'manipulation', 'factice', 'attribué', 'mail', '2321320', 'télévision', 'portés', 'sommes', 'réguliers', 'publié', 'desoeuvrant', 'showrooprive.com', 'top', 'perla', 'isla', '75', 'seul', 'furieuse', 'présent', 'suppression', 'données', 'bjrs', 'reviendraie', 'aucunement', 'clientele', 'bénéficié', 'avantage', 'parrainage', 'bonjourarnaque', 'haut', 'incompetence', 'complete', 'preparation', 'histoire', 'répète', 'nd', 'expliqué', 'sympathique', \"l'application\", 'taillés', 'guignols', 'direction', 'apparemment', 'carte', '👎', 'aimé', 'deuxieme', 'net', 'comprends', 'habituel', 'mettent', 'pb', 'avril', 'efficace', 'serieux', 'armoir', 'fils', 'outils', 'connait', 'menteur', 'trottinette', 'e-zigo', 'fuiiiiiiiir', 'réglé', 'annoncée', 'shoowroomprivé', 'peste', 'effacer', 'étoiles', \"l'année\", 'poser', 'eme', 'journée', 'trompé', 'quad', 'rouillé', 'inacceptable', 'bertha', 'heritor', 'enclos', 'de-plo-ra-ble', 'magasin', 'chinois', \"l'annulation\", 'détestable', '😑', 'dessous', 'cadre', 'defoncé', 'bonnement', 'buffet', 'catastrophiques', ';', 'mediocre', 'roi', 'explications', 'gentillesse', 'compétence', 'faible', \"j'arrive\", 'leecooper', 'insolence', 'trouves', 'nasa', 'évitez', 'maintenant', 'dieu', 'gonfle', \"n'achetez\", 'véritable', 'faut', 'arrêter', 'dégradent', 'il.faufrait', 'sauf', 'renvoyer', 'pâtissier', 'absent', 'tarifs', 'attractif', 'signaler', 'mobilier', 'contemporain', 'fonctionnement', '600euros', 'aspirateur', 'bébé', 'reçoit', 'barre', 'renvoi', 'expéditeur', 'confirme', 'dégoûté', 'leurs', 'écrire', 'rejoins', 'lamentablede', 'responsable', 'solde', 'wahou', 'rendez-moi', 'defecteux', \"d'achatss\", 'rembouser', 'prs', 'hannah', 'home', 'constante', 'là', 'question', \"l'arque\", \"l'or\", 'transforme', 'plaqué', 'règles', 'sanitaires', 'masques', 'chirurgicaux', '_tromperie', 'tardive', 'vendre', 'abusé', '06/01', '2202750', '2182805', '41', 'numero', 'premiere', 'contacter', 'marquise', 'mi-décembre', '17237152', '2212231', '81', 'nazar', \"n'avez\", 'interdite', 'créateur', 'saisissez', 'médiateur', 'mtv', 'emballée', 'showroompigeons.com', 'renversé', 'honnêteté', 'fuiiiiir', 'dun', 'peine', 'macadamia', 'entamé', 'respectés', 'mentions', 'liées', \"j'attend\", 'seule', 'gps', 'prixton', 'allumer', 'au-dessous', '2204340', '79', 'essaie', 'merci', 'vouloir', 'enlever', 'anti', 'obag', 'prend', 'fraudeuse', 'vin', 'pré', 'payée', 'saladier', '27,39', 'nature', 'inexistante', 'besoin', 'appelle', 'recommander', '09/12']\n"
     ]
    }
   ],
   "source": [
    "print(mots_tries)"
   ]
  }
 ],
 "metadata": {
  "kernelspec": {
   "display_name": "Python 3 (ipykernel)",
   "language": "python",
   "name": "python3"
  },
  "language_info": {
   "codemirror_mode": {
    "name": "ipython",
    "version": 3
   },
   "file_extension": ".py",
   "mimetype": "text/x-python",
   "name": "python",
   "nbconvert_exporter": "python",
   "pygments_lexer": "ipython3",
   "version": "3.7.9"
  }
 },
 "nbformat": 4,
 "nbformat_minor": 5
}
